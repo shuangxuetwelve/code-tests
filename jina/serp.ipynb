{
 "cells": [
  {
   "cell_type": "code",
   "execution_count": 3,
   "metadata": {},
   "outputs": [
    {
     "data": {
      "text/plain": [
       "True"
      ]
     },
     "execution_count": 3,
     "metadata": {},
     "output_type": "execute_result"
    }
   ],
   "source": [
    "import os\n",
    "import re\n",
    "import requests\n",
    "from pprint import pp\n",
    "\n",
    "from dotenv import load_dotenv\n",
    "load_dotenv()"
   ]
  },
  {
   "cell_type": "code",
   "execution_count": 4,
   "metadata": {},
   "outputs": [
    {
     "name": "stdout",
     "output_type": "stream",
     "text": [
      "Jina AI API key is jina_64001ff85368493e8e4673a2f9b019aanw9j9iYp5gUzW8Miei-zt_mJTAJx\n"
     ]
    }
   ],
   "source": [
    "JINA_API_KEY = os.getenv(\"JINA_API_KEY\")\n",
    "if JINA_API_KEY == None:\n",
    "  raise Exception(\"Jina AI API key is not set\")\n",
    "print(f\"Jina AI API key is {JINA_API_KEY}\")"
   ]
  },
  {
   "cell_type": "code",
   "execution_count": 5,
   "metadata": {},
   "outputs": [
    {
     "name": "stdout",
     "output_type": "stream",
     "text": [
      "Encoded query is \"鱼闪闪+演出行程\"\n"
     ]
    }
   ],
   "source": [
    "query = \"鱼闪闪 演出行程\"\n",
    "query_encoded = re.sub(r\"\\s+\", \"+\", query)\n",
    "print(f\"Encoded query is \\\"{query_encoded}\\\"\")\n",
    "\n",
    "\n",
    "page = 1"
   ]
  },
  {
   "cell_type": "markdown",
   "metadata": {},
   "source": [
    "### Default usage"
   ]
  },
  {
   "cell_type": "code",
   "execution_count": 6,
   "metadata": {},
   "outputs": [
    {
     "name": "stdout",
     "output_type": "stream",
     "text": [
      "Response status code: 200\n",
      "('[1] Title: 2025年1月鱼闪闪演出行程- 抖音\\n'\n",
      " '[1] URL Source: '\n",
      " 'https://www.douyin.com/search/2025%E5%B9%B41%E6%9C%88%E9%B1%BC%E9%97%AA%E9%97%AA%E6%BC%94%E5%87%BA%E8%A1%8C%E7%A8%8B\\n'\n",
      " '[1] Description: 2025年1月鱼闪闪演出行程  00:00 '\n",
      " '鱼闪闪创产新春路演，1.29-2.2大年初一-大年初五，下午15：00-18：00泡泡广场。\\n'\n",
      " '\\n'\n",
      " '[2] Title: 魚閃閃bling《煌》\\n'\n",
      " '[2] URL Source: https://www.facebook.com/bling1761\\n'\n",
      " '[2] Description: \\U000f0927 15. 魚閃閃bling《煌》. 1d · \\U000f07e0. \\U000f07dd. '\n",
      " '#鱼闪闪bling #演唱会 #岷县 #在微岷看岷县 #岷州群星演唱会 6月12日，2025，音你而动，岷州群星演唱会，共赴地域文化与音乐的跨界盛宴！\\n'\n",
      " '\\n'\n",
      " '[3] Title: 鱼闪闪演唱会2025巡演行程安排时间表丨明星经纪公司\\n'\n",
      " '[3] URL Source: '\n",
      " 'http://www.zgmxjjgs.com/info/ShowInfo.php?id=244682&tempid=123&classid=1271\\n'\n",
      " '[3] Description: 2022年9月9日，参加元宇宙综艺竞演歌会《超能音乐汇》 。 '\n",
      " '2023年2月26日，参加《YY2022年度巅峰盛典》，与番禹区新桥武术醒狮队表演《长路漫漫伴你闯》。\\n'\n",
      " '[3] Date: Jun 2, 2024\\n'\n",
      " '\\n'\n",
      " '[4] Title: 音你而动，岷州群星演唱会，共赴地域文化与音乐的跨界盛宴！\\n'\n",
      " '[4] URL Source: https://www.instagram.com/reel/DJ9kjVLspCL\\n'\n",
      " '[4] Description: #鱼闪闪bling #演唱会 #岷县 #在微岷看岷县 #岷州群星演唱会 '\n",
      " '6月12日，2025，音你而动，岷州群星演唱会，共赴地域文化与音乐的跨界盛宴！ · 一转身就沉入海平线@\\n'\n",
      " '[4] Date: May 22, 2025\\n'\n",
      " '\\n'\n",
      " '[5] Title: 魚閃閃BLING《煌K》 | 《五月路演＆商演行程通知  - Instagram\\n'\n",
      " '[5] URL Source: https://www.instagram.com/p/DJFueLVSkf7\\n'\n",
      " '[5] Description: 【商演】 5月1日至5月4日（每晚一場，共四場）：甘肅蘭州迷妮民謠酒吧 【路演】 '\n",
      " '5月17日：廣東省廣州市天河區美林天地西座（官方路演） #魚閃閃 #鱼闪闪 #魚閃閃\\n'\n",
      " '[5] Date: Apr 30, 2025\\n'\n",
      " '\\n'\n",
      " '[6] Title: 鱼闪闪bling路演行程 - 抖音\\n'\n",
      " '[6] URL Source: '\n",
      " 'https://www.douyin.com/search/%E9%B1%BC%E9%97%AA%E9%97%AAbling%E8%B7%AF%E6%BC%94%E8%A1%8C%E7%A8%8B\\n'\n",
      " '[6] Description: 鱼闪闪bling路演行程  大家心心念念的广州路演来了，万达广场2号门，12月14日鱼你同在，闪闪发光。  '\n",
      " '#鱼闪闪bling 生日路演4.3广州天河区美林天地19：00~21：00鱼你不见不散！！\\n'\n",
      " '\\n'\n",
      " '[7] Title: 魚閃閃BLING《煌K》 - YouTube\\n'\n",
      " '[7] URL Source: https://www.youtube.com/channel/UCBcybqAZAmStmWwLhAKCRNA\\n'\n",
      " '[7] Description: 准备好带我一起去旅行了吗～？ #工地#户外唱歌#带你去旅行#翻唱#甜美女孩  演出现场#路人视角#鱼闪闪bling '\n",
      " '#美人鱼. 8.2K views · 看够了远方就来看我吧#翻唱\\n'\n",
      " '\\n'\n",
      " '[8] Title: 魚閃閃bling《煌》 - 新年倒數～   《新春路演》和《穿越時空的家書\\n'\n",
      " '[8] URL Source: '\n",
      " 'https://www.facebook.com/story.php?story_fbid=606957642245290&id=100087931790379\\n'\n",
      " '[8] Description: 新年倒數～ 《新春路演》和《穿越時空的家書》已經在路上啦！ ☆路演行程通知☆： '\n",
      " '新年初一至初五（1/29～2/2）時間18 - 21點地點：佛山禪城區創意產業園泡泡廣場☆守護團\\n'\n",
      " '\\n'\n",
      " '[9] Title: 鱼闪闪演出邀约丨明星乐队经纪人丨明星乐队经纪公司商演邀约咨询\\n'\n",
      " '[9] URL Source: '\n",
      " 'http://www.zgmxjjgs.com/info/ShowInfo.php?id=244664&tempid=84&classid=1253\\n'\n",
      " '[9] Description: 2022年9月9日，参加元宇宙综艺竞演歌会《超能音乐汇》 。 '\n",
      " '2023年2月26日，参加《YY2022年度巅峰盛典》，与番禹区新桥武术醒狮队表演《长路漫漫伴你闯》。\\n'\n",
      " '\\n'\n",
      " '[10] Title: 魚閃閃BLING - 戶外唱歌《2025.03.18》【運城萬達  - YouTube\\n'\n",
      " '[10] URL Source: '\n",
      " 'https://www.youtube.com/watch?v=OT01C2SYrGg&pp=0gcJCc0AaK0XXGki\\n'\n",
      " '[10] Description: 魚閃閃路演#魚閃閃走播#走播#運城#路演#路演完整版#鱼闪闪#鱼闪闪bling #鱼闪闪BLING '\n",
      " '#魚閃閃bling #完整版鱼闪闪BLING - 户外唱歌《2025.03.18》\\n'\n",
      " '[10] Date: Mar 25, 2025\\n')\n"
     ]
    }
   ],
   "source": [
    "url = f\"https://s.jina.ai/?q={query_encoded}&page={page}\"\n",
    "\n",
    "headers = {\n",
    "    \"Authorization\": f\"Bearer {JINA_API_KEY}\",\n",
    "    \"X-Respond-With\": \"no-content\"\n",
    "}\n",
    "\n",
    "response = requests.get(url, headers=headers)\n",
    "\n",
    "print(f\"Response status code: {response.status_code}\")\n",
    "response.encoding = \"utf-8\"\n",
    "pp(response.text)"
   ]
  },
  {
   "cell_type": "markdown",
   "metadata": {},
   "source": [
    "### JSON Response"
   ]
  },
  {
   "cell_type": "code",
   "execution_count": 9,
   "metadata": {},
   "outputs": [
    {
     "name": "stdout",
     "output_type": "stream",
     "text": [
      "Response status code: 200\n",
      "{'code': 200,\n",
      " 'status': 20000,\n",
      " 'data': [{'title': '2025年1月鱼闪闪演出行程- 抖音',\n",
      "           'url': 'https://www.douyin.com/search/2025%E5%B9%B41%E6%9C%88%E9%B1%BC%E9%97%AA%E9%97%AA%E6%BC%94%E5%87%BA%E8%A1%8C%E7%A8%8B',\n",
      "           'description': '2025年1月鱼闪闪演出行程  00:00 '\n",
      "                          '鱼闪闪创产新春路演，1.29-2.2大年初一-大年初五，下午15：00-18：00泡泡广场。',\n",
      "           'usage': {'tokens': 1000}},\n",
      "          {'title': '魚閃閃bling《煌》',\n",
      "           'url': 'https://www.facebook.com/bling1761',\n",
      "           'description': '\\U000f0927 15. 魚閃閃bling《煌》. 1d · \\U000f07e0. '\n",
      "                          '\\U000f07dd. #鱼闪闪bling #演唱会 #岷县 #在微岷看岷县 #岷州群星演唱会 '\n",
      "                          '6月12日，2025，音你而动，岷州群星演唱会，共赴地域文化与音乐的跨界盛宴！',\n",
      "           'usage': {'tokens': 1000}},\n",
      "          {'title': '鱼闪闪演唱会2025巡演行程安排时间表丨明星经纪公司',\n",
      "           'url': 'http://www.zgmxjjgs.com/info/ShowInfo.php?id=244682&tempid=123&classid=1271',\n",
      "           'description': '2022年9月9日，参加元宇宙综艺竞演歌会《超能音乐汇》 。 '\n",
      "                          '2023年2月26日，参加《YY2022年度巅峰盛典》，与番禹区新桥武术醒狮队表演《长路漫漫伴你闯》。',\n",
      "           'date': 'Jun 2, 2024',\n",
      "           'usage': {'tokens': 1000}},\n",
      "          {'title': '音你而动，岷州群星演唱会，共赴地域文化与音乐的跨界盛宴！',\n",
      "           'url': 'https://www.instagram.com/reel/DJ9kjVLspCL',\n",
      "           'description': '#鱼闪闪bling #演唱会 #岷县 #在微岷看岷县 #岷州群星演唱会 '\n",
      "                          '6月12日，2025，音你而动，岷州群星演唱会，共赴地域文化与音乐的跨界盛宴！ · '\n",
      "                          '一转身就沉入海平线@',\n",
      "           'date': 'May 22, 2025',\n",
      "           'usage': {'tokens': 1000}},\n",
      "          {'title': '魚閃閃BLING《煌K》 | 《五月路演＆商演行程通知  - Instagram',\n",
      "           'url': 'https://www.instagram.com/p/DJFueLVSkf7',\n",
      "           'description': '【商演】 5月1日至5月4日（每晚一場，共四場）：甘肅蘭州迷妮民謠酒吧 【路演】 '\n",
      "                          '5月17日：廣東省廣州市天河區美林天地西座（官方路演） #魚閃閃 #鱼闪闪 #魚閃閃',\n",
      "           'date': 'Apr 30, 2025',\n",
      "           'usage': {'tokens': 1000}},\n",
      "          {'title': '鱼闪闪bling路演行程 - 抖音',\n",
      "           'url': 'https://www.douyin.com/search/%E9%B1%BC%E9%97%AA%E9%97%AAbling%E8%B7%AF%E6%BC%94%E8%A1%8C%E7%A8%8B',\n",
      "           'description': '鱼闪闪bling路演行程  '\n",
      "                          '大家心心念念的广州路演来了，万达广场2号门，12月14日鱼你同在，闪闪发光。  #鱼闪闪bling '\n",
      "                          '生日路演4.3广州天河区美林天地19：00~21：00鱼你不见不散！！',\n",
      "           'usage': {'tokens': 1000}},\n",
      "          {'title': '魚閃閃BLING《煌K》 - YouTube',\n",
      "           'url': 'https://www.youtube.com/channel/UCBcybqAZAmStmWwLhAKCRNA',\n",
      "           'description': '准备好带我一起去旅行了吗～？ #工地#户外唱歌#带你去旅行#翻唱#甜美女孩  '\n",
      "                          '演出现场#路人视角#鱼闪闪bling #美人鱼. 8.2K views · 看够了远方就来看我吧#翻唱',\n",
      "           'usage': {'tokens': 1000}},\n",
      "          {'title': '魚閃閃bling《煌》 - 新年倒數～   《新春路演》和《穿越時空的家書',\n",
      "           'url': 'https://www.facebook.com/story.php?story_fbid=606957642245290&id=100087931790379',\n",
      "           'description': '新年倒數～ 《新春路演》和《穿越時空的家書》已經在路上啦！ ☆路演行程通知☆： '\n",
      "                          '新年初一至初五（1/29～2/2）時間18 - 21點地點：佛山禪城區創意產業園泡泡廣場☆守護團',\n",
      "           'usage': {'tokens': 1000}},\n",
      "          {'title': '鱼闪闪演出邀约丨明星乐队经纪人丨明星乐队经纪公司商演邀约咨询',\n",
      "           'url': 'http://www.zgmxjjgs.com/info/ShowInfo.php?id=244664&tempid=84&classid=1253',\n",
      "           'description': '2022年9月9日，参加元宇宙综艺竞演歌会《超能音乐汇》 。 '\n",
      "                          '2023年2月26日，参加《YY2022年度巅峰盛典》，与番禹区新桥武术醒狮队表演《长路漫漫伴你闯》。',\n",
      "           'usage': {'tokens': 1000}},\n",
      "          {'title': '魚閃閃BLING - 戶外唱歌《2025.03.18》【運城萬達  - YouTube',\n",
      "           'url': 'https://www.youtube.com/watch?v=OT01C2SYrGg&pp=0gcJCc0AaK0XXGki',\n",
      "           'description': '魚閃閃路演#魚閃閃走播#走播#運城#路演#路演完整版#鱼闪闪#鱼闪闪bling #鱼闪闪BLING '\n",
      "                          '#魚閃閃bling #完整版鱼闪闪BLING - 户外唱歌《2025.03.18》',\n",
      "           'date': 'Mar 25, 2025',\n",
      "           'usage': {'tokens': 1000}}],\n",
      " 'meta': {'usage': {'tokens': 10000}}}\n"
     ]
    }
   ],
   "source": [
    "url = f\"https://s.jina.ai/?q={query_encoded}&page={page}\"\n",
    "\n",
    "headers = {\n",
    "    \"Authorization\": f\"Bearer {JINA_API_KEY}\",\n",
    "    \"Accept\": \"application/json\",\n",
    "    \"X-Respond-With\": \"no-content\"\n",
    "}\n",
    "\n",
    "response = requests.get(url, headers=headers)\n",
    "\n",
    "print(f\"Response status code: {response.status_code}\")\n",
    "response.encoding = \"utf-8\"\n",
    "pp(response.json())"
   ]
  }
 ],
 "metadata": {
  "kernelspec": {
   "display_name": "ai-scout-trial-0",
   "language": "python",
   "name": "python3"
  },
  "language_info": {
   "codemirror_mode": {
    "name": "ipython",
    "version": 3
   },
   "file_extension": ".py",
   "mimetype": "text/x-python",
   "name": "python",
   "nbconvert_exporter": "python",
   "pygments_lexer": "ipython3",
   "version": "3.12.9"
  }
 },
 "nbformat": 4,
 "nbformat_minor": 2
}
