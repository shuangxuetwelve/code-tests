{
 "cells": [
  {
   "cell_type": "markdown",
   "metadata": {},
   "source": [
    "# Scraper Tests - Jina\n",
    "\n",
    "这个文件针对如下网页的爬取进行了测试（✅代表完全成功；❎代表能够正常爬取页面，但拿不到完整的信息；❌代表无法正常爬取）：\n",
    "1. ✅ [https://www.douyin.com/jingxuan](https://www.douyin.com/jingxuan)：应该爬取到抖音精选视频列表，成功\n",
    "2. ❌ [https://v.douyin.com/9e-f6rvzNwg/](https://v.douyin.com/9e-f6rvzNwg/)：应该爬取鱼闪闪的抖音主页，失败，被验证码阻挡\n",
    "3. ❎ [https://www.youtube.com/channel/UCBcybqAZAmStmWwLhAKCRNA](https://www.youtube.com/channel/UCBcybqAZAmStmWwLhAKCRNA)：应该爬取到煌哥Youtube主页，成功，但爬不到需要点击more才能看到的完整简介\n",
    "4. ❎ [https://www.facebook.com/bling1761](https://www.facebook.com/bling1761)：应该爬取到煌哥Facebook主页，成功，但没有登陆好像只能拿到第一条推文\n",
    "5. ❌ [https://x.com/FishBling1761](https://x.com/FishBling1761)：应该爬取到BLING's WorldVenture的X主页，失败，被登陆页面阻挡\n",
    "6. ❌ [https://www.instagram.com/bling17613/](https://www.instagram.com/bling17613/)：应该爬取到煌哥的Instagram主面，失败，被登陆页面阻挡\n",
    "7. ✅ [https://www.tiktok.com/@1761bling_](https://www.tiktok.com/@1761bling_)：应该爬取到TikTok上最大的一个闪闪的账号，成功\n",
    "8. ✅ [https://techcrunch.com/category/artificial-intelligence/](https://techcrunch.com/category/artificial-intelligence/)：应该爬取到TechCrunch上的AI新闻列表，成功\n",
    "\n",
    "## Environments\n",
    "\n",
    "Install Python packages below:\n",
    "```sh\n",
    "pip install python-dotenv\n",
    "```"
   ]
  },
  {
   "cell_type": "code",
   "execution_count": 1,
   "metadata": {},
   "outputs": [
    {
     "name": "stdout",
     "output_type": "stream",
     "text": [
      "Jina AI API key is jina_64001ff85368493e8e4673a2f9b019aanw9j9iYp5gUzW8Miei-zt_mJTAJx\n"
     ]
    }
   ],
   "source": [
    "import os\n",
    "import requests\n",
    "from pprint import pp\n",
    "\n",
    "from dotenv import load_dotenv\n",
    "load_dotenv()\n",
    "\n",
    "JINA_API_KEY = os.getenv(\"JINA_API_KEY\")\n",
    "if JINA_API_KEY == None:\n",
    "  raise Exception(\"Jina AI API key is not set\")\n",
    "print(f\"Jina AI API key is {JINA_API_KEY}\")"
   ]
  },
  {
   "cell_type": "code",
   "execution_count": 2,
   "metadata": {},
   "outputs": [],
   "source": [
    "url_target_1 = \"https://www.douyin.com/jingxuan\"\n",
    "url_target_2 = \"https://v.douyin.com/9e-f6rvzNwg/\"\n",
    "url_target_3 = \"https://www.youtube.com/channel/UCBcybqAZAmStmWwLhAKCRNA\"\n",
    "url_target_4 = \"https://www.facebook.com/bling1761\"\n",
    "url_target_5 = \"https://x.com/FishBling1761\"\n",
    "url_target_6 = \"https://www.instagram.com/bling17613/\"\n",
    "url_target_7 = \"https://www.tiktok.com/@1761bling_\"\n",
    "url_target_8 = \"https://techcrunch.com/category/artificial-intelligence/\"\n",
    "\n",
    "url_target = url_target_8\n",
    "url = f\"https://r.jina.ai/{url_target}\""
   ]
  },
  {
   "cell_type": "code",
   "execution_count": 3,
   "metadata": {},
   "outputs": [
    {
     "name": "stdout",
     "output_type": "stream",
     "text": [
      "Response status code: 402\n",
      "{'data': None,\n",
      " 'code': 402,\n",
      " 'name': 'InsufficientBalanceError',\n",
      " 'status': 40203,\n",
      " 'message': 'Account balance not enough to run this query, please recharge.',\n",
      " 'readableMessage': 'InsufficientBalanceError: Account balance not enough to '\n",
      "                    'run this query, please recharge.'}\n"
     ]
    }
   ],
   "source": [
    "headers = {\n",
    "    \"Authorization\": f\"Bearer {JINA_API_KEY}\",\n",
    "    \"Accept\": \"application/json\",\n",
    "    \"X-Return-Format\": \"markdown\",\n",
    "    \"X-Engine\": \"browser\",\n",
    "    \"X-No-Cache\": \"true\"\n",
    "}\n",
    "\n",
    "response = requests.get(url, headers=headers)\n",
    "\n",
    "print(f\"Response status code: {response.status_code}\")\n",
    "pp(response.json())"
   ]
  }
 ],
 "metadata": {
  "kernelspec": {
   "display_name": "base",
   "language": "python",
   "name": "python3"
  },
  "language_info": {
   "codemirror_mode": {
    "name": "ipython",
    "version": 3
   },
   "file_extension": ".py",
   "mimetype": "text/x-python",
   "name": "python",
   "nbconvert_exporter": "python",
   "pygments_lexer": "ipython3",
   "version": "3.12.9"
  }
 },
 "nbformat": 4,
 "nbformat_minor": 2
}
