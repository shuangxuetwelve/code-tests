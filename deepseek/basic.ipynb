{
 "cells": [
  {
   "cell_type": "markdown",
   "metadata": {},
   "source": [
    "# Test Anthropic Python SDK - Basic Usage\n",
    "\n",
    "This code example demonstrates a multi-turn conversation with system prompt and without tool use.\n",
    "\n",
    "## Environment\n",
    "\n",
    "DeepSeek uses OpenAI Python SDK\n",
    "\n",
    "```sh\n",
    "pip install openai python-dotenv\n",
    "```"
   ]
  },
  {
   "cell_type": "markdown",
   "metadata": {},
   "source": [
    "## Codes"
   ]
  },
  {
   "cell_type": "markdown",
   "metadata": {},
   "source": [
    "### Imports and Initialization"
   ]
  },
  {
   "cell_type": "markdown",
   "metadata": {},
   "source": [
    "### Send First Message"
   ]
  },
  {
   "cell_type": "code",
   "execution_count": 4,
   "metadata": {},
   "outputs": [],
   "source": [
    "import os\n",
    "\n",
    "from dotenv import load_dotenv\n",
    "load_dotenv()\n",
    "\n",
    "from openai import OpenAI\n",
    "\n",
    "client = OpenAI(api_key=os.getenv(\"DEEPSEEK_API_KEY\"), base_url=\"https://api.deepseek.com\")"
   ]
  },
  {
   "cell_type": "code",
   "execution_count": 5,
   "metadata": {},
   "outputs": [
    {
     "name": "stdout",
     "output_type": "stream",
     "text": [
      "Text response: 要查找鱼闪闪的最新演出行程，可以通过以下途径获取可靠信息：\n",
      "\n",
      "1. **社交媒体账号**  \n",
      "   - **微博**：鱼闪闪若已认证账号，通常会发布演出动态（搜索“鱼闪闪BLING”或相关关键词）。  \n",
      "   - **抖音/快手**：许多网红歌手会在短视频平台更新行程，可关注她的官方账号。  \n",
      "\n",
      "2. **音乐平台**  \n",
      "   - **网易云音乐/QQ音乐**：查看艺人主页的“艺人动态”或“演出”栏目。  \n",
      "\n",
      "3. **直播平台**  \n",
      "   - 若她主要在**YY直播、斗鱼、B站**等平台活动，可关注直播间公告或粉丝群通知。  \n",
      "\n",
      "4. **经纪公司或工作室**  \n",
      "   - 通过公开渠道查询她是否签约公司（如无忧传媒等），并关注公司官方发布的艺人行程。  \n",
      "\n",
      "5. **票务平台**  \n",
      "   - **大麦网、猫眼演出**：搜索“鱼闪闪”查看是否有公开售票的演出。  \n",
      "\n",
      "**注意事项**：  \n",
      "- 非官方信息需谨慎核实，避免通过非正规渠道购票。  \n",
      "- 部分小型商演可能仅通过本地宣传或粉丝群通知，可加入她的官方粉丝社群获取资讯。  \n",
      "\n",
      "建议优先从她本人或团队的公开账号获取信息，确保准确性。\n"
     ]
    }
   ],
   "source": [
    "messages = [\n",
    "  {\"role\": \"system\", \"content\": \"You are a helpful assistant.\"},\n",
    "  {\"role\": \"user\", \"content\": \"鱼闪闪是中国的一位网红歌手，到哪里能够查找到她最新的演出行程？\"},\n",
    "]\n",
    "\n",
    "response = client.chat.completions.create(\n",
    "  model=\"deepseek-chat\",\n",
    "  messages=messages\n",
    ")\n",
    "\n",
    "print(\"Text response:\", response.choices[0].message.content)"
   ]
  },
  {
   "cell_type": "markdown",
   "metadata": {},
   "source": [
    "### Send Second Message"
   ]
  },
  {
   "cell_type": "code",
   "execution_count": 6,
   "metadata": {},
   "outputs": [
    {
     "name": "stdout",
     "output_type": "stream",
     "text": [
      "Text response: 为了高效且系统地查找鱼闪闪的最新演出行程，建议按照以下优先级顺序进行，从最直接、最官方的渠道开始，逐步扩展到其他辅助渠道：\n",
      "\n",
      "---\n",
      "\n",
      "### **1. 首选：本人或团队的官方公开账号**  \n",
      "   - **目的**：获取最权威、最及时的一手信息。  \n",
      "   - **渠道**：  \n",
      "     - **微博**：搜索“鱼闪闪BLING”或相关关键词，查看认证账号的置顶帖、近期动态。  \n",
      "     - **抖音/快手/B站**：检查简介中是否有“演出合作联系方式”或公告栏链接。  \n",
      "     - **微信公众平台**（如有）：部分艺人会通过公众号发布行程。  \n",
      "   - **关键动作**：  \n",
      "     - 关注账号并开启“新帖提醒”。  \n",
      "     - 查看是否有“巡演公告”“直播预告”等标签内容。  \n",
      "\n",
      "---\n",
      "\n",
      "### **2. 次选：直播平台主页（如主要活动平台）**  \n",
      "   - **适用情况**：如果鱼闪闪是直播歌手（如YY、斗鱼、B站主播）。  \n",
      "   - **渠道**：  \n",
      "     - 进入她的**直播间**，查看公告或粉丝群入口。  \n",
      "     - 注意直播间的标题或封面图（常会写近期活动）。  \n",
      "   - **关键动作**：  \n",
      "     - 加入官方粉丝群（通常管理员会同步行程）。  \n",
      "\n",
      "---\n",
      "\n",
      "### **3. 音乐/视频平台的艺人页面**  \n",
      "   - **渠道**：  \n",
      "     - **网易云音乐/QQ音乐**：搜索“鱼闪闪”，查看艺人主页的“动态”或“演出”栏目。  \n",
      "     - **B站/YouTube**：查看视频简介或评论区是否有行程预告。  \n",
      "   - **注意**：部分小型演出可能仅在此类平台更新。  \n",
      "\n",
      "---\n",
      "\n",
      "### **4. 票务平台（针对公开售票的演出）**  \n",
      "   - **渠道**：  \n",
      "     - **大麦网、猫眼演出、秀动**：直接搜索“鱼闪闪”。  \n",
      "     - **票星球、微票儿**：覆盖部分线下Livehouse演出。  \n",
      "   - **关键动作**：  \n",
      "     - 若无结果，可设置“开售提醒”以防遗漏。  \n",
      "\n",
      "---\n",
      "\n",
      "### **5. 经纪公司或合作方公告**  \n",
      "   - **适用情况**：如果鱼闪闪签约了公司（如无忧传媒、小象大鹅等）。  \n",
      "   - **渠道**：  \n",
      "     - 搜索“鱼闪闪 经纪公司”，找到公司官网或微博，查看艺人行程板块。  \n",
      "\n",
      "---\n",
      "\n",
      "### **6. 粉丝社群与论坛（补充渠道）**  \n",
      "   - **渠道**：  \n",
      "     - **微博超话、贴吧**：搜索“鱼闪闪吧”或超话，查看粉丝整理的行程帖。  \n",
      "     - **豆瓣小组/小红书**：部分粉丝会搬运演出信息。  \n",
      "   - **注意**：需交叉验证信息真实性，避免谣言。  \n",
      "\n",
      "---\n",
      "\n",
      "### **7. 地方媒体或线下场所公告**  \n",
      "   - **适用情况**：小型商演（如商场活动、音乐节）。  \n",
      "   - **渠道**：  \n",
      "     - 本地生活号（如“XX城市吃喝玩乐”微博/公众号）。  \n",
      "     - 演出场所的官方账号（如酒吧、Livehouse）。  \n",
      "\n",
      "---\n",
      "\n",
      "### **总结顺序流程图**：  \n",
      "```\n",
      "官方账号（微博/抖音） → 直播平台 → 音乐平台 → 票务平台  \n",
      "→ 经纪公司 → 粉丝社群 → 地方媒体  \n",
      "```\n",
      "\n",
      "**提醒**：  \n",
      "- 优先依赖官方渠道，避免黄牛或非正规信息。  \n",
      "- 若长时间无更新，可尝试私信团队（但需注意礼貌）。  \n",
      "\n",
      "希望你能快速找到她的演出信息！如果有具体平台需要进一步指导，可以告诉我。\n"
     ]
    }
   ],
   "source": [
    "messages.append(response.choices[0].message)\n",
    "messages.append({\"role\": \"user\", \"content\": \"我应该按照什么样的顺序去查找？\"})\n",
    "\n",
    "response = client.chat.completions.create(\n",
    "  model=\"deepseek-chat\",\n",
    "  messages=messages\n",
    ")\n",
    "\n",
    "print(\"Text response:\", response.choices[0].message.content)"
   ]
  }
 ],
 "metadata": {
  "kernelspec": {
   "display_name": "openai",
   "language": "python",
   "name": "python3"
  },
  "language_info": {
   "codemirror_mode": {
    "name": "ipython",
    "version": 3
   },
   "file_extension": ".py",
   "mimetype": "text/x-python",
   "name": "python",
   "nbconvert_exporter": "python",
   "pygments_lexer": "ipython3",
   "version": "3.12.9"
  }
 },
 "nbformat": 4,
 "nbformat_minor": 2
}
