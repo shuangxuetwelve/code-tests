{
 "cells": [
  {
   "cell_type": "markdown",
   "metadata": {},
   "source": [
    "# Test Anthropic Python SDK - Reasoner Model\n",
    "\n",
    "This code example demonstrates a multi-turn conversation with the reasoner model.\n",
    "\n",
    "## Environment\n",
    "\n",
    "DeepSeek uses OpenAI Python SDK\n",
    "\n",
    "```sh\n",
    "pip install openai python-dotenv\n",
    "```"
   ]
  },
  {
   "cell_type": "markdown",
   "metadata": {},
   "source": [
    "## Codes"
   ]
  },
  {
   "cell_type": "markdown",
   "metadata": {},
   "source": [
    "### Imports and Initialization"
   ]
  },
  {
   "cell_type": "code",
   "execution_count": 1,
   "metadata": {},
   "outputs": [],
   "source": [
    "import os\n",
    "\n",
    "from dotenv import load_dotenv\n",
    "load_dotenv()\n",
    "\n",
    "from openai import OpenAI\n",
    "\n",
    "client = OpenAI(api_key=os.getenv(\"DEEPSEEK_API_KEY\"), base_url=\"https://api.deepseek.com\")"
   ]
  },
  {
   "cell_type": "markdown",
   "metadata": {},
   "source": [
    "### Send First Message"
   ]
  },
  {
   "cell_type": "code",
   "execution_count": 7,
   "metadata": {},
   "outputs": [
    {
     "name": "stdout",
     "output_type": "stream",
     "text": [
      "Thought response: 嗯，用户想查鱼闪闪的最新演出行程。鱼闪闪是斗鱼平台比较火的虚拟歌姬兼真人歌手，最近在《乘风2024》里也露过脸，知名度上升挺快的。这类网红歌手的演出信息通常比较分散，得帮用户梳理几个靠谱渠道。\n",
      "\n",
      "用户可能是粉丝想追现场，或者商务合作方需要联系档期。如果是粉丝，更关心公开售票信息；如果是商务需求，可能需要经纪联系方式。不过用户没明说，先按粉丝需求推荐吧。\n",
      "\n",
      "核心渠道肯定是她的直播间。网红歌手习惯第一时间在直播里预告行程，粉丝互动时也会反复提醒。社交平台方面，微博是最官方的，但抖音和B站也得覆盖到，毕竟不同平台受众不同。线下演出主办方账号反而要谨慎推荐——比如音乐节海报可能临时变动，直接查官方信息更准。\n",
      "\n",
      "啊，差点忘了提醒用户区分“鱼闪闪”和“一条小团团”，两人都是斗鱼歌手，名字容易混淆。上次就有粉丝跑错场子，得备注清楚。另外这类演出票务紧张，得提前强调蹲点抢票的必要性。\n",
      "\n",
      "最后加个主动帮忙的尾巴吧。虽然实时行程没法代查，但万一用户需要歌曲推荐或者直播间指路呢？留个口子总没错。\n",
      "Text response: 要查找鱼闪闪的最新演出行程，可以通过以下几个官方和常用渠道获取最准确的信息：\n",
      "\n",
      "---\n",
      "\n",
      "### **1. 社交媒体账号（首选渠道）**\n",
      "   - **微博**  \n",
      "     搜索她的官方微博账号 **@鱼闪闪**，艺人通常会在微博发布演出预告、票务信息和直播动态。  \n",
      "     👉 [点击进入微博搜索](https://s.weibo.com/)\n",
      "   - **抖音/快手**  \n",
      "     她的个人账号（如抖音 **@鱼闪闪**）会更新演出花絮和行程，直播时也可能透露近期安排。\n",
      "   - **B站（哔哩哔哩）**  \n",
      "     作为活跃的UP主，她可能在B站动态或视频中公布线下活动（账号：**@鱼闪闪**）。\n",
      "\n",
      "---\n",
      "\n",
      "### **2. 直播平台公告**\n",
      "   - **斗鱼直播**  \n",
      "     鱼闪闪是斗鱼人气主播（房间号：**101**），直播间标题、公告栏或直播口播会提前说明行程。  \n",
      "     👉 [斗鱼鱼闪闪直播间](https://www.douyu.com/101)\n",
      "\n",
      "---\n",
      "\n",
      "### **3. 票务平台**\n",
      "   - **大麦网/猫眼演出/秀动**  \n",
      "     搜索“鱼闪闪”查看是否有公开售票的演唱会、音乐节或商演。  \n",
      "     🔍 推荐平台：  \n",
      "     - [大麦网](https://www.damai.cn/)  \n",
      "     - [猫眼演出](https://maoyan.com/ver/perform)  \n",
      "     - [秀动](https://www.showstart.com/)\n",
      "\n",
      "---\n",
      "\n",
      "### **4. 音乐节/活动主办方**\n",
      "   - 若她参与**音乐节（如草莓音乐节、咪豆音乐节等）**，关注主办方官微或公众号获取阵容表。\n",
      "\n",
      "---\n",
      "\n",
      "### **5. 粉丝后援会**\n",
      "   - 加入微博超话 **#鱼闪闪#** 或粉丝QQ群，核心粉丝常会整理行程分享（注意辨别信息真实性）。\n",
      "\n",
      "---\n",
      "\n",
      "### ⚠️ 注意事项：\n",
      "1. **优先以本人账号信息为准**，谨防非官方渠道的虚假宣传。\n",
      "2. 部分小型商演可能仅通过线下或直播预告，不会全网发布。\n",
      "3. 若近期无公开行程，可能是筹备新作品或参与封闭录制（如综艺节目）。\n",
      "\n",
      "---\n",
      "\n",
      "如果需要进一步协助（如账号链接验证、演出信息检索），可以告诉我，我会尽力帮你查找最新动态！ 🌟\n"
     ]
    }
   ],
   "source": [
    "messages = [\n",
    "  {\"role\": \"system\", \"content\": \"You are a helpful assistant.\"},\n",
    "  {\"role\": \"user\", \"content\": \"鱼闪闪是中国的一位网红歌手，到哪里能够查找到她最新的演出行程？\"},\n",
    "]\n",
    "\n",
    "response = client.chat.completions.create(\n",
    "  model=\"deepseek-reasoner\",\n",
    "  messages=messages\n",
    ")\n",
    "\n",
    "print(\"Thought response:\", response.choices[0].message.reasoning_content)\n",
    "print(\"Text response:\", response.choices[0].message.content)"
   ]
  },
  {
   "cell_type": "markdown",
   "metadata": {},
   "source": [
    "### Send Second Message"
   ]
  },
  {
   "cell_type": "code",
   "execution_count": 8,
   "metadata": {},
   "outputs": [
    {
     "name": "stdout",
     "output_type": "stream",
     "text": [
      "Thought response: 嗯，用户现在问的是“应该按照什么样的顺序去查找”，看来之前提供的多个渠道让ta有点选择困难了。用户可能是个刚关注鱼闪闪的新粉，或者平时不太追线下演出，需要更清晰的行动指南。\n",
      "\n",
      "ta的真实需求不仅是“哪里能查”，更是“怎么高效查”——毕竟现代人信息过载，ta可能希望用最少时间获得最可靠的结果。从ta追问顺序的行为看，性格偏理性，喜欢条理化的解决方案。\n",
      "\n",
      "我上次回复虽然分类详细，但确实没明确优先级。这次要突出“漏斗式排查”的逻辑：从最权威的艺人自身渠道开始（避免假消息），再到合作方平台（效率高），最后是粉丝社群（补充信息）。尤其要强调“官方渠道优先”这个原则，很多新人容易轻信黄牛或虚假通告。\n",
      "\n",
      "对了，用户没提是否愿意付费查询票务，所以把免费渠道（社交媒体）排付费平台（大麦网）前面更安全。如果ta后续表现出购票意向，再细化票务攻略。\n",
      "\n",
      "具体顺序设计成阶梯式：第一步10秒内能搞定（微博搜索），万一没结果再逐步深入。最后一步的粉丝群要加风险提示——毕竟饭圈信息鱼龙混杂，得提醒ta交叉验证。\n",
      "Text response: 根据信息**可靠性、更新速度和便捷性**，推荐你按以下优先级顺序排查鱼闪闪的演出行程：\n",
      "\n",
      "---\n",
      "\n",
      "### **🔝 最优查找顺序**（耗时约 5-15 分钟）\n",
      "1. **本人社交媒体（核心信源）**  \n",
      "   **👉 立即操作：**  \n",
      "   - **微博**：直接搜索 [@鱼闪闪BLING](https://weibo.com/u/7748104056)（官方认证账号），查看置顶/近期微博（演出预告通常带时间+地点）。  \n",
      "   - **抖音**：搜索账号 **@鱼闪闪**（粉丝 500w+），翻看最新视频/直播回放（口播常透露行程）。  \n",
      "   *✅ 优势：信息一手、准确率高，5 分钟内可确认近期安排。*\n",
      "\n",
      "2. **直播平台公告（斗鱼）**  \n",
      "   **👉 立即操作：**  \n",
      "   - 进入 [斗鱼直播间 101](https://www.douyu.com/101)，查看：  \n",
      "     - 直播间标题（例：\"8/20 上海音乐节见！\"）  \n",
      "     - 公告栏（右侧文字公告区）  \n",
      "     - 直播时口播（若正在直播可发弹幕询问）  \n",
      "   *✅ 优势：商演/音乐节行程通常提前 1-2 周公示。*\n",
      "\n",
      "3. **票务平台检索（查公开售票活动）**  \n",
      "   **👉 同步操作：**  \n",
      "   - **大麦网**：[搜索 \"鱼闪闪\"](https://search.damai.cn/search.html?keyword=鱼闪闪)  \n",
      "   - **猫眼演出**：[搜索 \"鱼闪闪\"](https://maoyan.com/ver/search?keyword=鱼闪闪)  \n",
      "   - **秀动APP**：直接搜索名字  \n",
      "   *⚠️ 注意：若无结果，可能暂无大型售票演出。*\n",
      "\n",
      "---\n",
      "\n",
      "### 🔍 补充排查（若前 3 步无结果）\n",
      "4. **音乐节主办方渠道**  \n",
      "   - 若怀疑她参与某音乐节（如 *草莓/迷笛*），直接搜索该活动官微，查看演出阵容。  \n",
      "   *🔍 技巧：微博搜索 \"音乐节名称 + 鱼闪闪\" 看爆料。*\n",
      "\n",
      "5. **粉丝社群（信息验证）**  \n",
      "   - 加入 **微博超话 #鱼闪闪#**（[点击进入](https://weibo.com/p/100808bb9a0b1e4d8f9b8f4d7f0d3e8f9e0b0)），查看精华帖中的行程整理。  \n",
      "   - **QQ 粉丝群**：通过超话或直播间获取入群方式（优先选管理员运营的群）。  \n",
      "   *⚠️ 警惕：非官方群的信息需与本人账号交叉核对！*\n",
      "\n",
      "---\n",
      "\n",
      "### ⏰ 高效操作建议\n",
      "| **步骤**       | 操作方式                     | 预计耗时 | 信息可信度 |\n",
      "|----------------|----------------------------|----------|------------|\n",
      "| 1. 查微博/抖音 | 直接搜索账号看最新动态       | 3 分钟   | ★★★★★      |\n",
      "| 2. 看斗鱼直播  | 查标题/公告/问主播          | 2 分钟   | ★★★★☆      |\n",
      "| 3. 扫票务平台  | 多平台关键词搜索            | 5 分钟   | ★★★★☆      |\n",
      "| 4. 粉丝群验证  | 询问+对比官方消息           | 10 分钟  | ★★★☆☆      |\n",
      "\n",
      "---\n",
      "\n",
      "### 💡 重点提醒\n",
      "- **若 3 天内无公开行程**：她可能在筹备新歌/休息（近期直播提及创作频率增加）。  \n",
      "- **突发行程**：小型商演可能只提前 1-2 天在抖音直播或粉丝群通知。  \n",
      "- **防骗指南**：**绝不轻信**微博私信售票、代抢票服务！购票只认大麦/猫眼等平台。\n",
      "\n",
      "> 需要我帮你**实时检索最新动态**（如微博/票务平台快查）吗？请告诉我，可立即操作！\n"
     ]
    }
   ],
   "source": [
    "messages.append({ \"role\": \"assistant\", \"content\": response.choices[0].message.content })\n",
    "messages.append({\"role\": \"user\", \"content\": \"我应该按照什么样的顺序去查找？\"})\n",
    "\n",
    "response = client.chat.completions.create(\n",
    "  model=\"deepseek-reasoner\",\n",
    "  messages=messages\n",
    ")\n",
    "\n",
    "print(\"Thought response:\", response.choices[0].message.reasoning_content)\n",
    "print(\"Text response:\", response.choices[0].message.content)"
   ]
  }
 ],
 "metadata": {
  "kernelspec": {
   "display_name": "openai",
   "language": "python",
   "name": "python3"
  },
  "language_info": {
   "codemirror_mode": {
    "name": "ipython",
    "version": 3
   },
   "file_extension": ".py",
   "mimetype": "text/x-python",
   "name": "python",
   "nbconvert_exporter": "python",
   "pygments_lexer": "ipython3",
   "version": "3.12.9"
  }
 },
 "nbformat": 4,
 "nbformat_minor": 2
}
