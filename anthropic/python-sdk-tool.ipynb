{
 "cells": [
  {
   "cell_type": "markdown",
   "metadata": {},
   "source": [
    "# Test Anthropic Python SDK - Tool Use\n",
    "\n",
    "This code example demonstrates tool use. It is inspired by a code sample from the Anthropic offical cookbook: https://github.com/anthropics/anthropic-cookbook/blob/main/tool_use/calculator_tool.ipynb\n",
    "\n",
    "## Environment\n",
    "\n",
    "```sh\n",
    "pip install anthropic python-dotenv\n",
    "```"
   ]
  },
  {
   "cell_type": "code",
   "execution_count": 19,
   "metadata": {},
   "outputs": [],
   "source": [
    "from dotenv import load_dotenv\n",
    "load_dotenv()\n",
    "\n",
    "import anthropic\n",
    "\n",
    "client = anthropic.Anthropic()\n",
    "\n",
    "def get_weather(city: str) -> str:\n",
    "    \"\"\"Get the weather in a given city\"\"\"\n",
    "    return f\"The weather in {city} is sunny.\"\n",
    "\n",
    "get_weather_metadata = {\n",
    "    \"name\": \"get_weather\",\n",
    "    \"description\": \"Get the weather in a given city\",\n",
    "    \"input_schema\": {\n",
    "        \"type\": \"object\",\n",
    "        \"properties\": {\n",
    "            \"city\": {\n",
    "                \"type\": \"string\",\n",
    "                \"description\": \"The city to get the weather for\"\n",
    "            }\n",
    "        },\n",
    "        \"required\": [\"city\"]\n",
    "    }\n",
    "}\n",
    "\n",
    "tools = [get_weather_metadata]"
   ]
  },
  {
   "cell_type": "code",
   "execution_count": 20,
   "metadata": {},
   "outputs": [],
   "source": [
    "messages = [\n",
    "  {\n",
    "    \"role\": \"user\",\n",
    "    \"content\": \"What is the weather in Beijing?\"\n",
    "  }\n",
    "]\n",
    "\n",
    "message = client.messages.create(\n",
    "    model=\"claude-sonnet-4-20250514\",\n",
    "    max_tokens=1024, # max_tokens is the maxium tokens to generate, it is required\n",
    "    messages=messages,\n",
    "    tools=tools\n",
    ")"
   ]
  },
  {
   "cell_type": "code",
   "execution_count": 21,
   "metadata": {},
   "outputs": [
    {
     "name": "stdout",
     "output_type": "stream",
     "text": [
      "I'll check the weather in Beijing for you.\n"
     ]
    }
   ],
   "source": [
    "# Get the text output from the message\n",
    "content = message.content\n",
    "text = content[0].text\n",
    "print(text)"
   ]
  },
  {
   "cell_type": "code",
   "execution_count": 22,
   "metadata": {},
   "outputs": [
    {
     "data": {
      "text/plain": [
       "Message(id='msg_01LXqSwzgoek7cxfMwkXdPSE', content=[TextBlock(citations=None, text=\"I'll check the weather in Beijing for you.\", type='text'), ToolUseBlock(id='toolu_01Wm9dNNifPV2UmnE1X4K8wo', input={'city': 'Beijing'}, name='get_weather', type='tool_use')], model='claude-sonnet-4-20250514', role='assistant', stop_reason='tool_use', stop_sequence=None, type='message', usage=Usage(cache_creation_input_tokens=0, cache_read_input_tokens=0, input_tokens=394, output_tokens=64, server_tool_use=None, service_tier='standard'))"
      ]
     },
     "execution_count": 22,
     "metadata": {},
     "output_type": "execute_result"
    }
   ],
   "source": [
    "message"
   ]
  },
  {
   "cell_type": "code",
   "execution_count": 23,
   "metadata": {},
   "outputs": [
    {
     "name": "stdout",
     "output_type": "stream",
     "text": [
      "ToolUseBlock(id='toolu_01Wm9dNNifPV2UmnE1X4K8wo', input={'city': 'Beijing'}, name='get_weather', type='tool_use')\n"
     ]
    }
   ],
   "source": [
    "# Get the tool use from the message\n",
    "if message.stop_reason == \"tool_use\":\n",
    "    for block in message.content:\n",
    "        if block.type == \"tool_use\":\n",
    "            print(block)\n",
    "else:\n",
    "    print(\"No tool use\")"
   ]
  },
  {
   "cell_type": "code",
   "execution_count": 24,
   "metadata": {},
   "outputs": [],
   "source": [
    "# Add the message content to the message history\n",
    "messages.append({\n",
    "  \"role\": \"assistant\",\n",
    "  \"content\": content\n",
    "})"
   ]
  },
  {
   "cell_type": "code",
   "execution_count": 25,
   "metadata": {},
   "outputs": [],
   "source": [
    "# Call the tool\n",
    "# How we handle tool use results in the message history is from the code sample:\n",
    "# https://github.com/anthropics/anthropic-cookbook/blob/main/tool_use/calculator_tool.ipynb\n",
    "if message.stop_reason == \"tool_use\":\n",
    "    tool_use_content = []\n",
    "    for block in message.content:\n",
    "        if block.type == \"tool_use\":\n",
    "            tool_use_content.append({\n",
    "                \"type\": \"tool_result\",\n",
    "                \"tool_use_id\": block.id,\n",
    "                \"content\": get_weather(block.input[\"city\"])\n",
    "            })\n",
    "    if len(tool_use_content) > 0:\n",
    "        # We can treat multiple tool use results as a single user message\n",
    "        messages.append({\n",
    "            \"role\": \"user\",\n",
    "            \"content\": tool_use_content\n",
    "        })\n",
    "else:\n",
    "    print(\"No tool use\")"
   ]
  },
  {
   "cell_type": "code",
   "execution_count": 26,
   "metadata": {},
   "outputs": [],
   "source": [
    "message = client.messages.create(\n",
    "    model=\"claude-sonnet-4-20250514\",\n",
    "    max_tokens=1024, # max_tokens is the maxium tokens to generate, it is required\n",
    "    messages=messages,\n",
    "    tools=tools\n",
    ")"
   ]
  },
  {
   "cell_type": "code",
   "execution_count": 27,
   "metadata": {},
   "outputs": [
    {
     "name": "stdout",
     "output_type": "stream",
     "text": [
      "The weather in Beijing is currently sunny.\n"
     ]
    }
   ],
   "source": [
    "# Get the text output from the message\n",
    "content = message.content\n",
    "text = content[0].text\n",
    "print(text)"
   ]
  }
 ],
 "metadata": {
  "kernelspec": {
   "display_name": "anthropic",
   "language": "python",
   "name": "python3"
  },
  "language_info": {
   "codemirror_mode": {
    "name": "ipython",
    "version": 3
   },
   "file_extension": ".py",
   "mimetype": "text/x-python",
   "name": "python",
   "nbconvert_exporter": "python",
   "pygments_lexer": "ipython3",
   "version": "3.12.9"
  }
 },
 "nbformat": 4,
 "nbformat_minor": 2
}
