{
 "cells": [
  {
   "cell_type": "markdown",
   "metadata": {},
   "source": [
    "# Using Claude Extended Thining with LiteLLM"
   ]
  },
  {
   "cell_type": "markdown",
   "metadata": {},
   "source": [
    "## Codes"
   ]
  },
  {
   "cell_type": "markdown",
   "metadata": {},
   "source": [
    "### Imports"
   ]
  },
  {
   "cell_type": "code",
   "execution_count": 1,
   "metadata": {},
   "outputs": [],
   "source": [
    "from pprint import pprint as pp\n",
    "\n",
    "from litellm import completion"
   ]
  },
  {
   "cell_type": "markdown",
   "metadata": {},
   "source": [
    "### Send First Message"
   ]
  },
  {
   "cell_type": "code",
   "execution_count": 2,
   "metadata": {},
   "outputs": [],
   "source": [
    "messages = [\n",
    "  {\n",
    "    \"role\": \"user\",\n",
    "    \"content\": \"谁是鱼闪闪?\"\n",
    "  }\n",
    "]\n",
    "\n",
    "response = completion(model=\"anthropic/claude-sonnet-4-20250514\", messages=messages, reasoning_effort=\"high\")"
   ]
  },
  {
   "cell_type": "code",
   "execution_count": 4,
   "metadata": {},
   "outputs": [
    {
     "name": "stdout",
     "output_type": "stream",
     "text": [
      "[{'signature': 'EucECkYIBBgCKkChcgC/a6tU8TM/kOjCW2oxuWxpEYmKadnYgMnelsK+34nyhj8JDiP62UiuuVzk4rnRIfTJJeitpRomKVvLeckxEgythy1ou0zOgwKWEJ4aDGRkH9o/jtBvDdzh9iIwr38WTBxLPSWQyMVz5G8DmB4WIJrb5xEbgiknSNVqj6RsH4lOw8WBy+84pWFrEWdKKs4Db6gxJTikez+FhfeT/cOqZS/P48Ty81cNem0TeN3ZHaS255NA+zH6jsOvtLhuarevDOHAv1IJn3Ahpp4zNLzgNoub67epVpx4ZZlrtWoFUdMIoOclR5j8i0ArMSZZe3DOdmQ8HLnzCbR9/Ll9m7OE/xxDI1tep9V7cr/axzvM/FawMxWKnF4ZU709sxM992arAHfn7hVRri7oaEWbFUSCjnVKenIHq1jHUvhNfPPpImSR64uzZDCU9HcXGga0L1SzjBIMMm/GlgClluJu188BgZtjwOnozOIU6DxvEoi0MGSoQVV+xAafnSZF1VvEnL93WpiIxph1zFhmxWlAtRU6/gPSMEgunHjDf4ZDxBw7IBuqeC80khjS29m8hHfOKExBLqurpxmgBQpZM/j/LQAMP1uIWx83rEIokLRV3cPJOqsSZNJ4KkNj5SlfdqrPMbh8Ly/kIhTB2f8VfXT7rw0y67U98dbT1hTYI8rCjs6zzIJKmU4YPSrEPxNrbkauBKi10UN3p44DneaY+aiH1Ea7crn1loV3Zm22f+ACDOsDWh7T633Q+V1wrMLCRgOz1xJG5WpiQDzZH7+3Jst/aytBQ+A/48fjk7f04QXooFK2GAE=',\n",
      "  'thinking': '用户问的是\"谁是鱼闪闪?\"。我需要想想这个问题。\"鱼闪闪\"这个名字听起来像是一个网络昵称或者角色名称，但我不确定具体指的是谁。这可能是：\\n'\n",
      "              '\\n'\n",
      "              '1. 一个网络主播或UP主的昵称\\n'\n",
      "              '2. 一个游戏角色\\n'\n",
      "              '3. 一个动漫角色\\n'\n",
      "              '4. 一个网络红人\\n'\n",
      "              '\\n'\n",
      "              '但是我没有足够的信息来确定具体是谁。我应该诚实地回答我不确定，并询问用户是否能提供更多背景信息。',\n",
      "  'type': 'thinking'}]\n"
     ]
    }
   ],
   "source": [
    "# Thinking blocks\n",
    "pp(response.choices[0].message.thinking_blocks)\n",
    "# Another option to get thinking blocks\n",
    "# pp(response.choices[0].message.provider_specific_fields['thinking_blocks'])"
   ]
  },
  {
   "cell_type": "code",
   "execution_count": 5,
   "metadata": {},
   "outputs": [
    {
     "name": "stdout",
     "output_type": "stream",
     "text": [
      "Reasoning content:\n",
      "\n",
      "用户问的是\"谁是鱼闪闪?\"。我需要想想这个问题。\"鱼闪闪\"这个名字听起来像是一个网络昵称或者角色名称，但我不确定具体指的是谁。这可能是：\n",
      "\n",
      "1. 一个网络主播或UP主的昵称\n",
      "2. 一个游戏角色\n",
      "3. 一个动漫角色\n",
      "4. 一个网络红人\n",
      "\n",
      "但是我没有足够的信息来确定具体是谁。我应该诚实地回答我不确定，并询问用户是否能提供更多背景信息。\n"
     ]
    }
   ],
   "source": [
    "# Reasoning content\n",
    "print(f\"Reasoning content:\\n\\n{response.choices[0].message.reasoning_content}\")"
   ]
  },
  {
   "cell_type": "code",
   "execution_count": 6,
   "metadata": {},
   "outputs": [
    {
     "name": "stdout",
     "output_type": "stream",
     "text": [
      "Text response:\n",
      "\n",
      "我不太确定您指的是哪个\"鱼闪闪\"。这个名字可能指的是：\n",
      "\n",
      "1. **网络主播或UP主** - 可能是某个平台上的内容创作者\n",
      "2. **游戏角色或昵称** - 在某个游戏中的角色名\n",
      "3. **网络红人** - 在社交媒体上比较活跃的人物\n",
      "\n",
      "您能提供更多背景信息吗？比如您是在哪里听到这个名字的，或者您想了解的是哪个领域的\"鱼闪闪\"？这样我就能给您更准确的回答了。\n"
     ]
    }
   ],
   "source": [
    "# Text response\n",
    "print(f\"Text response:\\n\\n{response.choices[0].message.content}\")"
   ]
  },
  {
   "cell_type": "markdown",
   "metadata": {},
   "source": [
    "### Send Second Message"
   ]
  },
  {
   "cell_type": "code",
   "execution_count": 7,
   "metadata": {},
   "outputs": [],
   "source": [
    "# Option 1 that sends thinking blocks back to the model\n",
    "messages.append(response.choices[0].message)\n",
    "# messages.append({\n",
    "#   \"role\": \"assistant\",\n",
    "#   \"content\": response.choices[0].message.content,\n",
    "#   \"thinking_blocks\": response.choices[0].message.thinking_blocks\n",
    "# })\n",
    "messages.append({\n",
    "  \"role\": \"user\",\n",
    "  \"content\": \"如果给你一个网络搜索工具，并要求你在1-3步内回答这个问题，你该如何规划？\"\n",
    "})\n",
    "\n",
    "response = completion(model=\"anthropic/claude-sonnet-4-20250514\", messages=messages, reasoning_effort=\"high\")"
   ]
  },
  {
   "cell_type": "code",
   "execution_count": 8,
   "metadata": {},
   "outputs": [
    {
     "name": "stdout",
     "output_type": "stream",
     "text": [
      "Reasoning content:\n",
      "\n",
      "用户问的是如果给我网络搜索工具，如何在1-3步内回答\"谁是鱼闪闪\"这个问题。我需要规划一个有效的搜索策略。\n",
      "\n",
      "让我思考最有效的搜索步骤：\n",
      "\n",
      "1. 第1步应该是最直接的搜索\n",
      "2. 如果第1步结果不够明确，第2步应该是更具体的搜索\n",
      "3. 第3步可能需要根据前面的结果进行细化搜索\n",
      "\n",
      "搜索策略应该从宽泛到具体，或者从最可能的领域开始。\n"
     ]
    }
   ],
   "source": [
    "# Reasoning content\n",
    "print(f\"Reasoning content:\\n\\n{response.choices[0].message.reasoning_content}\")"
   ]
  },
  {
   "cell_type": "code",
   "execution_count": 9,
   "metadata": {},
   "outputs": [
    {
     "name": "stdout",
     "output_type": "stream",
     "text": [
      "Text response:\n",
      "\n",
      "如果有网络搜索工具，我会这样规划：\n",
      "\n",
      "**第1步：直接搜索**\n",
      "- 搜索关键词：`\"鱼闪闪\" 是谁`\n",
      "- 目的：获取最直接、最热门的相关信息，看看是否有明确的人物介绍\n",
      "\n",
      "**第2步：分类搜索（如果第1步结果模糊）**\n",
      "- 搜索关键词：`鱼闪闪 主播` 或 `鱼闪闪 UP主` 或 `鱼闪闪 网红`\n",
      "- 目的：在最可能的领域（网络内容创作者）中寻找具体信息\n",
      "\n",
      "**第3步：平台特定搜索（如果需要）**\n",
      "- 根据第2步结果，在特定平台搜索：\n",
      "  - `鱼闪闪 B站` 或 `鱼闪闪 抖音` 或 `鱼闪闪 微博`\n",
      "- 目的：确认具体身份和主要活跃平台\n",
      "\n",
      "这个策略的优势：\n",
      "- 从通用到具体，逐步缩小范围\n",
      "- 优先搜索最可能的身份类型（网络创作者）\n",
      "- 每一步都基于前一步的结果进行优化\n",
      "\n",
      "您觉得这个搜索策略合理吗？\n"
     ]
    }
   ],
   "source": [
    "# Text response\n",
    "print(f\"Text response:\\n\\n{response.choices[0].message.content}\")"
   ]
  }
 ],
 "metadata": {
  "kernelspec": {
   "display_name": "base",
   "language": "python",
   "name": "python3"
  },
  "language_info": {
   "codemirror_mode": {
    "name": "ipython",
    "version": 3
   },
   "file_extension": ".py",
   "mimetype": "text/x-python",
   "name": "python",
   "nbconvert_exporter": "python",
   "pygments_lexer": "ipython3",
   "version": "3.12.9"
  }
 },
 "nbformat": 4,
 "nbformat_minor": 2
}
