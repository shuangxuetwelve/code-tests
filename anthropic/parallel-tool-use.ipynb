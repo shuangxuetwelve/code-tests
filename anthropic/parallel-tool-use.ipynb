{
 "cells": [
  {
   "cell_type": "markdown",
   "metadata": {},
   "source": [
    "# Test Parallel Tool Use of Claude\n",
    "\n",
    "Claude can call multiple tool in parallel by default."
   ]
  },
  {
   "cell_type": "code",
   "execution_count": 2,
   "metadata": {},
   "outputs": [],
   "source": [
    "from dotenv import load_dotenv\n",
    "load_dotenv()\n",
    "\n",
    "import anthropic\n",
    "\n",
    "client = anthropic.Anthropic()\n",
    "\n",
    "def get_weather(city: str) -> str:\n",
    "    \"\"\"Get the weather in a given city\"\"\"\n",
    "    return f\"The weather in {city} is sunny.\"\n",
    "\n",
    "def get_air_quality(city: str) -> str:\n",
    "    \"\"\"Get the air quality in a given city\"\"\"\n",
    "    return f\"The air quality in {city} is good.\"\n",
    "\n",
    "get_weather_metadata = {\n",
    "    \"name\": \"get_weather\",\n",
    "    \"description\": \"Get the weather in a given city\",\n",
    "    \"input_schema\": {\n",
    "        \"type\": \"object\",\n",
    "        \"properties\": {\n",
    "            \"city\": {\n",
    "                \"type\": \"string\",\n",
    "                \"description\": \"The city to get the weather for\"\n",
    "            }\n",
    "        },\n",
    "        \"required\": [\"city\"]\n",
    "    }\n",
    "}\n",
    "\n",
    "get_air_quality_metadata = {\n",
    "    \"name\": \"get_air_quality\",\n",
    "    \"description\": \"Get the air quality in a given city\",\n",
    "    \"input_schema\": {\n",
    "        \"type\": \"object\",\n",
    "        \"properties\": {\n",
    "            \"city\": {\n",
    "                \"type\": \"string\",\n",
    "                \"description\": \"The city to get the air quality for\"\n",
    "            }\n",
    "        },\n",
    "        \"required\": [\"city\"]\n",
    "    }\n",
    "}\n",
    "\n",
    "tools = [get_weather_metadata, get_air_quality_metadata]"
   ]
  },
  {
   "cell_type": "code",
   "execution_count": 3,
   "metadata": {},
   "outputs": [],
   "source": [
    "messages = [\n",
    "  {\n",
    "    \"role\": \"user\",\n",
    "    \"content\": \"What is the weather and air quality in Beijing?\"\n",
    "  }\n",
    "]\n",
    "\n",
    "message = client.messages.create(\n",
    "    model=\"claude-sonnet-4-20250514\",\n",
    "    max_tokens=1024, # max_tokens is the maxium tokens to generate, it is required\n",
    "    messages=messages,\n",
    "    tools=tools\n",
    ")"
   ]
  },
  {
   "cell_type": "code",
   "execution_count": 4,
   "metadata": {},
   "outputs": [
    {
     "name": "stdout",
     "output_type": "stream",
     "text": [
      "I'll get both the weather and air quality information for Beijing.\n"
     ]
    }
   ],
   "source": [
    "# Get the text output from the message\n",
    "content = message.content\n",
    "text = content[0].text\n",
    "print(text)"
   ]
  },
  {
   "cell_type": "code",
   "execution_count": 5,
   "metadata": {},
   "outputs": [
    {
     "name": "stdout",
     "output_type": "stream",
     "text": [
      "ToolUseBlock(id='toolu_01Qae87WtdrgRxuoom9PChwT', input={'city': 'Beijing'}, name='get_weather', type='tool_use')\n",
      "ToolUseBlock(id='toolu_01FLB5cmiN9qRBCGKiGBGrw8', input={'city': 'Beijing'}, name='get_air_quality', type='tool_use')\n"
     ]
    }
   ],
   "source": [
    "# Get the tool use from the message\n",
    "if message.stop_reason == \"tool_use\":\n",
    "    for block in message.content:\n",
    "        if block.type == \"tool_use\":\n",
    "            print(block)\n",
    "else:\n",
    "    print(\"No tool use\")"
   ]
  }
 ],
 "metadata": {
  "kernelspec": {
   "display_name": "base",
   "language": "python",
   "name": "python3"
  },
  "language_info": {
   "codemirror_mode": {
    "name": "ipython",
    "version": 3
   },
   "file_extension": ".py",
   "mimetype": "text/x-python",
   "name": "python",
   "nbconvert_exporter": "python",
   "pygments_lexer": "ipython3",
   "version": "3.12.9"
  }
 },
 "nbformat": 4,
 "nbformat_minor": 2
}
