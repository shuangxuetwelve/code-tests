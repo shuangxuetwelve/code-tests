{
 "cells": [
  {
   "cell_type": "markdown",
   "metadata": {},
   "source": [
    "# Test Anthropic Python SDK - Extended Thinking\n",
    "\n",
    "This code example demonstrates a multi-turn conversation with system prompt and without tool use.\n",
    "\n",
    "## Environment\n",
    "\n",
    "```sh\n",
    "pip install anthropic python-dotenv\n",
    "```"
   ]
  },
  {
   "cell_type": "markdown",
   "metadata": {},
   "source": [
    "## Without Tool Use"
   ]
  },
  {
   "cell_type": "code",
   "execution_count": 10,
   "metadata": {},
   "outputs": [],
   "source": [
    "from pprint import pprint as pp\n",
    "\n",
    "from dotenv import load_dotenv\n",
    "load_dotenv()\n",
    "\n",
    "import anthropic\n",
    "\n",
    "client = anthropic.Anthropic()"
   ]
  },
  {
   "cell_type": "code",
   "execution_count": 28,
   "metadata": {},
   "outputs": [],
   "source": [
    "messages = [\n",
    "  {\n",
    "    \"role\": \"user\",\n",
    "    \"content\": \"What is the capital of China?\"\n",
    "  }\n",
    "]\n",
    "\n",
    "message = client.messages.create(\n",
    "    model=\"claude-sonnet-4-20250514\",\n",
    "    max_tokens=11024, # max_tokens must be larger than budget_tokens for thinking\n",
    "    messages=messages,\n",
    "    system=\"You are a helpful assistant that can answer questions about the world.\",\n",
    "    thinking={\n",
    "      \"type\": \"enabled\",\n",
    "      \"budget_tokens\": 10000,\n",
    "    }\n",
    ")"
   ]
  },
  {
   "cell_type": "code",
   "execution_count": 36,
   "metadata": {},
   "outputs": [
    {
     "name": "stdout",
     "output_type": "stream",
     "text": [
      "('This is a straightforward factual question about geography. The capital of '\n",
      " \"China is Beijing. This is a well-established fact and there's no controversy \"\n",
      " 'or complexity around this answer.')\n"
     ]
    }
   ],
   "source": [
    "# Get the thinking text from the message\n",
    "content = message.content\n",
    "thinking_blocks = [block for block in content if block.type == 'thinking']\n",
    "if len(thinking_blocks) > 0:\n",
    "  thinking_block = thinking_blocks[0]\n",
    "  thinking_text = thinking_block.thinking\n",
    "  pp(thinking_text)"
   ]
  },
  {
   "cell_type": "code",
   "execution_count": 37,
   "metadata": {},
   "outputs": [
    {
     "name": "stdout",
     "output_type": "stream",
     "text": [
      "'The capital of China is Beijing.'\n"
     ]
    }
   ],
   "source": [
    "# Get text from the message\n",
    "text_blocks = [block for block in content if block.type == 'text']\n",
    "if len(text_blocks) > 0:\n",
    "  text_block = text_blocks[0]\n",
    "  text = text_block.text\n",
    "  pp(text)"
   ]
  },
  {
   "cell_type": "code",
   "execution_count": 38,
   "metadata": {},
   "outputs": [
    {
     "name": "stdout",
     "output_type": "stream",
     "text": [
      "Usage(cache_creation_input_tokens=0, cache_read_input_tokens=0, input_tokens=56, output_tokens=55, server_tool_use=None, service_tier='standard')\n",
      "Output tokens include thinking and text response: 55\n"
     ]
    }
   ],
   "source": [
    "# Get the usage information from the message\n",
    "print(message.usage)\n",
    "print(\"Output tokens include thinking and text response:\", message.usage.output_tokens)"
   ]
  },
  {
   "cell_type": "code",
   "execution_count": 41,
   "metadata": {},
   "outputs": [],
   "source": [
    "messages.append({\n",
    "  \"role\": \"assistant\",\n",
    "  \"content\": content\n",
    "})\n",
    "\n",
    "messages.append({\n",
    "  \"role\": \"user\",\n",
    "  \"content\": \"Why the capital of China is Beijing?\"\n",
    "})\n",
    "\n",
    "message = client.messages.create(\n",
    "    model=\"claude-sonnet-4-20250514\",\n",
    "    max_tokens=11024, # max_tokens must be larger than budget_tokens for thinking\n",
    "    messages=messages,\n",
    "    system=\"You are a helpful assistant that can answer questions about the world.\",\n",
    "    thinking={\n",
    "      \"type\": \"enabled\",\n",
    "      \"budget_tokens\": 10000,\n",
    "    }\n",
    ")"
   ]
  },
  {
   "cell_type": "code",
   "execution_count": 42,
   "metadata": {},
   "outputs": [
    {
     "name": "stdout",
     "output_type": "stream",
     "text": [
      "('The user is asking why Beijing is the capital of China. This is a historical '\n",
      " 'and political question. Let me think about the key reasons:\\n'\n",
      " '\\n'\n",
      " '1. Historical significance: Beijing has been the capital of China for many '\n",
      " 'dynasties, particularly during the Yuan, Ming, and Qing dynasties.\\n'\n",
      " '\\n'\n",
      " \"2. Political decisions: The People's Republic of China, established in 1949, \"\n",
      " 'chose Beijing as its capital.\\n'\n",
      " '\\n'\n",
      " '3. Strategic location: Beijing is located in northern China, which has been '\n",
      " 'strategically important.\\n'\n",
      " '\\n'\n",
      " '4. Cultural and administrative center: It has long been a center of '\n",
      " 'political power and culture.\\n'\n",
      " '\\n'\n",
      " '5. Infrastructure and symbolism: It represents the seat of power and has the '\n",
      " 'necessary infrastructure.\\n'\n",
      " '\\n'\n",
      " 'Let me provide a comprehensive but concise answer.')\n"
     ]
    }
   ],
   "source": [
    "# Get the thinking text from the message\n",
    "content = message.content\n",
    "thinking_blocks = [block for block in content if block.type == 'thinking']\n",
    "if len(thinking_blocks) > 0:\n",
    "  thinking_block = thinking_blocks[0]\n",
    "  thinking_text = thinking_block.thinking\n",
    "  pp(thinking_text)"
   ]
  },
  {
   "cell_type": "code",
   "execution_count": 43,
   "metadata": {},
   "outputs": [
    {
     "name": "stdout",
     "output_type": "stream",
     "text": [
      "('Beijing became and remains the capital of China for several historical and '\n",
      " 'strategic reasons:\\n'\n",
      " '\\n'\n",
      " '**Historical precedent:**\\n'\n",
      " '- Beijing served as the capital for major Chinese dynasties, including the '\n",
      " 'Yuan (1271-1368), Ming (1368-1644), and Qing (1644-1912) dynasties\\n'\n",
      " '- This gave it deep historical legitimacy and established infrastructure\\n'\n",
      " '\\n'\n",
      " '**Political decision in 1949:**\\n'\n",
      " \"- When the People's Republic of China was established, the Communist Party \"\n",
      " 'chose Beijing over other options like Nanjing (the previous Nationalist '\n",
      " 'capital)\\n'\n",
      " \"- This decision symbolized a break from the past while honoring China's \"\n",
      " 'imperial heritage\\n'\n",
      " '\\n'\n",
      " '**Strategic advantages:**\\n'\n",
      " '- **Geographic location**: Positioned in northern China, closer to potential '\n",
      " 'threats from the north (historically important for defense)\\n'\n",
      " '- **Central accessibility**: Well-connected to other major regions of China\\n'\n",
      " '- **Existing infrastructure**: Already had palaces, government buildings, '\n",
      " 'and administrative systems in place\\n'\n",
      " '\\n'\n",
      " '**Symbolic importance:**\\n'\n",
      " \"- The Forbidden City and other imperial sites reinforced Beijing's status as \"\n",
      " 'the seat of power\\n'\n",
      " '- Choosing Beijing helped legitimize the new government by connecting it to '\n",
      " \"China's imperial past\\n\"\n",
      " '\\n'\n",
      " '**Practical considerations:**\\n'\n",
      " '- Large population and economic base\\n'\n",
      " '- Established transportation networks\\n'\n",
      " '- Administrative experience and educated workforce\\n'\n",
      " '\\n'\n",
      " 'This combination of historical legacy, strategic location, and political '\n",
      " \"symbolism made Beijing the natural choice for modern China's capital.\")\n"
     ]
    }
   ],
   "source": [
    "# Get text from the message\n",
    "text_blocks = [block for block in content if block.type == 'text']\n",
    "if len(text_blocks) > 0:\n",
    "  text_block = text_blocks[0]\n",
    "  text = text_block.text\n",
    "  pp(text)"
   ]
  },
  {
   "cell_type": "code",
   "execution_count": 44,
   "metadata": {},
   "outputs": [
    {
     "name": "stdout",
     "output_type": "stream",
     "text": [
      "Usage(cache_creation_input_tokens=0, cache_read_input_tokens=0, input_tokens=91, output_tokens=465, server_tool_use=None, service_tier='standard')\n",
      "Output tokens include thinking and text response: 465\n"
     ]
    }
   ],
   "source": [
    "# Get the usage information from the message\n",
    "print(message.usage)\n",
    "print(\"Output tokens include thinking and text response:\", message.usage.output_tokens)"
   ]
  }
 ],
 "metadata": {
  "kernelspec": {
   "display_name": "anthropic",
   "language": "python",
   "name": "python3"
  },
  "language_info": {
   "codemirror_mode": {
    "name": "ipython",
    "version": 3
   },
   "file_extension": ".py",
   "mimetype": "text/x-python",
   "name": "python",
   "nbconvert_exporter": "python",
   "pygments_lexer": "ipython3",
   "version": "3.12.9"
  }
 },
 "nbformat": 4,
 "nbformat_minor": 2
}
