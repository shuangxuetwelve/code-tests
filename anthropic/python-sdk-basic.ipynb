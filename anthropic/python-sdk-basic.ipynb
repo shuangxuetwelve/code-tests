{
 "cells": [
  {
   "cell_type": "markdown",
   "metadata": {},
   "source": [
    "# Test Anthropic Python SDK\n",
    "\n",
    "This code example demonstrates a multi-turn conversation with system prompt and without tool use.\n",
    "\n",
    "## Environment\n",
    "\n",
    "```sh\n",
    "pip install anthropic python-dotenv\n",
    "```"
   ]
  },
  {
   "cell_type": "code",
   "execution_count": 2,
   "metadata": {},
   "outputs": [],
   "source": [
    "from dotenv import load_dotenv\n",
    "load_dotenv()\n",
    "\n",
    "import anthropic\n",
    "\n",
    "client = anthropic.Anthropic()"
   ]
  },
  {
   "cell_type": "code",
   "execution_count": 3,
   "metadata": {},
   "outputs": [],
   "source": [
    "messages = [\n",
    "  {\n",
    "    \"role\": \"user\",\n",
    "    \"content\": \"What is the capital of China?\"\n",
    "  }\n",
    "]\n",
    "\n",
    "response = client.messages.create(\n",
    "    model=\"claude-sonnet-4-20250514\",\n",
    "    max_tokens=1024, # max_tokens is the maxium tokens to generate, it is required\n",
    "    messages=messages,\n",
    "    system=\"You are a helpful assistant that can answer questions about the world.\"\n",
    ")"
   ]
  },
  {
   "cell_type": "code",
   "execution_count": 4,
   "metadata": {},
   "outputs": [
    {
     "name": "stdout",
     "output_type": "stream",
     "text": [
      "The capital of China is Beijing.\n"
     ]
    }
   ],
   "source": [
    "# Get the text output from the response\n",
    "text = response.content[0].text\n",
    "print(text)"
   ]
  },
  {
   "cell_type": "code",
   "execution_count": 6,
   "metadata": {},
   "outputs": [],
   "source": [
    "messages.append({\n",
    "  \"role\": \"assistant\",\n",
    "  \"content\": text\n",
    "})\n",
    "\n",
    "messages.append({\n",
    "  \"role\": \"user\",\n",
    "  \"content\": \"What was my last question?\"\n",
    "})\n",
    "\n",
    "response = client.messages.create(\n",
    "    model=\"claude-sonnet-4-20250514\",\n",
    "    max_tokens=1024, # max_tokens is the maxium tokens to generate, it is required\n",
    "    messages=messages,\n",
    "    system=\"You are a helpful assistant that can answer questions about the world.\"\n",
    ")"
   ]
  },
  {
   "cell_type": "code",
   "execution_count": 7,
   "metadata": {},
   "outputs": [
    {
     "name": "stdout",
     "output_type": "stream",
     "text": [
      "Your last question was \"What is the capital of China?\"\n"
     ]
    }
   ],
   "source": [
    "# Get the text output from the response\n",
    "text = response.content[0].text\n",
    "print(text)"
   ]
  }
 ],
 "metadata": {
  "kernelspec": {
   "display_name": "anthropic",
   "language": "python",
   "name": "python3"
  },
  "language_info": {
   "codemirror_mode": {
    "name": "ipython",
    "version": 3
   },
   "file_extension": ".py",
   "mimetype": "text/x-python",
   "name": "python",
   "nbconvert_exporter": "python",
   "pygments_lexer": "ipython3",
   "version": "3.12.9"
  }
 },
 "nbformat": 4,
 "nbformat_minor": 2
}
