{
 "cells": [
  {
   "cell_type": "markdown",
   "metadata": {},
   "source": [
    "# Test Anthropic Python SDK - Basic Usage\n",
    "\n",
    "This code example demonstrates a multi-turn conversation with system prompt and without tool use.\n",
    "\n",
    "## Environment\n",
    "\n",
    "```sh\n",
    "pip install anthropic python-dotenv\n",
    "```"
   ]
  },
  {
   "cell_type": "code",
   "execution_count": 23,
   "metadata": {},
   "outputs": [],
   "source": [
    "from dotenv import load_dotenv\n",
    "load_dotenv()\n",
    "\n",
    "import anthropic\n",
    "\n",
    "client = anthropic.Anthropic()"
   ]
  },
  {
   "cell_type": "code",
   "execution_count": 24,
   "metadata": {},
   "outputs": [],
   "source": [
    "messages = [\n",
    "  {\n",
    "    \"role\": \"user\",\n",
    "    \"content\": \"What is the capital of China?\"\n",
    "  }\n",
    "]\n",
    "\n",
    "message = client.messages.create(\n",
    "    model=\"claude-sonnet-4-20250514\",\n",
    "    max_tokens=1024, # max_tokens is the maxium tokens to generate, it is required\n",
    "    messages=messages,\n",
    "    system=\"You are a helpful assistant that can answer questions about the world.\"\n",
    ")"
   ]
  },
  {
   "cell_type": "code",
   "execution_count": 25,
   "metadata": {},
   "outputs": [
    {
     "name": "stdout",
     "output_type": "stream",
     "text": [
      "The capital of China is Beijing.\n"
     ]
    }
   ],
   "source": [
    "# Get the text output from the message\n",
    "content = message.content\n",
    "text = content[0].text\n",
    "print(text)"
   ]
  },
  {
   "cell_type": "code",
   "execution_count": 26,
   "metadata": {},
   "outputs": [],
   "source": [
    "# We can use the following code to only append the text to the message history:\n",
    "# messages.append({\n",
    "#   \"role\": \"assistant\",\n",
    "#   \"content\": content\n",
    "# })\n",
    "# But we can also append the entire response content to the message history to preserve tool use.\n",
    "# See the code sample: https://github.com/anthropics/anthropic-cookbook/blob/main/tool_use/calculator_tool.ipynb\n",
    "messages.append({\n",
    "  \"role\": \"assistant\",\n",
    "  \"content\": content\n",
    "})\n",
    "\n",
    "messages.append({\n",
    "  \"role\": \"user\",\n",
    "  \"content\": \"What was my last question?\"\n",
    "})\n",
    "\n",
    "message = client.messages.create(\n",
    "    model=\"claude-sonnet-4-20250514\",\n",
    "    max_tokens=1024, # max_tokens is the maxium tokens to generate, it is required\n",
    "    messages=messages,\n",
    "    system=\"You are a helpful assistant that can answer questions about the world.\"\n",
    ")"
   ]
  },
  {
   "cell_type": "code",
   "execution_count": 27,
   "metadata": {},
   "outputs": [
    {
     "name": "stdout",
     "output_type": "stream",
     "text": [
      "Your last question was \"What is the capital of China?\"\n"
     ]
    }
   ],
   "source": [
    "# Get the text output from the message\n",
    "content = message.content\n",
    "text = content[0].text\n",
    "print(text)"
   ]
  }
 ],
 "metadata": {
  "kernelspec": {
   "display_name": "anthropic",
   "language": "python",
   "name": "python3"
  },
  "language_info": {
   "codemirror_mode": {
    "name": "ipython",
    "version": 3
   },
   "file_extension": ".py",
   "mimetype": "text/x-python",
   "name": "python",
   "nbconvert_exporter": "python",
   "pygments_lexer": "ipython3",
   "version": "3.12.9"
  }
 },
 "nbformat": 4,
 "nbformat_minor": 2
}
