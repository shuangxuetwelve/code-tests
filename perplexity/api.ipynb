{
 "cells": [
  {
   "cell_type": "markdown",
   "metadata": {},
   "source": [
    "# Testings for Perplexity APIs"
   ]
  },
  {
   "cell_type": "code",
   "execution_count": 9,
   "metadata": {},
   "outputs": [
    {
     "data": {
      "text/plain": [
       "True"
      ]
     },
     "execution_count": 9,
     "metadata": {},
     "output_type": "execute_result"
    }
   ],
   "source": [
    "import os\n",
    "import requests\n",
    "from pprint import pp\n",
    "import json\n",
    "\n",
    "from dotenv import load_dotenv\n",
    "load_dotenv()"
   ]
  },
  {
   "cell_type": "code",
   "execution_count": 3,
   "metadata": {},
   "outputs": [
    {
     "name": "stdout",
     "output_type": "stream",
     "text": [
      "Jina AI API key is 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\n"
     ]
    }
   ],
   "source": [
    "PERPLEXITY_API_KEY = os.getenv(\"PERPLEXITY_API_KEY\")\n",
    "if PERPLEXITY_API_KEY == None:\n",
    "  raise Exception(\"Jina AI API key is not set\")\n",
    "print(f\"Jina AI API key is {PERPLEXITY_API_KEY}\")"
   ]
  },
  {
   "cell_type": "markdown",
   "metadata": {},
   "source": [
    "## Models"
   ]
  },
  {
   "cell_type": "markdown",
   "metadata": {},
   "source": [
    "### Sonar"
   ]
  },
  {
   "cell_type": "markdown",
   "metadata": {},
   "source": [
    "Sonar不进行推理，也不爬取网页，应该只是使用网页的cache数据。所以，即使找到了正确的网页https://wiki.biligame.com/zzz/%E5%85%91%E6%8D%A2%E7%A0%81，给出的答案也不是最新的兑换码。"
   ]
  },
  {
   "cell_type": "code",
   "execution_count": 22,
   "metadata": {},
   "outputs": [
    {
     "name": "stdout",
     "output_type": "stream",
     "text": [
      "{'id': '0c2a359c-ad2b-4b5b-8a9b-3361258d7e77',\n",
      " 'model': 'sonar',\n",
      " 'created': 1748049435,\n",
      " 'usage': {'prompt_tokens': 16,\n",
      "           'completion_tokens': 174,\n",
      "           'total_tokens': 190,\n",
      "           'search_context_size': 'low'},\n",
      " 'citations': ['https://wiki.biligame.com/zzz/%E5%85%91%E6%8D%A2%E7%A0%81',\n",
      "               'https://www.topuplive.com/zh/news/zzz-may-2025-redeem-codes-guide.html',\n",
      "               'https://www.kangehao.com/news/104976.html',\n",
      "               'https://www.bilibili.com/video/BV1Bx4y1t7Lw/',\n",
      "               'https://www.xiao-haijing.com/mobile/el/article/detail/12047.html'],\n",
      " 'object': 'chat.completion',\n",
      " 'choices': [{'index': 0,\n",
      "              'finish_reason': 'stop',\n",
      "              'message': {'role': 'assistant',\n",
      "                          'content': '以下是《绝区零》最新的菲林兑换码：\\n'\n",
      "                                     '\\n'\n",
      "                                     '1. '\n",
      "                                     '**ZZZ17TIMOTHYRANDY**、**ZZZ17XSZ5Y11M**、**ZZZ17MIFUYU**：可获得复色菲林 '\n",
      "                                     '×60 和 丁尼 ×666[2].\\n'\n",
      "                                     '2. **ZZZFREE100**：可获得菲林 ×300、丁尼 '\n",
      "                                     '×30,000、资深调查员记录 ×2、音擎能源模块 ×3[3].\\n'\n",
      "                                     '3. **SOLDIER0ANBY**（国际服限定）：可获得菲林底片 '\n",
      "                                     '×300、资深调查员记录 ×2、丁尼 ×30,000[3][5].\\n'\n",
      "                                     '\\n'\n",
      "                                     '这些兑换码可能有时效限制，需要及时使用以避免过期。'},\n",
      "              'delta': {'role': 'assistant', 'content': ''}}]}\n"
     ]
    }
   ],
   "source": [
    "query = \"绝区零最新菲林兑换码\"\n",
    "\n",
    "url = \"https://api.perplexity.ai/chat/completions\"\n",
    "\n",
    "headers = {\n",
    "  \"Authorization\": f\"Bearer {PERPLEXITY_API_KEY}\",\n",
    "  \"Content-Type\": \"application/json\",\n",
    "}\n",
    "\n",
    "data = {\n",
    "  \"model\": \"sonar\",\n",
    "  \"messages\": [\n",
    "    {\n",
    "      \"role\": \"system\",\n",
    "      \"content\": \"Be precise and concise.\",\n",
    "    },\n",
    "    {\n",
    "      \"role\": \"user\",\n",
    "      \"content\": query,\n",
    "    },\n",
    "  ]\n",
    "}\n",
    "\n",
    "response = requests.post(url, headers=headers, json=data)\n",
    "\n",
    "response.encoding = \"utf-8\"\n",
    "pp(response.json())"
   ]
  },
  {
   "cell_type": "markdown",
   "metadata": {},
   "source": [
    "### Sonar Pro"
   ]
  },
  {
   "cell_type": "markdown",
   "metadata": {},
   "source": [
    "Sonar Pro不进行推理，也不爬取网页，应该只是使用网页的cache数据。所以，即使找到了正确的网页https://wiki.biligame.com/zzz/%E5%85%91%E6%8D%A2%E7%A0%81，给出的答案也不是最新的兑换码。"
   ]
  },
  {
   "cell_type": "code",
   "execution_count": 23,
   "metadata": {},
   "outputs": [
    {
     "name": "stdout",
     "output_type": "stream",
     "text": [
      "{'id': '9681fceb-3fbe-455f-8f18-51ec54c0b947',\n",
      " 'model': 'sonar-pro',\n",
      " 'created': 1748049641,\n",
      " 'usage': {'prompt_tokens': 16,\n",
      "           'completion_tokens': 605,\n",
      "           'total_tokens': 621,\n",
      "           'search_context_size': 'low'},\n",
      " 'citations': ['https://wiki.biligame.com/zzz/%E5%85%91%E6%8D%A2%E7%A0%81',\n",
      "               'https://www.topuplive.com/zh/news/zzz-may-2025-redeem-codes-guide.html',\n",
      "               'https://www.kangehao.com/news/104976.html',\n",
      "               'https://www.bilibili.com/video/BV1Bx4y1t7Lw/',\n",
      "               'https://www.xiao-haijing.com/mobile/el/article/detail/12047.html'],\n",
      " 'object': 'chat.completion',\n",
      " 'choices': [{'index': 0,\n",
      "              'finish_reason': 'stop',\n",
      "              'message': {'role': 'assistant',\n",
      "                          'content': '## 绝区零最新菲林兑换码（2025年5月更新）\\n'\n",
      "                                     '\\n'\n",
      "                                     '根据最新整理，2025年5月《绝区零》可用的菲林兑换码如下，输入即可领取丰厚奖励，包括菲林、丁尼等资源。部分兑换码有时效限制，请尽快使用。\\n'\n",
      "                                     '\\n'\n",
      "                                     '**常用及高价值通用兑换码：**\\n'\n",
      "                                     '\\n'\n",
      "                                     '- ZZZFREE100  \\n'\n",
      "                                     '  获得：菲林 ×300，丁尼 ×30000，资深调查员记录 ×2，音擎能源模块 '\n",
      "                                     '×3[3]\\n'\n",
      "                                     '\\n'\n",
      "                                     '- ZZZ17TIMOTHYRANDY  \\n'\n",
      "                                     '- ZZZ17XSZ5Y11M  \\n'\n",
      "                                     '- ZZZ17MIFUYU  \\n'\n",
      "                                     '  奖励（每个码）：复色菲林 ×60、丁尼 '\n",
      "                                     '×666（每个码奖励略有不同，均可尝试）[2]\\n'\n",
      "                                     '\\n'\n",
      "                                     '- ZENLESSGIFT  \\n'\n",
      "                                     '  获得：菲林 ×50，调查员记录 ×2，W-音擎电源供应 ×3，邦布算法模块 '\n",
      "                                     '×1[5]\\n'\n",
      "                                     '\\n'\n",
      "                                     '- JQL2023、JQL777、JQL888、JQL666  \\n'\n",
      "                                     '  通用奖励（含菲林、丁尼等，具体数量以实际兑换为准）[3]\\n'\n",
      "                                     '\\n'\n",
      "                                     '- SOLDIER0ANBY  \\n'\n",
      "                                     '  国际服限定。菲林底片 ×300，资深调查员记录 ×2，音擎能量模块 '\n",
      "                                     '×3[5]\\n'\n",
      "                                     '\\n'\n",
      "                                     '**额外补充兑换码（部分为平台或历史码，亲测可能依然有效）：**\\n'\n",
      "                                     '\\n'\n",
      "                                     '- ZZZ15MINA  \\n'\n",
      "                                     '- ZZZ15MOLLO  \\n'\n",
      "                                     '  菲林底片 ×60，丁尼 ×666[5]\\n'\n",
      "                                     '\\n'\n",
      "                                     '- HSAHLWFEFE  \\n'\n",
      "                                     '  菲林 ×60，丁尼 ×6666[5]\\n'\n",
      "                                     '\\n'\n",
      "                                     '## 兑换流程\\n'\n",
      "                                     '\\n'\n",
      "                                     '1. 完成新手引导后，点击游戏界面左上角色头像。\\n'\n",
      "                                     '2. 进入设置菜单，选择「账户」。\\n'\n",
      "                                     '3. 在兑换码输入框粘贴兑换码，注意区分大小写。\\n'\n",
      "                                     '4. 达到5级即可领取奖励，奖励会通过游戏邮件发放[3][5].\\n'\n",
      "                                     '\\n'\n",
      "                                     '## 注意事项\\n'\n",
      "                                     '\\n'\n",
      "                                     '- 部分兑换码有时效或平台限制，优先使用含“FREE”字样的通用码。\\n'\n",
      "                                     '- 每个账号同类兑换码只能使用一次，输入时要注意区分大小写和特殊字符[3].\\n'\n",
      "                                     '- 更多兑换码可以关注游戏公告或官方社区持续更新。\\n'\n",
      "                                     '\\n'\n",
      "                                     '建议尽快前往游戏兑换界面使用上述兑换码，以免过期失效。'},\n",
      "              'delta': {'role': 'assistant', 'content': ''}}]}\n"
     ]
    }
   ],
   "source": [
    "query = \"绝区零最新菲林兑换码\"\n",
    "\n",
    "url = \"https://api.perplexity.ai/chat/completions\"\n",
    "\n",
    "headers = {\n",
    "  \"Authorization\": f\"Bearer {PERPLEXITY_API_KEY}\",\n",
    "  \"Content-Type\": \"application/json\",\n",
    "}\n",
    "\n",
    "data = {\n",
    "  \"model\": \"sonar-pro\",\n",
    "  \"messages\": [\n",
    "    {\n",
    "      \"role\": \"system\",\n",
    "      \"content\": \"Be precise and concise.\",\n",
    "    },\n",
    "    {\n",
    "      \"role\": \"user\",\n",
    "      \"content\": query,\n",
    "    },\n",
    "  ]\n",
    "}\n",
    "\n",
    "response = requests.post(url, headers=headers, json=data)\n",
    "\n",
    "response.encoding = \"utf-8\"\n",
    "pp(response.json())"
   ]
  },
  {
   "cell_type": "markdown",
   "metadata": {},
   "source": [
    "### Sonar Reasoning"
   ]
  },
  {
   "cell_type": "markdown",
   "metadata": {},
   "source": [
    "Sonar Reasoning模型会进行推理，也会爬取网页的最新状态，所以能够获取到最新的兑换码（但似乎有时也找不对）。"
   ]
  },
  {
   "cell_type": "code",
   "execution_count": 21,
   "metadata": {},
   "outputs": [
    {
     "name": "stdout",
     "output_type": "stream",
     "text": [
      "{'id': '4ea9b233-97cb-408a-8ce7-5a4c401b60db',\n",
      " 'model': 'sonar-reasoning',\n",
      " 'created': 1748041779,\n",
      " 'usage': {'prompt_tokens': 16,\n",
      "           'completion_tokens': 881,\n",
      "           'total_tokens': 897,\n",
      "           'search_context_size': 'low'},\n",
      " 'citations': ['https://wiki.biligame.com/zzz/%E5%85%91%E6%8D%A2%E7%A0%81',\n",
      "               'https://www.topuplive.com/zh/news/zzz-may-2025-redeem-codes-guide.html',\n",
      "               'https://www.kangehao.com/news/104976.html',\n",
      "               'https://www.bilibili.com/video/BV1Bx4y1t7Lw/',\n",
      "               'https://www.xiao-haijing.com/mobile/el/article/detail/12047.html'],\n",
      " 'object': 'chat.completion',\n",
      " 'choices': [{'index': 0,\n",
      "              'finish_reason': 'stop',\n",
      "              'message': {'role': 'assistant',\n",
      "                          'content': '<think>\\n'\n",
      "                                     '好的，用户现在问的是《绝区零》最新的菲林兑换码，我需要根据提供的搜索结果来整理答案。首先，我得仔细看看每个搜索结果里的兑换码信息，确认哪些是有效且最新的。\\n'\n",
      "                                     '\\n'\n",
      "                                     '第一个搜索结果[1]提到了一些兑换码，比如ZENLESSLAUNCH、CATCHABOO，但日期不明，所以可能不太新。第二个结果[2]是2025年5月6号的，里面有ZZZ17TIMOTHYRANDY、ZZZ17XSZ5Y11M、ZZZ17MIFUYU这三个码，奖励是菲林×60和丁尼×666，感觉这个日期比较新。第三个结果[3]是2025年5月的，里面提到ZZZFREE100可以得到菲林×300，还有一些JQL系列和国际服限定码SOLDIER0ANBY，但需要注意时效性。第四个结果[4]来自B站，提到永久有效的码但没有具体日期，可能信息较旧。第五个结果[5]是2025年3月的，里面的码可能已经过期，比如ZZZ15MINA或者ZENLESSGIFT，而SOLDIER0ANBY在这里也有出现，但需要确认是否还有效。\\n'\n",
      "                                     '\\n'\n",
      "                                     '接下来要整理有效的兑换码。根据搜索结果，五月份的码更可能有效。从结果[2]和[3]中，ZZZFREE100和ZZZ17系列是五月份的。需要确认SOLDIER0ANBY是否国际服限定，用户可能需要注意地区限制。另外结果[3]提到ZZZFREE100的有效性，奖励比较高，所以应优先推荐。同时要注意每个账号只能兑换一次，并且代码区分大小写。\\n'\n",
      "                                     '\\n'\n",
      "                                     '还要检查是否有重复的兑换码，比如结果[2]和[5]都有ZENLESSGIFT，但结果[5]已经三月份的信息了，可能已经过期。所以优先考虑五月份的码。最后提醒用户及时兑换，因为有效期有限，并且可能需要游戏账号达到5级才能领取奖励。\\n'\n",
      "                                     '</think>\\n'\n",
      "                                     '\\n'\n",
      "                                     '## 最新有效兑换码  \\n'\n",
      "                                     '**2025年5月更新**：  \\n'\n",
      "                                     '1. **ZZZFREE100**  \\n'\n",
      "                                     '   - '\n",
      "                                     '奖励：菲林×300、丁尼×30,000、资深调查员记录×2、音擎能源模块×3[3]  \\n'\n",
      "                                     '\\n'\n",
      "                                     '2. **ZZZ17TIMOTHYRANDY**  \\n'\n",
      "                                     '   - **ZZZ17XSZ5Y11M**  \\n'\n",
      "                                     '   - **ZZZ17MIFUYU**  \\n'\n",
      "                                     '   - 每个奖励：菲林×60、丁尼×666[2]  \\n'\n",
      "                                     '\\n'\n",
      "                                     '3. **ZENLESSGIFT**  \\n'\n",
      "                                     '   - 奖励：菲林×50、官方调查员记录×2、W-音擎电源模块×3[5]  \\n'\n",
      "                                     '\\n'\n",
      "                                     '4. **SOLDIER0ANBY**（国际服限定）  \\n'\n",
      "                                     '   - '\n",
      "                                     '奖励：菲林×300、资深调查员记录×2、音擎能源模块×3、丁尼×30,000[3][5]  \\n'\n",
      "                                     '\\n'\n",
      "                                     '**注意事项**：  \\n'\n",
      "                                     '- **兑换条件**：账号需达5级并完成新手引导[3]。  \\n'\n",
      "                                     '- '\n",
      "                                     '**时效性**：部分码（如ZZZ0312）已失效，优先使用含“FREE”或“ZZZ17”系列码[3][2]。  \\n'\n",
      "                                     '- **输入要求**：严格区分大小写和特殊字符[3]。  \\n'\n",
      "                                     '\\n'\n",
      "                                     '**兑换步骤**：  \\n'\n",
      "                                     '1. 完成角色头像→设置→账户菜单；  \\n'\n",
      "                                     '2. 粘贴正确的兑换码；  \\n'\n",
      "                                     '3. 奖励通过邮件发送[3]。  \\n'\n",
      "                                     '\\n'\n",
      "                                     '（每个帐号限兑换一次同类码）'},\n",
      "              'delta': {'role': 'assistant', 'content': ''}}]}\n"
     ]
    }
   ],
   "source": [
    "query = \"绝区零最新菲林兑换码\"\n",
    "\n",
    "url = \"https://api.perplexity.ai/chat/completions\"\n",
    "\n",
    "headers = {\n",
    "  \"Authorization\": f\"Bearer {PERPLEXITY_API_KEY}\",\n",
    "  \"Content-Type\": \"application/json\",\n",
    "}\n",
    "\n",
    "data = {\n",
    "  \"model\": \"sonar-reasoning\",\n",
    "  \"messages\": [\n",
    "    {\n",
    "      \"role\": \"system\",\n",
    "      \"content\": \"Be precise and concise.\",\n",
    "    },\n",
    "    {\n",
    "      \"role\": \"user\",\n",
    "      \"content\": query,\n",
    "    },\n",
    "  ]\n",
    "}\n",
    "\n",
    "response = requests.post(url, headers=headers, json=data)\n",
    "\n",
    "response.encoding = \"utf-8\"\n",
    "pp(response.json())\n"
   ]
  },
  {
   "cell_type": "markdown",
   "metadata": {},
   "source": [
    "### Sonar Reasoning Pro"
   ]
  },
  {
   "cell_type": "markdown",
   "metadata": {},
   "source": [
    "Sonar Reasoning Pro会进行推理，也会爬取网页的最新状态，所以可以找到最新的兑换码。"
   ]
  },
  {
   "cell_type": "code",
   "execution_count": 24,
   "metadata": {},
   "outputs": [
    {
     "name": "stdout",
     "output_type": "stream",
     "text": [
      "{'id': '39f534dc-4e3d-4555-b452-f854279c06ee',\n",
      " 'model': 'sonar-reasoning-pro',\n",
      " 'created': 1748049888,\n",
      " 'usage': {'prompt_tokens': 14,\n",
      "           'completion_tokens': 717,\n",
      "           'total_tokens': 731,\n",
      "           'search_context_size': 'low'},\n",
      " 'citations': ['https://wiki.biligame.com/zzz/%E5%85%91%E6%8D%A2%E7%A0%81',\n",
      "               'https://www.topuplive.com/zh/news/zzz-may-2025-redeem-codes-guide.html',\n",
      "               'https://www.kangehao.com/news/104976.html',\n",
      "               'https://www.bilibili.com/video/BV1Bx4y1t7Lw/',\n",
      "               'https://www.xiao-haijing.com/mobile/el/article/detail/12047.html'],\n",
      " 'object': 'chat.completion',\n",
      " 'choices': [{'index': 0,\n",
      "              'finish_reason': 'stop',\n",
      "              'message': {'role': 'assistant',\n",
      "                          'content': '<think>\\n'\n",
      "                                     '好，我需要帮用户找到《绝区零》最新的菲林兑换码。首先看用户提供的搜索结果，里面有几个来源。搜索结果显示，[1]中的兑换码YIXUAN0606在2025年5月25日到期，但用户提问的时间是2025年5月24日，所以这个兑换码应该还有效。另外，[2]提到的兑换码ZZZ17系列和ZENLESSGIFT，以及[3]中的ZZZFREE100和JQL系列，还有[5]中的SOLDIER0ANBY，这些都是可能的有效码。\\n'\n",
      "                                     '\\n'\n",
      "                                     '不过需要注意有效期，比如[3]提到有些兑换码可能已经过期，比如ZZZ0312在3月失效，但其他如ZZZFREE100和JQL系列可能仍有效。同时，[5]中的SOLDIER0ANBY是国际服限定，可能需要区分服务器。用户可能主要关心的是国服的有效兑换码，所以需要特别标注。\\n'\n",
      "                                     '\\n'\n",
      "                                     '另外，不同来源提供的兑换码可能有重复，需要整理去重。比如ZENLESSGIFT在[2]和[5]都有提到，可能需要合并。同时，奖励内容也需要准确对应每个兑换码，确保用户清楚能获得什么。\\n'\n",
      "                                     '\\n'\n",
      "                                     '最后，兑换步骤在[3]中有详细说明，应该包含进去，方便用户操作。需要确认步骤是否正确，比如进入账户设置等流程是否准确。总结时，应该按服务器分类，并标明有效期，确保信息清晰。\\n'\n",
      "                                     '</think>\\n'\n",
      "                                     '\\n'\n",
      "                                     '截至**2025年5月24日**，《绝区零》最新可用的菲林兑换码如下：\\n'\n",
      "                                     '\\n'\n",
      "                                     '**国服兑换码**  \\n'\n",
      "                                     '- `YIXUAN0606`：菲林×300 + 音擎能源模块×3 + '\n",
      "                                     '资深调查员记录×2 + '\n",
      "                                     '丁尼×30000（有效期至5月25日23:59）[1]  \\n'\n",
      "                                     '- `ZZZFREE100`：菲林×300 + 丁尼×30000 + '\n",
      "                                     '资深调查员记录×2 + 音擎能源模块×3[3]  \\n'\n",
      "                                     '- '\n",
      "                                     '`JQL2023`/`JQL777`/`JQL888`/`JQL666`：通用资源包[3]  \\n'\n",
      "                                     '- '\n",
      "                                     '`ZZZ17TIMOTHYRANDY`/`ZZZ17XSZ5Y11M`/`ZZZ17MIFUYU`：菲林×60 '\n",
      "                                     '+ 丁尼×666[2]  \\n'\n",
      "                                     '\\n'\n",
      "                                     '**国际服专属兑换码**  \\n'\n",
      "                                     '- `SOLDIER0ANBY`：菲林×300 + 资深调查员记录×2 + '\n",
      "                                     '音擎能源模块×3 + 丁尼×30000[5]  \\n'\n",
      "                                     '\\n'\n",
      "                                     '**全平台通用码**  \\n'\n",
      "                                     '- `ZENLESSGIFT`：菲林×50 + 官方调查员记录×2 + '\n",
      "                                     '音擎电源供应×3[2][5]  \\n'\n",
      "                                     '\\n'\n",
      "                                     '---\\n'\n",
      "                                     '\\n'\n",
      "                                     '**兑换流程**：  \\n'\n",
      "                                     '1. 完成新手引导后，点击左上角角色头像  \\n'\n",
      "                                     '2. 进入「设置」→「账户」页面  \\n'\n",
      "                                     '3. 在输入框粘贴代码（区分大小写）  \\n'\n",
      "                                     '4. 奖励通过邮件发放（需账号等级≥5级）[3]  \\n'\n",
      "                                     '\\n'\n",
      "                                     '> '\n",
      "                                     '部分代码如`ZZZ888`（菲林×50）为永久有效[1]，建议优先兑换含`FREE`字样的限时码。每日可通过官方公告或社区获取更新动态[3]。'},\n",
      "              'delta': {'role': 'assistant', 'content': ''}}]}\n"
     ]
    }
   ],
   "source": [
    "query = \"绝区零最新菲林兑换码\"\n",
    "\n",
    "url = \"https://api.perplexity.ai/chat/completions\"\n",
    "\n",
    "headers = {\n",
    "  \"Authorization\": f\"Bearer {PERPLEXITY_API_KEY}\",\n",
    "  \"Content-Type\": \"application/json\",\n",
    "}\n",
    "\n",
    "data = {\n",
    "  \"model\": \"sonar-reasoning-pro\",\n",
    "  \"messages\": [\n",
    "    {\n",
    "      \"role\": \"system\",\n",
    "      \"content\": \"Be precise and concise.\",\n",
    "    },\n",
    "    {\n",
    "      \"role\": \"user\",\n",
    "      \"content\": query,\n",
    "    },\n",
    "  ]\n",
    "}\n",
    "\n",
    "response = requests.post(url, headers=headers, json=data)\n",
    "\n",
    "response.encoding = \"utf-8\"\n",
    "pp(response.json())"
   ]
  }
 ],
 "metadata": {
  "kernelspec": {
   "display_name": "base",
   "language": "python",
   "name": "python3"
  },
  "language_info": {
   "codemirror_mode": {
    "name": "ipython",
    "version": 3
   },
   "file_extension": ".py",
   "mimetype": "text/x-python",
   "name": "python",
   "nbconvert_exporter": "python",
   "pygments_lexer": "ipython3",
   "version": "3.12.9"
  }
 },
 "nbformat": 4,
 "nbformat_minor": 2
}
