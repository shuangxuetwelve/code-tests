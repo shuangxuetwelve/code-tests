{
 "cells": [
  {
   "cell_type": "markdown",
   "metadata": {},
   "source": [
    "# Testings for Perplexity APIs"
   ]
  },
  {
   "cell_type": "code",
   "execution_count": 2,
   "metadata": {},
   "outputs": [
    {
     "data": {
      "text/plain": [
       "True"
      ]
     },
     "execution_count": 2,
     "metadata": {},
     "output_type": "execute_result"
    }
   ],
   "source": [
    "import os\n",
    "import requests\n",
    "from pprint import pp\n",
    "\n",
    "from dotenv import load_dotenv\n",
    "load_dotenv()"
   ]
  },
  {
   "cell_type": "code",
   "execution_count": 3,
   "metadata": {},
   "outputs": [
    {
     "name": "stdout",
     "output_type": "stream",
     "text": [
      "Jina AI API key is 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\n"
     ]
    }
   ],
   "source": [
    "PERPLEXITY_API_KEY = os.getenv(\"PERPLEXITY_API_KEY\")\n",
    "if PERPLEXITY_API_KEY == None:\n",
    "  raise Exception(\"Jina AI API key is not set\")\n",
    "print(f\"Jina AI API key is {PERPLEXITY_API_KEY}\")"
   ]
  },
  {
   "cell_type": "markdown",
   "metadata": {},
   "source": [
    "## Models"
   ]
  },
  {
   "cell_type": "markdown",
   "metadata": {},
   "source": [
    "### Sonar"
   ]
  },
  {
   "cell_type": "markdown",
   "metadata": {},
   "source": [
    "Sonar不进行推理，也不爬取网页，应该只是使用网页的cache数据。所以，即使找到了正确的网页https://wiki.biligame.com/zzz/%E5%85%91%E6%8D%A2%E7%A0%81，给出的答案也不是最新的兑换码。"
   ]
  },
  {
   "cell_type": "code",
   "execution_count": 10,
   "metadata": {},
   "outputs": [
    {
     "name": "stdout",
     "output_type": "stream",
     "text": [
      "{'id': '9483d5bc-572a-435c-962d-746ce11201bd',\n",
      " 'model': 'sonar',\n",
      " 'created': 1748967264,\n",
      " 'usage': {'prompt_tokens': 16,\n",
      "           'completion_tokens': 157,\n",
      "           'total_tokens': 173,\n",
      "           'search_context_size': 'low'},\n",
      " 'citations': ['https://wiki.biligame.com/zzz/%E5%85%91%E6%8D%A2%E7%A0%81',\n",
      "               'https://www.topuplive.com/zh/news/zzz-may-2025-redeem-codes-guide.html',\n",
      "               'https://www.kangehao.com/news/115994.html',\n",
      "               'https://www.ldshop.gg/tw/blog/news/zenless-zone-zero-code.html',\n",
      "               'https://www.xiao-haijing.com/mobile/el/article/detail/12047.html'],\n",
      " 'search_results': [{'title': '兑换码- 绝区零WIKI_BWIKI',\n",
      "                     'url': 'https://wiki.biligame.com/zzz/%E5%85%91%E6%8D%A2%E7%A0%81',\n",
      "                     'date': None},\n",
      "                    {'title': '《绝区零》五月最新！免费兑换码汇总 - TOPUPlive',\n",
      "                     'url': 'https://www.topuplive.com/zh/news/zzz-may-2025-redeem-codes-guide.html',\n",
      "                     'date': '2025-05-06'},\n",
      "                    {'title': '绝区零1.5前瞻直播礼包来袭！300菲林兑换码大放送',\n",
      "                     'url': 'https://www.kangehao.com/news/115994.html',\n",
      "                     'date': None},\n",
      "                    {'title': '「六月最新」絕區零國際服兌換碼大全 - LDShop',\n",
      "                     'url': 'https://www.ldshop.gg/tw/blog/news/zenless-zone-zero-code.html',\n",
      "                     'date': '2025-05-30'},\n",
      "                    {'title': '绝区零兑换码- 2025年3月最新福利！ - Μικρός Δελφίνι - 小海鲸',\n",
      "                     'url': 'https://www.xiao-haijing.com/mobile/el/article/detail/12047.html',\n",
      "                     'date': '2025-03-06'}],\n",
      " 'object': 'chat.completion',\n",
      " 'choices': [{'index': 0,\n",
      "              'finish_reason': 'stop',\n",
      "              'message': {'role': 'assistant',\n",
      "                          'content': '最新的《绝区零》菲林兑换码包括：\\n'\n",
      "                                     '\\n'\n",
      "                                     '- '\n",
      "                                     '**ZZZ17TIMOTHYRANDY**、**ZZZ17XSZ5Y11M**、**ZZZ17MIFUYU**：可兑换复色菲林×60和丁尼×666[2][4]。\\n'\n",
      "                                     '- '\n",
      "                                     '**ZZZANNIVERSARY**：菲林×300、资深调查员记录×2、音擎能源模块×3、丁尼×30,000（已过期，截止2025年5月25日23:59:59 '\n",
      "                                     'UTC+8）[4]。\\n'\n",
      "                                     '\\n'\n",
      "                                     '请注意，兑换码有效期有限，应及时兑换以避免过期。'},\n",
      "              'delta': {'role': 'assistant', 'content': ''}}]}\n"
     ]
    }
   ],
   "source": [
    "query = \"绝区零最新菲林兑换码\"\n",
    "\n",
    "url = \"https://api.perplexity.ai/chat/completions\"\n",
    "\n",
    "headers = {\n",
    "  \"Authorization\": f\"Bearer {PERPLEXITY_API_KEY}\",\n",
    "  \"Content-Type\": \"application/json\",\n",
    "}\n",
    "\n",
    "data = {\n",
    "  \"model\": \"sonar\",\n",
    "  \"messages\": [\n",
    "    {\n",
    "      \"role\": \"system\",\n",
    "      \"content\": \"Be precise and concise.\",\n",
    "    },\n",
    "    {\n",
    "      \"role\": \"user\",\n",
    "      \"content\": query,\n",
    "    },\n",
    "  ]\n",
    "}\n",
    "\n",
    "response = requests.post(url, headers=headers, json=data)\n",
    "\n",
    "pp(response.json())"
   ]
  },
  {
   "cell_type": "markdown",
   "metadata": {},
   "source": [
    "### Sonar Pro"
   ]
  },
  {
   "cell_type": "markdown",
   "metadata": {},
   "source": [
    "Sonar Pro不进行推理，也不爬取网页，应该只是使用网页的cache数据。所以，即使找到了正确的网页https://wiki.biligame.com/zzz/%E5%85%91%E6%8D%A2%E7%A0%81，给出的答案也不是最新的兑换码。"
   ]
  },
  {
   "cell_type": "code",
   "execution_count": 11,
   "metadata": {},
   "outputs": [
    {
     "name": "stdout",
     "output_type": "stream",
     "text": [
      "{'id': 'fa7acdd7-8c5b-4c16-8f78-2521cadfd37a',\n",
      " 'model': 'sonar-pro',\n",
      " 'created': 1748967279,\n",
      " 'usage': {'prompt_tokens': 16,\n",
      "           'completion_tokens': 430,\n",
      "           'total_tokens': 446,\n",
      "           'search_context_size': 'low'},\n",
      " 'citations': ['https://wiki.biligame.com/zzz/%E5%85%91%E6%8D%A2%E7%A0%81',\n",
      "               'https://www.topuplive.com/zh/news/zzz-may-2025-redeem-codes-guide.html',\n",
      "               'https://www.kangehao.com/news/115994.html',\n",
      "               'https://www.ldshop.gg/tw/blog/news/zenless-zone-zero-code.html',\n",
      "               'https://www.xiao-haijing.com/mobile/el/article/detail/12047.html'],\n",
      " 'search_results': [{'title': '兑换码- 绝区零WIKI_BWIKI',\n",
      "                     'url': 'https://wiki.biligame.com/zzz/%E5%85%91%E6%8D%A2%E7%A0%81',\n",
      "                     'date': None},\n",
      "                    {'title': '《绝区零》五月最新！免费兑换码汇总 - TOPUPlive',\n",
      "                     'url': 'https://www.topuplive.com/zh/news/zzz-may-2025-redeem-codes-guide.html',\n",
      "                     'date': '2025-05-06'},\n",
      "                    {'title': '绝区零1.5前瞻直播礼包来袭！300菲林兑换码大放送',\n",
      "                     'url': 'https://www.kangehao.com/news/115994.html',\n",
      "                     'date': None},\n",
      "                    {'title': '「六月最新」絕區零國際服兌換碼大全 - LDShop',\n",
      "                     'url': 'https://www.ldshop.gg/tw/blog/news/zenless-zone-zero-code.html',\n",
      "                     'date': '2025-05-30'},\n",
      "                    {'title': '绝区零兑换码- 2025年3月最新福利！ - Μικρός Δελφίνι - 小海鲸',\n",
      "                     'url': 'https://www.xiao-haijing.com/mobile/el/article/detail/12047.html',\n",
      "                     'date': '2025-03-06'}],\n",
      " 'object': 'chat.completion',\n",
      " 'choices': [{'index': 0,\n",
      "              'finish_reason': 'stop',\n",
      "              'message': {'role': 'assistant',\n",
      "                          'content': '## 绝区零最新菲林兑换码（截至2025年6月）\\n'\n",
      "                                     '\\n'\n",
      "                                     '**最新有效兑换码（菲林奖励为主）：**\\n'\n",
      "                                     '\\n'\n",
      "                                     '- ZZZANNIVERSARY  \\n'\n",
      "                                     '  奖励：菲林 ×300、音擎能源模块 ×3、资深调查员记录 ×2、丁尼 '\n",
      "                                     '×30,000  \\n'\n",
      "                                     '  有效期：截至2025年5月25日23:59（UTC+8）[1][4]\\n'\n",
      "                                     '\\n'\n",
      "                                     '- ZZZ17MIFUYU  \\n'\n",
      "                                     '  奖励：复色菲林 ×60、丁尼 ×666[2][4]\\n'\n",
      "                                     '\\n'\n",
      "                                     '- ZZZ17TIMOTHYRANDY  \\n'\n",
      "                                     '  奖励：复色菲林 ×60、丁尼 ×666[2]\\n'\n",
      "                                     '\\n'\n",
      "                                     '- ZZZ17XSZ5Y11M  \\n'\n",
      "                                     '  奖励：复色菲林 ×60、丁尼 ×666[2]\\n'\n",
      "                                     '\\n'\n",
      "                                     '- ZENLESSGIFT  \\n'\n",
      "                                     '  奖励：菲林 ×50、正式调查员记录 ×2、邦布算法模块 '\n",
      "                                     '×1[1][2][5]\\n'\n",
      "                                     '\\n'\n",
      "                                     '**注意事项：**\\n'\n",
      "                                     '- '\n",
      "                                     '绝区零兑换码均有时效性，请尽快前往游戏内兑换中心使用，避免过期失效[2][4][5]。\\n'\n",
      "                                     '- '\n",
      "                                     '部分兑换码为特别直播或特定渠道活动专属，若遇到不可用提示，说明活动已结束或账号不符合领取条件[1][4][5]。\\n'\n",
      "                                     '\\n'\n",
      "                                     '**兑换方法简述：**\\n'\n",
      "                                     '1. 打开绝区零游戏。\\n'\n",
      "                                     '2. 进入“设置”或“账户”界面，找到“兑换码”输入框。\\n'\n",
      "                                     '3. 粘贴上述兑换码，点击“兑换”。\\n'\n",
      "                                     '4. 奖励将通过游戏内邮件方式发放[5]。\\n'\n",
      "                                     '\\n'\n",
      "                                     '请及时关注官方及社区渠道获取最新动态和更多兑换码信息。'},\n",
      "              'delta': {'role': 'assistant', 'content': ''}}]}\n"
     ]
    }
   ],
   "source": [
    "query = \"绝区零最新菲林兑换码\"\n",
    "\n",
    "url = \"https://api.perplexity.ai/chat/completions\"\n",
    "\n",
    "headers = {\n",
    "  \"Authorization\": f\"Bearer {PERPLEXITY_API_KEY}\",\n",
    "  \"Content-Type\": \"application/json\",\n",
    "}\n",
    "\n",
    "data = {\n",
    "  \"model\": \"sonar-pro\",\n",
    "  \"messages\": [\n",
    "    {\n",
    "      \"role\": \"system\",\n",
    "      \"content\": \"Be precise and concise.\",\n",
    "    },\n",
    "    {\n",
    "      \"role\": \"user\",\n",
    "      \"content\": query,\n",
    "    },\n",
    "  ]\n",
    "}\n",
    "\n",
    "response = requests.post(url, headers=headers, json=data)\n",
    "\n",
    "pp(response.json())"
   ]
  },
  {
   "cell_type": "markdown",
   "metadata": {},
   "source": [
    "### Sonar Reasoning"
   ]
  },
  {
   "cell_type": "markdown",
   "metadata": {},
   "source": [
    "Sonar Reasoning模型会进行推理，也会爬取网页的最新状态，所以能够获取到最新的兑换码（但似乎有时也找不对）。"
   ]
  },
  {
   "cell_type": "code",
   "execution_count": 12,
   "metadata": {},
   "outputs": [
    {
     "name": "stdout",
     "output_type": "stream",
     "text": [
      "{'id': '752faa31-d10a-49dd-a9df-2aca3fd57b90',\n",
      " 'model': 'sonar-reasoning',\n",
      " 'created': 1748967312,\n",
      " 'usage': {'prompt_tokens': 16,\n",
      "           'completion_tokens': 1054,\n",
      "           'total_tokens': 1070,\n",
      "           'search_context_size': 'low'},\n",
      " 'citations': ['https://wiki.biligame.com/zzz/%E5%85%91%E6%8D%A2%E7%A0%81',\n",
      "               'https://www.topuplive.com/zh/news/zzz-may-2025-redeem-codes-guide.html',\n",
      "               'https://www.kangehao.com/news/115994.html',\n",
      "               'https://www.ldshop.gg/tw/blog/news/zenless-zone-zero-code.html',\n",
      "               'https://www.xiao-haijing.com/mobile/el/article/detail/12047.html'],\n",
      " 'search_results': [{'title': '兑换码- 绝区零WIKI_BWIKI',\n",
      "                     'url': 'https://wiki.biligame.com/zzz/%E5%85%91%E6%8D%A2%E7%A0%81',\n",
      "                     'date': None},\n",
      "                    {'title': '《绝区零》五月最新！免费兑换码汇总 - TOPUPlive',\n",
      "                     'url': 'https://www.topuplive.com/zh/news/zzz-may-2025-redeem-codes-guide.html',\n",
      "                     'date': '2025-05-06'},\n",
      "                    {'title': '绝区零1.5前瞻直播礼包来袭！300菲林兑换码大放送',\n",
      "                     'url': 'https://www.kangehao.com/news/115994.html',\n",
      "                     'date': None},\n",
      "                    {'title': '「六月最新」絕區零國際服兌換碼大全 - LDShop',\n",
      "                     'url': 'https://www.ldshop.gg/tw/blog/news/zenless-zone-zero-code.html',\n",
      "                     'date': '2025-05-30'},\n",
      "                    {'title': '绝区零兑换码- 2025年3月最新福利！ - Μικρός Δελφίνι - 小海鲸',\n",
      "                     'url': 'https://www.xiao-haijing.com/mobile/el/article/detail/12047.html',\n",
      "                     'date': '2025-03-06'}],\n",
      " 'object': 'chat.completion',\n",
      " 'choices': [{'index': 0,\n",
      "              'finish_reason': 'stop',\n",
      "              'message': {'role': 'assistant',\n",
      "                          'content': '<think>\\n'\n",
      "                                     '好的，我现在需要处理用户关于“绝区零最新菲林兑换码”的查询。首先，我得仔细阅读提供的搜索结果，找出所有相关的兑换码，并确定哪些是最近有效的。\\n'\n",
      "                                     '\\n'\n",
      "                                     '首先看第一个结果[1]，里面提到ZZZANNIVERSARY和ZENLESSGIFT这两个兑换码，分别对应不同的奖励，包括菲林、丁尼、能源模块等。但需要注意这些码的有效期是否过期。比如ZZZANNIVERSARY的有效期到2025年5月25日，但现在当前时间是2025年6月3日，所以这个码可能已经过期了。\\n'\n",
      "                                     '\\n'\n",
      "                                     '然后看第二个结果[2]，日期是2025年5月6日，里面提到了ZZZ17TIMOTHYRANDY、ZZZ17XSZ5Y11M、ZZZ17MIFUYU和ZENLESSGIFT这几个码。其中ZZZ17MIFUYU在[4]中也有提到，奖励包括60菲林和666丁尼，而有效期可能到5月31日，因为LDShop的专属优惠券LDSHOP5FF到5月31日过期。同样，现在时间是6月3日，这些码可能也过期了。\\n'\n",
      "                                     '\\n'\n",
      "                                     '第三个结果[3]是关于1.5版本的直播兑换码，但时间比较早，可能已过期。第四个结果[4]详细列出了ZZZANNIVERSARY（菲林300）和LDSHOP5FF优惠券，但前者到5月25日过期，后者到5月31日，所以现在都过期了。第五个结果[5]提到的是3月份的兑换码，可能已经失效了。\\n'\n",
      "                                     '\\n'\n",
      "                                     '现在用户的问题是关于“最新”的兑换码，但根据提供的搜索结果，最大的可能是所有最近的兑换码（到5月份）都已经过期。例如，ZZZ17MIFUYU在[2][4]中被提到，有效期到5月31日，而当前时间是6月3日，所以这些码可能无法使用了。此外，其他码如ZENLESSGIFT在[1][3]中出现，但具体有效期需要确认是否过期。\\n'\n",
      "                                     '\\n'\n",
      "                                     '需要确认是否有任何未过期的兑换码，或者是否有最近的更新。根据结果中的信息，所有提到的兑换码的有效期都在5月份，且当前日期是6月，所以很可能这些码已经过了有效期。因此，用户可能需要等待新的版本或活动，或者检查游戏内是否有新的兑换码发布。\\n'\n",
      "                                     '\\n'\n",
      "                                     '可能用户需要的信息是当前有效的兑换码，但根据提供的数据，可能没有。因此，我需要在回答中明确说明现有的兑换码可能已过期，并建议用户关注官方公告获取最新代码。此外，可以提到过期的兑换码作为参考，但明确提示用户检查有效期。\\n'\n",
      "                                     '\\n'\n",
      "                                     '总结来说，回答需要列出最近的兑换码，指出它们的有效期已过，并建议用户通过官方渠道获取最新的代码。同时，注意避免推荐无效的兑换码，防止用户误操作。\\n'\n",
      "                                     '</think>\\n'\n",
      "                                     '\\n'\n",
      "                                     '根据最新信息，以下为2025年5月发布的《绝区零》兑换码，由于当前时间为2025年6月3日，部分代码可能已过期：\\n'\n",
      "                                     '\\n'\n",
      "                                     '### **近期发布的兑换码**\\n'\n",
      "                                     '1. **ZZZ17MIFUYU**  \\n'\n",
      "                                     '   - 菲林 ×60、丁尼 ×666  \\n'\n",
      "                                     '   - 適用於國際服，有效期至2025年5月31日[2][4]。\\n'\n",
      "                                     '\\n'\n",
      "                                     '2. **ZZZANNIVERSARY**（2.0版本直播課程）  \\n'\n",
      "                                     '   - 菲林 ×300、資深調查員紀錄 ×2、音擎能源模組 ×3、丁尼 '\n",
      "                                     '×30,000  \\n'\n",
      "                                     '   - 適用期至2025年5月25日[1][4]。\\n'\n",
      "                                     '\\n'\n",
      "                                     '3. **ZENLESSGIFT**  \\n'\n",
      "                                     '   - 菲林 ×50、正式調查員紀錄 ×2、邦布算法模組 ×1  \\n'\n",
      "                                     '   - 有效期未明確，但已知為1.0版本週期[1][3]。\\n'\n",
      "                                     '\\n'\n",
      "                                     '---\\n'\n",
      "                                     '\\n'\n",
      "                                     '### **注意事項**\\n'\n",
      "                                     '- **有效期已過**：上述代碼可能已失效，建議直接输入後驗證当前狀態。  \\n'\n",
      "                                     '- '\n",
      "                                     '**官方更新**：最新的兑換碼通常隨版本更新或直播節目發布，請關注遊戲內公告或官網動態。  \\n'\n",
      "                                     '\\n'\n",
      "                                     '若需領取新碼，建議查詢2025年6月最新活動信息或官網公告。'},\n",
      "              'delta': {'role': 'assistant', 'content': ''}}]}\n"
     ]
    }
   ],
   "source": [
    "query = \"绝区零最新菲林兑换码\"\n",
    "\n",
    "url = \"https://api.perplexity.ai/chat/completions\"\n",
    "\n",
    "headers = {\n",
    "  \"Authorization\": f\"Bearer {PERPLEXITY_API_KEY}\",\n",
    "  \"Content-Type\": \"application/json\",\n",
    "}\n",
    "\n",
    "data = {\n",
    "  \"model\": \"sonar-reasoning\",\n",
    "  \"messages\": [\n",
    "    {\n",
    "      \"role\": \"system\",\n",
    "      \"content\": \"Be precise and concise.\",\n",
    "    },\n",
    "    {\n",
    "      \"role\": \"user\",\n",
    "      \"content\": query,\n",
    "    },\n",
    "  ]\n",
    "}\n",
    "\n",
    "response = requests.post(url, headers=headers, json=data)\n",
    "\n",
    "pp(response.json())\n"
   ]
  },
  {
   "cell_type": "markdown",
   "metadata": {},
   "source": [
    "### Sonar Reasoning Pro"
   ]
  },
  {
   "cell_type": "markdown",
   "metadata": {},
   "source": [
    "Sonar Reasoning Pro会进行推理，也会爬取网页的最新状态，所以可以找到最新的兑换码。"
   ]
  },
  {
   "cell_type": "code",
   "execution_count": 13,
   "metadata": {},
   "outputs": [
    {
     "name": "stdout",
     "output_type": "stream",
     "text": [
      "{'id': 'b515eeec-c4bc-43cd-b73b-60cd210724e2',\n",
      " 'model': 'sonar-reasoning-pro',\n",
      " 'created': 1748967400,\n",
      " 'usage': {'prompt_tokens': 14,\n",
      "           'completion_tokens': 1163,\n",
      "           'total_tokens': 1177,\n",
      "           'search_context_size': 'low'},\n",
      " 'citations': ['https://wiki.biligame.com/zzz/%E5%85%91%E6%8D%A2%E7%A0%81',\n",
      "               'https://www.topuplive.com/zh/news/zzz-may-2025-redeem-codes-guide.html',\n",
      "               'https://www.kangehao.com/news/115994.html',\n",
      "               'https://www.ldshop.gg/tw/blog/news/zenless-zone-zero-code.html',\n",
      "               'https://www.xiao-haijing.com/mobile/el/article/detail/12047.html'],\n",
      " 'search_results': [{'title': '兑换码- 绝区零WIKI_BWIKI',\n",
      "                     'url': 'https://wiki.biligame.com/zzz/%E5%85%91%E6%8D%A2%E7%A0%81',\n",
      "                     'date': None},\n",
      "                    {'title': '《绝区零》五月最新！免费兑换码汇总 - TOPUPlive',\n",
      "                     'url': 'https://www.topuplive.com/zh/news/zzz-may-2025-redeem-codes-guide.html',\n",
      "                     'date': '2025-05-06'},\n",
      "                    {'title': '绝区零1.5前瞻直播礼包来袭！300菲林兑换码大放送',\n",
      "                     'url': 'https://www.kangehao.com/news/115994.html',\n",
      "                     'date': None},\n",
      "                    {'title': '「六月最新」絕區零國際服兌換碼大全 - LDShop',\n",
      "                     'url': 'https://www.ldshop.gg/tw/blog/news/zenless-zone-zero-code.html',\n",
      "                     'date': '2025-05-30'},\n",
      "                    {'title': '绝区零兑换码- 2025年3月最新福利！ - Μικρός Δελφίνι - 小海鲸',\n",
      "                     'url': 'https://www.xiao-haijing.com/mobile/el/article/detail/12047.html',\n",
      "                     'date': '2025-03-06'}],\n",
      " 'object': 'chat.completion',\n",
      " 'choices': [{'index': 0,\n",
      "              'finish_reason': 'stop',\n",
      "              'message': {'role': 'assistant',\n",
      "                          'content': '<think>\\n'\n",
      "                                     '嗯，用户问的是《绝区零》的最新菲林兑换码，我得先看看提供的搜索结果里有没有最新的信息。首先，找到各个来源的时间。搜索结果里的时间有2025年5月、5月30日，还有3月的，但用户的问题是在6月3日，所以需要确认哪些兑换码还在有效期内。\\n'\n",
      "                                     '\\n'\n",
      "                                     '看搜索结果[4]里面提到2.0版本前瞻直播的兑换码ZZZANNIVERSARY，有效期到5月25日，可能已经过期了。但其他来源比如[2]里的五月份的兑换码，比如ZZZ17TIMOTHYRANDY、ZZZ17XSZ5Y11M、ZZZ17MIFUYU，这些是5月13日更新的，应该还在有效期内，不过要确认有没有超过有效期。用户的问题是在6月3日，可能这些兑换码到5月底可能已经失效了，但需要看具体的截止日期。例如，在[4]中提到的LDSHOP5FF有效期到5月31日，已经过期了，但兑换码本身可能不同。\\n'\n",
      "                                     '\\n'\n",
      "                                     '另外，搜索结果[3]提到1.5版本的直播兑换码，可能已经过期了，而[5]里的是3月的，肯定过期了。现在需要找最新的兑换码，可能在[2]和[4]中。比如[2]中的ZZZ17MIFUYU在[4]中也有提到，但[4]中提到的兑换码ZZZANNIVERSARY已经过期，可能还有其他的。\\n'\n",
      "                                     '\\n'\n",
      "                                     '需要区分国际服和国服吗？例如，[4]是国际服的兑换码，而[2]和[3]可能是国服的。用户可能没有指定服务器，所以需要分别列出。例如，在[4]里，国际服的兑换码可能有不同的有效期，而[2]里的兑换码是五月份的，可能还在有效期内。\\n'\n",
      "                                     '\\n'\n",
      "                                     '另外，用户可能最关心的是菲林奖励，所以要挑选包含菲林的兑换码。比如，ZZZANNIVERSARY有300菲林，但可能已过期，而[2]中的兑换码如ZZZ17TIMOTHYRANDY等提供了60菲林，可能还在有效期内，但需要确认。\\n'\n",
      "                                     '\\n'\n",
      "                                     '综合来看，最新的兑换码应该是五月底到六月初有效的，比如在[4]里提到的2.0版本前瞻直播兑换码可能在5月25日过期，但可能有新的兑换码。不过根据搜索结果，最新的可能是[2]中的五月兑换码，或者是[4]中的LDSHOP5FF折扣码，但后者是折扣码，不是菲林奖励。\\n'\n",
      "                                     '\\n'\n",
      "                                     '需要确认每个兑换码的有效期，但搜索结果中没有全部明确说明。例如，[2]中的兑换码在5月13日更新，可能有效期到5月底，但用户提问是在6月3日，可能已经过期。不过可能有些兑换码仍在有效期内，比如[4]中提到的ZZZ17MIFUYU在5月30日的文章中提到，可能有效期到五月底，但用户现在是在6月3日，所以这些可能已经失效了。\\n'\n",
      "                                     '\\n'\n",
      "                                     '这时候可能需要告知用户这些兑换码可能已过期，并建议关注官方渠道获取最新信息，或者是否有其他未过期的兑换码。例如，搜索结果[3]提到1.5版本的兑换码，但可能已过期，而[5]中的1.6版本兑换码可能也过期了。\\n'\n",
      "                                     '\\n'\n",
      "                                     '或者，可能还有一些长期有效的兑换码，比如ZENLESSGIFT，在[1]和[5]中都有提到，可能仍然有效。需要确认这些是否还在有效期内。例如，ZENLESSGIFT在[1]中属于1.0版本，但可能仍然有效，因为兑换码有时会有长期有效性。\\n'\n",
      "                                     '\\n'\n",
      "                                     '因此，最终答案可能需要列出最近可用的兑换码，并注明可能的有效期，同时提醒用户及时兑换，因为有些可能即将过期。例如，ZENLESSGIFT可能仍然有效，而ZZZ17MIFUYU可能在五月底过期，但用户现在在6月3日，可能已经失效。需要确认是否有六月的新兑换码，但搜索结果显示没有，所以只能提供最新的可能可用的，并建议用户关注官方直播或活动获取最新兑换码。\\n'\n",
      "                                     '</think>\\n'\n",
      "                                     '\\n'\n",
      "                                     '《绝区零》的最新菲林兑换码主要包括以下内容：  \\n'\n",
      "                                     '\\n'\n",
      "                                     '**最新可用兑换码（截至2025年5月30日）**：  \\n'\n",
      "                                     '- **ZZZ17MIFUYU**：复色菲林×60，丁尼×666 '\n",
      "                                     '[2][4]  \\n'\n",
      "                                     '- '\n",
      "                                     '**ZZZANNIVERSARY**：菲林×300，资深调查员记录×2，音擎能源模块×3，丁尼×30,000（有效期至2025年5月25日）[1][4]  \\n'\n",
      "                                     '- '\n",
      "                                     '**ZENLESSGIFT**：菲林×50，正式调查员记录×2，邦布算法模块×1 '\n",
      "                                     '[1][5]  \\n'\n",
      "                                     '\\n'\n",
      "                                     '**注意事项**：  \\n'\n",
      "                                     '1. **ZZZANNIVERSARY** '\n",
      "                                     '已过期，但未来版本前瞻直播仍可能提供类似兑换码，建议关注官方活动。  \\n'\n",
      "                                     '2. '\n",
      "                                     '部分兑换码需通过游戏内「设置-账户-兑换码」界面输入，奖励通过邮件发放[1][5]。  \\n'\n",
      "                                     '3. 国际服与国服兑换码可能存在差异，部分码需区分服务器使用[4]。  \\n'\n",
      "                                     '\\n'\n",
      "                                     '建议定期关注版本直播、官方社交媒体或社区更新，以获取最新限时兑换码。例如，1.5版本直播曾发放300菲林兑换码，2.0版本可能延续类似福利[3][4]。'},\n",
      "              'delta': {'role': 'assistant', 'content': ''}}]}\n"
     ]
    }
   ],
   "source": [
    "query = \"绝区零最新菲林兑换码\"\n",
    "\n",
    "url = \"https://api.perplexity.ai/chat/completions\"\n",
    "\n",
    "headers = {\n",
    "  \"Authorization\": f\"Bearer {PERPLEXITY_API_KEY}\",\n",
    "  \"Content-Type\": \"application/json\",\n",
    "}\n",
    "\n",
    "data = {\n",
    "  \"model\": \"sonar-reasoning-pro\",\n",
    "  \"messages\": [\n",
    "    {\n",
    "      \"role\": \"system\",\n",
    "      \"content\": \"Be precise and concise.\",\n",
    "    },\n",
    "    {\n",
    "      \"role\": \"user\",\n",
    "      \"content\": query,\n",
    "    },\n",
    "  ]\n",
    "}\n",
    "\n",
    "response = requests.post(url, headers=headers, json=data)\n",
    "\n",
    "pp(response.json())"
   ]
  }
 ],
 "metadata": {
  "kernelspec": {
   "display_name": "base",
   "language": "python",
   "name": "python3"
  },
  "language_info": {
   "codemirror_mode": {
    "name": "ipython",
    "version": 3
   },
   "file_extension": ".py",
   "mimetype": "text/x-python",
   "name": "python",
   "nbconvert_exporter": "python",
   "pygments_lexer": "ipython3",
   "version": "3.12.9"
  }
 },
 "nbformat": 4,
 "nbformat_minor": 2
}
