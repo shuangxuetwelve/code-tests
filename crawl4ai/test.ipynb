{
 "cells": [
  {
   "cell_type": "code",
   "execution_count": 3,
   "metadata": {},
   "outputs": [],
   "source": [
    "from crawl4ai import *"
   ]
  },
  {
   "cell_type": "code",
   "execution_count": 19,
   "metadata": {},
   "outputs": [],
   "source": [
    "url_target = \"https://www.douyin.com/jingxuan\""
   ]
  },
  {
   "cell_type": "code",
   "execution_count": 20,
   "metadata": {},
   "outputs": [
    {
     "data": {
      "text/html": [
       "<pre style=\"white-space:pre;overflow-x:auto;line-height:normal;font-family:Menlo,'DejaVu Sans Mono',consolas,'Courier New',monospace\"><span style=\"color: #008080; text-decoration-color: #008080; font-weight: bold\">[</span><span style=\"color: #008080; text-decoration-color: #008080\">INIT</span><span style=\"color: #008080; text-decoration-color: #008080; font-weight: bold\">]</span><span style=\"color: #008080; text-decoration-color: #008080\">.... → Crawl4AI </span><span style=\"color: #008080; text-decoration-color: #008080; font-weight: bold\">0.6</span><span style=\"color: #008080; text-decoration-color: #008080\">.</span><span style=\"color: #008080; text-decoration-color: #008080; font-weight: bold\">3</span><span style=\"color: #008080; text-decoration-color: #008080\"> </span>\n",
       "</pre>\n"
      ],
      "text/plain": [
       "\u001b[1;36m[\u001b[0m\u001b[36mINIT\u001b[0m\u001b[1;36m]\u001b[0m\u001b[36m...\u001b[0m\u001b[36m. → Crawl4AI \u001b[0m\u001b[1;36m0.6\u001b[0m\u001b[36m.\u001b[0m\u001b[1;36m3\u001b[0m\u001b[36m \u001b[0m\n"
      ]
     },
     "metadata": {},
     "output_type": "display_data"
    },
    {
     "data": {
      "text/html": [
       "<pre style=\"white-space:pre;overflow-x:auto;line-height:normal;font-family:Menlo,'DejaVu Sans Mono',consolas,'Courier New',monospace\"><span style=\"color: #008000; text-decoration-color: #008000; font-weight: bold\">[</span><span style=\"color: #008000; text-decoration-color: #008000\">FETCH</span><span style=\"color: #008000; text-decoration-color: #008000; font-weight: bold\">]</span><span style=\"color: #008000; text-decoration-color: #008000\">... ↓ </span><span style=\"color: #008000; text-decoration-color: #008000; text-decoration: underline\">https://www.douyin.com/jingxuan</span><span style=\"color: #008000; text-decoration-color: #008000\">                                                                      |</span>\n",
       "<span style=\"color: #008000; text-decoration-color: #008000\">✓ | ⏱: </span><span style=\"color: #008000; text-decoration-color: #008000; font-weight: bold\">4.</span><span style=\"color: #008000; text-decoration-color: #008000\">53s </span>\n",
       "</pre>\n"
      ],
      "text/plain": [
       "\u001b[1;32m[\u001b[0m\u001b[32mFETCH\u001b[0m\u001b[1;32m]\u001b[0m\u001b[32m...\u001b[0m\u001b[32m ↓ \u001b[0m\u001b[4;32mhttps://www.douyin.com/jingxuan\u001b[0m\u001b[32m                                                                      |\u001b[0m\n",
       "\u001b[32m✓\u001b[0m\u001b[32m | ⏱: \u001b[0m\u001b[1;32m4.\u001b[0m\u001b[32m53s \u001b[0m\n"
      ]
     },
     "metadata": {},
     "output_type": "display_data"
    },
    {
     "data": {
      "text/html": [
       "<pre style=\"white-space:pre;overflow-x:auto;line-height:normal;font-family:Menlo,'DejaVu Sans Mono',consolas,'Courier New',monospace\"><span style=\"color: #008000; text-decoration-color: #008000; font-weight: bold\">[</span><span style=\"color: #008000; text-decoration-color: #008000\">SCRAPE</span><span style=\"color: #008000; text-decoration-color: #008000; font-weight: bold\">]</span><span style=\"color: #008000; text-decoration-color: #008000\">.. ◆ </span><span style=\"color: #008000; text-decoration-color: #008000; text-decoration: underline\">https://www.douyin.com/jingxuan</span><span style=\"color: #008000; text-decoration-color: #008000\">                                                                      |</span>\n",
       "<span style=\"color: #008000; text-decoration-color: #008000\">✓ | ⏱: </span><span style=\"color: #008000; text-decoration-color: #008000; font-weight: bold\">0.</span><span style=\"color: #008000; text-decoration-color: #008000\">03s </span>\n",
       "</pre>\n"
      ],
      "text/plain": [
       "\u001b[1;32m[\u001b[0m\u001b[32mSCRAPE\u001b[0m\u001b[1;32m]\u001b[0m\u001b[32m.. ◆ \u001b[0m\u001b[4;32mhttps://www.douyin.com/jingxuan\u001b[0m\u001b[32m                                                                      |\u001b[0m\n",
       "\u001b[32m✓\u001b[0m\u001b[32m | ⏱: \u001b[0m\u001b[1;32m0.\u001b[0m\u001b[32m03s \u001b[0m\n"
      ]
     },
     "metadata": {},
     "output_type": "display_data"
    },
    {
     "data": {
      "text/html": [
       "<pre style=\"white-space:pre;overflow-x:auto;line-height:normal;font-family:Menlo,'DejaVu Sans Mono',consolas,'Courier New',monospace\"><span style=\"color: #008000; text-decoration-color: #008000; font-weight: bold\">[</span><span style=\"color: #008000; text-decoration-color: #008000\">COMPLETE</span><span style=\"color: #008000; text-decoration-color: #008000; font-weight: bold\">]</span><span style=\"color: #008000; text-decoration-color: #008000\"> ● </span><span style=\"color: #008000; text-decoration-color: #008000; text-decoration: underline\">https://www.douyin.com/jingxuan</span><span style=\"color: #008000; text-decoration-color: #008000\">                                                                      |</span>\n",
       "<span style=\"color: #008000; text-decoration-color: #008000\">✓ | ⏱: </span><span style=\"color: #008000; text-decoration-color: #008000; font-weight: bold\">4.</span><span style=\"color: #008000; text-decoration-color: #008000\">56s </span>\n",
       "</pre>\n"
      ],
      "text/plain": [
       "\u001b[1;32m[\u001b[0m\u001b[32mCOMPLETE\u001b[0m\u001b[1;32m]\u001b[0m\u001b[32m ● \u001b[0m\u001b[4;32mhttps://www.douyin.com/jingxuan\u001b[0m\u001b[32m                                                                      |\u001b[0m\n",
       "\u001b[32m✓\u001b[0m\u001b[32m | ⏱: \u001b[0m\u001b[1;32m4.\u001b[0m\u001b[32m56s \u001b[0m\n"
      ]
     },
     "metadata": {},
     "output_type": "display_data"
    },
    {
     "name": "stdout",
     "output_type": "stream",
     "text": [
      "开启读屏标签\n",
      "读屏标签已关闭\n",
      "[](https://www.douyin.com/)\n",
      "![](https://www.douyin.com/jingxuan)![](https://www.douyin.com/jingxuan)![](https://www.douyin.com/jingxuan)![](https://www.douyin.com/jingxuan)![](https://www.douyin.com/jingxuan)![](https://www.douyin.com/jingxuan)![](https://www.douyin.com/jingxuan)![](https://www.douyin.com/jingxuan)![](https://www.douyin.com/jingxuan)![](https://www.douyin.com/jingxuan)![](https://www.douyin.com/jingxuan)![](https://www.douyin.com/jingxuan)![](https://www.douyin.com/jingxuan)![](https://www.douyin.com/jingxuan)![](https://www.douyin.com/jingxuan)![](https://www.douyin.com/jingxuan)![](https://www.douyin.com/jingxuan)![](https://www.douyin.com/jingxuan)![](https://www.douyin.com/jingxuan)![](https://www.douyin.com/jingxuan)\n",
      "[精选](https://www.douyin.com/jingxuan?from_nav=1)\n",
      "[推荐](https://www.douyin.com/?recommend=1&from_nav=1)\n",
      "[关注](https://www.douyin.com/follow?from_nav=1)\n",
      "[朋友](https://www.douyin.com/friend?from_nav=1)\n",
      "[我的](https://www.douyin.com/user/self?from_nav=1)\n",
      "充钻石\n",
      "[客户端](https://www.douyin.com/jingxuan)\n",
      "通知\n",
      "\n",
      "\n",
      "私信\n",
      "\n",
      "\n",
      "投稿\n",
      "登录\n",
      "[](https://www.douyin.com/)\n",
      "全部\n",
      "游戏\n",
      "二次元\n",
      "音乐\n",
      "美食\n",
      "知识\n",
      "体育\n",
      "小剧场\n",
      "影视\n",
      "生活vlog\n",
      "亲子\n",
      "汽车\n",
      "三农\n",
      "动物\n",
      "旅行\n",
      "美妆穿搭\n",
      "![被困孤岛荒野生存七天](https://p3-pc-sign.douyinpic.com/image-cut-tos/34851bbe951dd280f0995b8ce459e2ce~tplv-dy-vqe2-sr-opt1:640:480:q80.webp?from=1231223059&x-expires=1749751200&x-signature=O0fdk5PaN2%2BrTBbz4OeWtwFVgMY%3D)\n",
      "20:03\n",
      "4150\n",
      "被困孤岛荒野生存七天\n",
      "@异眼影视 · 3天前\n",
      "![《金麒麟》做人切不可有贪婪之心！#济公 济公是什么级别的神仙？](https://p3-pc-sign.douyinpic.com/image-cut-tos/2f93cd71b639e20861d799e9423391ca~tplv-dy-vqe2-sr-opt1:640:480:q80.webp?from=1231223059&x-expires=1749751200&x-signature=y8caNuFAaZ89Co0kY%2FZQRhY0WP8%3D)\n",
      "11:43\n",
      "8291\n",
      "《金麒麟》做人切不可有贪婪之心！#济公 济公是什么级别的神仙？\n",
      "@挑灯夜剪 · 5月15日\n",
      "![都这样了，也得给这镜子留着是吧？大兵45拯救成功！！](https://p3-pc-sign.douyinpic.com/image-cut-tos/607247026477889a9ff7139dcd0d0f06~tplv-dy-vqe2-sr-opt1:640:480:q80.webp?from=1231223059&x-expires=1749751200&x-signature=IlwxnmtdygPpAgxfH11QhAHqesA%3D)\n",
      "15:33\n",
      "46.8万\n",
      "都这样了，也得给这镜子留着是吧？大兵45拯救成功！！\n",
      "@杨齐家(三角洲行动) · 5月10日\n",
      "![夏天一定要吃的15道经典家常菜](https://p3-pc-sign.douyinpic.com/image-cut-tos/5c0f2e253723aae01e8e72b0458247f6~tplv-dy-vqe2-sr-opt1:640:480:q80.webp?from=1231223059&x-expires=1749751200&x-signature=tdFYGaUSPBCuhZb%2BpPRFyjNwObE%3D)\n",
      "09:33\n",
      "2.0万\n",
      "夏天一定要吃的15道经典家常菜\n",
      "@天天教做菜 · 5月16日\n",
      "![上海AB贷套路详细揭秘](https://p9-pc-sign.douyinpic.com/image-cut-tos/e5458f3bd72c4137c969b12e82b6230d~tplv-dy-vqe2-sr-opt1:640:480:q80.webp?from=1231223059&x-expires=1749751200&x-signature=zCre%2B%2FPOWeA6rPigvxBqonQDJpI%3D)\n",
      "13:19\n",
      "2.8万\n",
      "上海AB贷套路详细揭秘\n",
      "@沪上说金 · 5月22日\n",
      "![晋南农村结婚，骑着高头大马去迎亲，13分14秒，朋友都夸太棒了](https://p3-pc-sign.douyinpic.com/image-cut-tos/429fe550b8b93d6bdd2cda8700d83238~tplv-dy-vqe2-sr-opt1:640:480:q80.webp?from=1231223059&x-expires=1749751200&x-signature=dUz8GbsVBuG%2FsqgMMlIS0ntIBxE%3D)\n",
      "13:13\n",
      "3.0万\n",
      "晋南农村结婚，骑着高头大马去迎亲，13分14秒，朋友都夸太棒了\n",
      "@媛媛姑娘 · 4月22日\n",
      "![从草原霸主到弃妇，她带着流浪雄狮的八子，开启复仇逆袭之路](https://p3-pc-sign.douyinpic.com/image-cut-tos/8d6e5b399750ace43d225c78b94fee9d~tplv-dy-vqe2-sr-opt1:640:480:q80.webp?from=1231223059&x-expires=1749751200&x-signature=OSYlni0Cse27IcTEhiD05g35fdg%3D)\n",
      "10:37\n",
      "1.3万\n",
      "从草原霸主到弃妇，她带着流浪雄狮的八子，开启复仇逆袭之路\n",
      "@奇妙动物所 · 5月4日\n",
      "![自己组装21度电锂电池，省了4千块，电动车续航最少200公里](https://p3-pc-sign.douyinpic.com/image-cut-tos/f58afe06989dd70460080093906083f9~tplv-dy-vqe2-sr-opt1:640:480:q80.webp?from=1231223059&x-expires=1749751200&x-signature=2k98QRqORA5USC2Av%2BjhyayzAyE%3D)\n",
      "22:32\n",
      "4161\n",
      "自己组装21度电锂电池，省了4千块，电动车续航最少200公里\n",
      "@肥鹰精致流浪 · 5月24日\n",
      "![《万恶修改》1-7合集蹲坑版](https://p9-pc-sign.douyinpic.com/image-cut-tos/b7e8f5eb386d6f05fa705480db16be17~tplv-dy-vqe2-sr-opt1:640:480:q80.webp?from=1231223059&x-expires=1749751200&x-signature=5Y0HDZ%2BTlQC9QSgqhYBA7Hw0nKg%3D)\n",
      "38:10\n",
      "5.4万\n",
      "《万恶修改》1-7合集蹲坑版\n",
      "@喵大漫剪 · 5月18日\n",
      "![初见还是纯情女，再见已是少萝皇](https://p3-pc-sign.douyinpic.com/image-cut-tos/74ed75e45a7f47b6378b4a8edb685dd3~tplv-dy-vqe2-sr-opt1:640:480:q80.webp?from=1231223059&x-expires=1749751200&x-signature=DDhYEvYHmRhxWRBTIj1qjmzWUuk%3D)\n",
      "08:13\n",
      "1.3万\n",
      "初见还是纯情女，再见已是少萝皇\n",
      "@花总 · 2天前\n",
      "\n"
     ]
    }
   ],
   "source": [
    "crawler = AsyncWebCrawler()\n",
    "\n",
    "result = await crawler.arun(url=url_target)\n",
    "\n",
    "print(result.markdown)"
   ]
  }
 ],
 "metadata": {
  "kernelspec": {
   "display_name": "base",
   "language": "python",
   "name": "python3"
  },
  "language_info": {
   "codemirror_mode": {
    "name": "ipython",
    "version": 3
   },
   "file_extension": ".py",
   "mimetype": "text/x-python",
   "name": "python",
   "nbconvert_exporter": "python",
   "pygments_lexer": "ipython3",
   "version": "3.12.9"
  }
 },
 "nbformat": 4,
 "nbformat_minor": 2
}
