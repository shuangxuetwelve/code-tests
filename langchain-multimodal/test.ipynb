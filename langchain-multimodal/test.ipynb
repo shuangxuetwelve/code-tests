{
 "cells": [
  {
   "cell_type": "code",
   "execution_count": 1,
   "metadata": {},
   "outputs": [],
   "source": [
    "import base64\n",
    "\n",
    "from dotenv import load_dotenv\n",
    "load_dotenv()\n",
    "\n",
    "from langchain.chat_models import init_chat_model"
   ]
  },
  {
   "cell_type": "code",
   "execution_count": 10,
   "metadata": {},
   "outputs": [
    {
     "name": "stdout",
     "output_type": "stream",
     "text": [
      "This image appears to be in a Japanese anime/manga illustration style, with a distinctive artistic approach that combines detailed linework with soft, painterly elements. The artwork features a figure with blue hair wearing a white blouse and blue skirt, standing among scattered newspapers and posters.\n",
      "\n",
      "The art style employs a semi-realistic technique with careful attention to fabric textures, particularly in how the clothing drapes and moves. The color palette is subdued, using mainly muted tones with pops of blue and white as focal points. There's a strong sense of light and shadow, creating depth and atmosphere in the scene.\n",
      "\n",
      "The background setting appears somewhat grungy or industrial, with walls covered in posters and papers with Asian text, creating an interesting contrast with the more delicate rendering of the central figure. The overall aesthetic has a melancholic, contemplative mood that's characteristic of contemporary Japanese illustration.\n",
      "\n",
      "The technique appears to be digital art but maintains a painterly quality that gives it warmth and texture, avoiding the overly polished look that some digital artwork can have.\n"
     ]
    }
   ],
   "source": [
    "\n",
    "image_file = open(\"image.jpg\", \"rb\")\n",
    "image_base64 = base64.b64encode(image_file.read()).decode(\"utf-8\")\n",
    "image_file.close()\n",
    "\n",
    "message = {\n",
    "  \"role\": \"user\",\n",
    "  \"content\": [\n",
    "    {\n",
    "      \"type\": \"text\",\n",
    "      \"text\": \"Please describe the style of the image\",\n",
    "    },\n",
    "    {\n",
    "      \"type\": \"image\",\n",
    "      \"source\": {\n",
    "        \"media_type\": \"image/jpeg\",\n",
    "        \"type\": \"base64\",\n",
    "        \"data\": image_base64,\n",
    "      },\n",
    "    }\n",
    "  ],\n",
    "}\n",
    "\n",
    "llm = init_chat_model(model=\"claude-3-5-sonnet-latest\", model_provider=\"anthropic\")\n",
    "response = llm.invoke([message])\n",
    "\n",
    "print(response.text())"
   ]
  }
 ],
 "metadata": {
  "kernelspec": {
   "display_name": "ai-scout",
   "language": "python",
   "name": "python3"
  },
  "language_info": {
   "codemirror_mode": {
    "name": "ipython",
    "version": 3
   },
   "file_extension": ".py",
   "mimetype": "text/x-python",
   "name": "python",
   "nbconvert_exporter": "python",
   "pygments_lexer": "ipython3",
   "version": "3.12.9"
  }
 },
 "nbformat": 4,
 "nbformat_minor": 2
}
