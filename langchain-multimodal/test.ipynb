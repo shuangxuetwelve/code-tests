{
 "cells": [
  {
   "cell_type": "code",
   "execution_count": 1,
   "metadata": {},
   "outputs": [],
   "source": [
    "import base64\n",
    "\n",
    "from dotenv import load_dotenv\n",
    "load_dotenv()\n",
    "\n",
    "from langchain.chat_models import init_chat_model"
   ]
  },
  {
   "cell_type": "code",
   "execution_count": 8,
   "metadata": {},
   "outputs": [],
   "source": [
    "llm = init_chat_model(model=\"claude-3-5-sonnet-latest\", model_provider=\"anthropic\")"
   ]
  },
  {
   "cell_type": "code",
   "execution_count": 9,
   "metadata": {},
   "outputs": [
    {
     "name": "stdout",
     "output_type": "stream",
     "text": [
      "This image is created in a distinctive anime/manga illustration style, but with a painterly quality that gives it more depth and texture than typical anime art. The artwork features soft, atmospheric lighting and a detailed attention to fabric textures, particularly in the white blouse and blue skirt. The background setting shows a grungy, paper-strewn environment with newspaper clippings and posters on the walls, rendered in muted beige tones.\n",
      "\n",
      "The illustration technique combines clean linework characteristic of anime with more painterly elements, especially in how light and shadow are handled. There's a careful balance between precise details and looser, more expressive brushwork, particularly noticeable in the clothing and hair. The color palette is relatively subdued, focusing on blues, whites, and warm neutral tones, which creates a melancholic yet artistic atmosphere.\n",
      "\n",
      "The overall style could be described as a hybrid between traditional anime artwork and contemporary digital painting, with elements of both realism and stylization working together to create a unique aesthetic.\n"
     ]
    }
   ],
   "source": [
    "\n",
    "image_file = open(\"image.jpg\", \"rb\")\n",
    "image_base64 = base64.b64encode(image_file.read()).decode(\"utf-8\")\n",
    "image_file.close()\n",
    "\n",
    "message = {\n",
    "  \"role\": \"user\",\n",
    "  \"content\": [\n",
    "    {\n",
    "      \"type\": \"text\",\n",
    "      \"text\": \"Please describe the style of the image\",\n",
    "    },\n",
    "    {\n",
    "      \"type\": \"image\",\n",
    "      \"source\": {\n",
    "        \"media_type\": \"image/jpeg\",\n",
    "        \"type\": \"base64\",\n",
    "        \"data\": image_base64,\n",
    "      },\n",
    "    }\n",
    "  ],\n",
    "}\n",
    "\n",
    "response = llm.invoke([message])\n",
    "print(response.text())"
   ]
  }
 ],
 "metadata": {
  "kernelspec": {
   "display_name": "ai-scout",
   "language": "python",
   "name": "python3"
  },
  "language_info": {
   "codemirror_mode": {
    "name": "ipython",
    "version": 3
   },
   "file_extension": ".py",
   "mimetype": "text/x-python",
   "name": "python",
   "nbconvert_exporter": "python",
   "pygments_lexer": "ipython3",
   "version": "3.12.9"
  }
 },
 "nbformat": 4,
 "nbformat_minor": 2
}
