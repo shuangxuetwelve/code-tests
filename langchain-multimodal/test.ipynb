{
 "cells": [
  {
   "cell_type": "code",
   "execution_count": 1,
   "metadata": {},
   "outputs": [],
   "source": [
    "import base64\n",
    "\n",
    "from dotenv import load_dotenv\n",
    "load_dotenv()\n",
    "\n",
    "from langchain.chat_models import init_chat_model"
   ]
  },
  {
   "cell_type": "code",
   "execution_count": 12,
   "metadata": {},
   "outputs": [
    {
     "name": "stdout",
     "output_type": "stream",
     "text": [
      "This image appears to be in a Japanese anime/manga illustration style, but with a somewhat painterly and textural quality. The artwork features strong linework combined with soft watercolor-like effects, particularly noticeable in the treatment of the clothing - a white blouse and blue skirt. The background shows a grungy urban setting with newspapers and posters scattered about, rendered in muted beige tones. The illustration has a sophisticated blend of detailed pen work and loose, artistic brushstrokes that give it both precision and atmospheric quality. The color palette is relatively subdued, focusing on blues, whites, and warm neutral tones. The overall style combines elements of traditional anime with more contemporary digital painting techniques, creating a distinctive and refined aesthetic.\n"
     ]
    }
   ],
   "source": [
    "\n",
    "image_file = open(\"image.jpg\", \"rb\")\n",
    "image_base64 = base64.b64encode(image_file.read()).decode(\"utf-8\")\n",
    "image_file.close()\n",
    "\n",
    "message = {\n",
    "  \"role\": \"user\",\n",
    "  \"content\": [\n",
    "    {\n",
    "      \"type\": \"text\",\n",
    "      \"text\": \"Please describe the style of the image\",\n",
    "    },\n",
    "    {\n",
    "      \"type\": \"image\",\n",
    "      \"source\": {\n",
    "        \"media_type\": \"image/jpeg\",\n",
    "        \"type\": \"base64\",\n",
    "        \"data\": image_base64,\n",
    "      },\n",
    "    }\n",
    "  ],\n",
    "}\n",
    "\n",
    "llm = init_chat_model(model=\"claude-3-5-sonnet-latest\", model_provider=\"anthropic\")\n",
    "# The same method also works for OpenAI\n",
    "# llm = init_chat_model(model=\"gpt-4o\", model_provider=\"openai\")\n",
    "\n",
    "response = llm.invoke([message])\n",
    "print(response.text())"
   ]
  }
 ],
 "metadata": {
  "kernelspec": {
   "display_name": "ai-scout",
   "language": "python",
   "name": "python3"
  },
  "language_info": {
   "codemirror_mode": {
    "name": "ipython",
    "version": 3
   },
   "file_extension": ".py",
   "mimetype": "text/x-python",
   "name": "python",
   "nbconvert_exporter": "python",
   "pygments_lexer": "ipython3",
   "version": "3.12.9"
  }
 },
 "nbformat": 4,
 "nbformat_minor": 2
}
