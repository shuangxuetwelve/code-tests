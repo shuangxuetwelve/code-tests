{
 "cells": [
  {
   "cell_type": "markdown",
   "metadata": {},
   "source": [
    "# Test Gemini Python SDK - Basic Usage\n",
    "\n",
    "This code example demonstrates the basic usage of Gemini without the multi-turn conversation.\n",
    "\n",
    "## Environment\n",
    "\n",
    "```sh\n",
    "pip install google-genai python-dotenv\n",
    "```"
   ]
  },
  {
   "cell_type": "markdown",
   "metadata": {},
   "source": [
    "## Codes"
   ]
  },
  {
   "cell_type": "markdown",
   "metadata": {},
   "source": [
    "### Imports and Initialization"
   ]
  },
  {
   "cell_type": "code",
   "execution_count": 1,
   "metadata": {},
   "outputs": [],
   "source": [
    "import os\n",
    "\n",
    "from dotenv import load_dotenv\n",
    "load_dotenv()\n",
    "\n",
    "from google import genai\n",
    "\n",
    "client = genai.Client(api_key=os.getenv(\"GEMINI_API_KEY\"))"
   ]
  },
  {
   "cell_type": "markdown",
   "metadata": {},
   "source": [
    "### Send the Message"
   ]
  },
  {
   "cell_type": "code",
   "execution_count": 2,
   "metadata": {},
   "outputs": [
    {
     "name": "stdout",
     "output_type": "stream",
     "text": [
      "text response: 要查找网红歌手鱼闪闪最新的演出行程，你可以尝试以下几个主要的渠道：\n",
      "\n",
      "1.  **官方社交媒体账号：**\n",
      "    *   **微博 (Weibo)：** 这是中国明星和网红最主要的宣传阵地。搜索“鱼闪闪”的官方微博账号（通常会有认证标志，如黄V或蓝V），她或她的团队会在这里发布最新的动态、演出预告、直播通知等。\n",
      "    *   **抖音 (Douyin) / B站 (Bilibili) / 小红书 (Xiaohongshu)：** 如果鱼闪闪在这些平台活跃，也可能会发布相关信息。特别留意她的直播预告。\n",
      "\n",
      "2.  **粉丝后援会/超话 (Fan Clubs/Super Topics)：**\n",
      "    *   在微博上搜索“鱼闪闪超话”，加入她的粉丝社群。粉丝们通常会第一时间分享和汇总偶像的行程信息、演出视频等。后援会也可能会有专门的QQ群或微信群。\n",
      "\n",
      "3.  **音乐平台：**\n",
      "    *   如QQ音乐、网易云音乐、酷狗音乐等。如果她有线上演唱会或参与某些音乐节，这些平台可能会有信息和购票链接。她如果在这些平台有认证的歌手主页，也可能更新动态。\n",
      "\n",
      "4.  **票务平台：**\n",
      "    *   如果鱼闪闪有线下的公开售票演出（如演唱会、音乐节、Livehouse演出等），可以关注**大麦网 (Damai.cn)**、**猫眼演出 (Maoyan)**、**票星球**等主流票务APP或网站。在这些平台上搜索“鱼闪闪”的名字，看是否有相关演出信息。\n",
      "\n",
      "5.  **直播平台本身：**\n",
      "    *   如果她主要在某个固定的直播平台（如抖音、B站、斗鱼、虎牙等）进行直播演唱，那么该平台的官方通知或她个人直播间的预告会是重要信息来源。\n",
      "\n",
      "**搜索技巧：**\n",
      "*   使用关键词：“鱼闪闪 演出”、“鱼闪闪 行程”、“鱼闪闪 活动”、“鱼闪闪 演唱会”、“鱼闪闪 直播”等。\n",
      "*   注意信息的时效性，尽量查找最新的发布。\n",
      "\n",
      "**注意事项：**\n",
      "*   网红歌手的行程可能不如传统明星那样有非常规律和大规模的巡演，很多可能是临时性的线上直播、小型线下见面会或商业活动。\n",
      "*   务必从官方渠道或可靠的粉丝组织获取信息，警惕非官方发布的虚假行程或诈骗信息。\n",
      "\n",
      "建议你优先关注她的官方微博和粉丝超话，这是获取信息最快捷有效的方式。\n"
     ]
    }
   ],
   "source": [
    "response = client.models.generate_content(\n",
    "  model=\"gemini-2.5-pro-preview-05-06\",\n",
    "  config=genai.types.GenerateContentConfig(\n",
    "    system_instruction=\"You are a helpful assistant.\"\n",
    "  ),\n",
    "  contents=\"鱼闪闪是中国的一位网红歌手，到哪里能够查找到她最新的演出行程？\"\n",
    ")\n",
    "\n",
    "print(\"text response:\", response.text)"
   ]
  }
 ],
 "metadata": {
  "kernelspec": {
   "display_name": "gemini",
   "language": "python",
   "name": "python3"
  },
  "language_info": {
   "codemirror_mode": {
    "name": "ipython",
    "version": 3
   },
   "file_extension": ".py",
   "mimetype": "text/x-python",
   "name": "python",
   "nbconvert_exporter": "python",
   "pygments_lexer": "ipython3",
   "version": "3.12.9"
  }
 },
 "nbformat": 4,
 "nbformat_minor": 2
}
