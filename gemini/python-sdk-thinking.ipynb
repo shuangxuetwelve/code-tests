{
 "cells": [
  {
   "cell_type": "markdown",
   "metadata": {},
   "source": [
    "# Test Gemini Python SDK - Thinking\n",
    "\n",
    "This code example demonstrates using Gemini thining.\n",
    "\n",
    "## Environment\n",
    "\n",
    "```sh\n",
    "pip install google-genai python-dotenv\n",
    "```"
   ]
  },
  {
   "cell_type": "markdown",
   "metadata": {},
   "source": [
    "## Codes"
   ]
  },
  {
   "cell_type": "markdown",
   "metadata": {},
   "source": [
    "### Imports and Initialization"
   ]
  },
  {
   "cell_type": "code",
   "execution_count": 1,
   "metadata": {},
   "outputs": [],
   "source": [
    "import os\n",
    "\n",
    "from dotenv import load_dotenv\n",
    "load_dotenv()\n",
    "\n",
    "from google import genai\n",
    "\n",
    "client = genai.Client(api_key=os.getenv(\"GEMINI_API_KEY\"))"
   ]
  },
  {
   "cell_type": "markdown",
   "metadata": {},
   "source": [
    "### With Default Thinking Budget"
   ]
  },
  {
   "cell_type": "code",
   "execution_count": 5,
   "metadata": {},
   "outputs": [
    {
     "name": "stdout",
     "output_type": "stream",
     "text": [
      "Thought: **Deconstructing and Navigating the Search for 鱼闪闪's Concert Schedule**\n",
      "\n",
      "Okay, so I'm presented with a straightforward request: find the latest performance schedule for 鱼闪闪. My initial assessment immediately kicks in. I need to figure out where this information would *likely* be, especially considering she's a Chinese internet celebrity singer.\n",
      "\n",
      "My first thought process involves a mental checklist. Where do artists usually post their schedules? Official website is the first obvious one, but then I quickly move on to social media platforms. For a Chinese artist, Weibo is practically a given. It's the go-to platform for official announcements. Douyin and Kuaishou are also high on my list, given that she's an \"网红歌手\" (internet celebrity singer). Bilibili is a possibility, especially if she streams or has longer-form content there. Xiaohongshu is a bit less likely for *concert schedules*, but I still wouldn't rule it out for casual updates. Then I'll check if she has any existing fan groups and ticketing platforms.\n",
      "\n",
      "Now, prioritizing these based on the Chinese context is key. Weibo is the absolute priority. Then I would turn to Douyin or Kuaishou to see if anything is there. I'd then check Bilibili. Ticketing platforms like Damai (大麦) or Maoyan (猫眼) would list her once they're *announced*. Fan groups are very reliable, as fans are usually the first to know and share information.\n",
      "\n",
      "The next step is formulating the search strategy. I would structure my answer in a direct and effective way, focusing on the most likely sources first. I'd tell the user that \"the most effective and direct way is to follow her official social media platforms.\" I would explicitly state that the key platforms for Chinese artists are Weibo and Douyin, which is where her \"最新演出行程\" (latest performance schedule) are most likely to be posted.\n",
      "\n",
      "And then I'd start refining my response by offering more detail and structure. I'd clearly state that Weibo and Douyin are key and would provide tips, like searching for her official account or her Super Topic. As a secondary method, I'd suggest checking major ticketing platforms like Damai (大麦), Maoyan (猫眼), or 票牛 (Piaoniu). Then, I'd finish by offering some general recommendations, like following her and turning on notifications and by concluding with the most important platforms.\n",
      "\n",
      "Response: 要查找鱼闪闪最新的演出行程，最有效和直接的方式是关注她的官方社交媒体平台。作为一位网红歌手，她最主要的宣发渠道通常是以下几个：\n",
      "\n",
      "1.  **微博 (Weibo)**：\n",
      "    *   这是中国明星和公众人物发布官方消息、行程更新最主要的平台。\n",
      "    *   **操作方法**：在微博搜索框中输入“鱼闪闪”，找到她的官方认证账号（通常会有蓝色V或橙色V标识）。关注她的账号，并留意她发布的动态、公告或置顶微博，那里会最及时地公布演出信息。她也可能会创建或参与超话（#鱼闪闪#），粉丝们会在超话里交流并分享信息。\n",
      "\n",
      "2.  **抖音 (Douyin) / 快手 (Kuaishou)**：\n",
      "    *   作为网红歌手，她很可能会在这些短视频平台上发布最新的动态、直播预告或演出花絮。\n",
      "    *   **操作方法**：在这两个App内搜索“鱼闪闪”，找到她的官方账号。关注并开启消息提醒，这样就能在她发布新消息或进行直播时第一时间收到通知。\n",
      "\n",
      "3.  **Bilibili (哔哩哔哩)**：\n",
      "    *   如果她有在B站发布Vlog、音乐作品或进行直播，也可能会在上面提及或公布演出信息。\n",
      "    *   **操作方法**：在B站搜索“鱼闪闪”，关注她的账号。\n",
      "\n",
      "4.  **粉丝后援会/粉丝群**：\n",
      "    *   在微博等平台找到她的官方粉丝后援会账号。粉丝后援会通常会第一时间掌握并分享偶像的最新行程。有些后援会还会组织粉丝群，在群里通知演出信息。\n",
      "\n",
      "5.  **大型票务平台**：\n",
      "    *   如果她的演出是正式的售票性质（例如演唱会、音乐节等），信息会同步到各大票务平台。\n",
      "    *   **中国常用的票务平台**：\n",
      "        *   **大麦网 (Damai.cn)**\n",
      "        *   **猫眼演出 (Maoyan Live)**\n",
      "        *   **票牛 (Piaoniu)**\n",
      "        *   **秀动 (Xiudong)**\n",
      "    *   **操作方法**：在这些平台搜索“鱼闪闪”的名字，看看是否有即将到来的演出信息。\n",
      "\n",
      "**总结**：\n",
      "**微博**和**抖音/快手**是您最应该关注的渠道，因为作为网红歌手，她最活跃的平台就在这里。建议您多管齐下，关注她的多个官方社交媒体账号，确保能第一时间获取最新演出信息。\n"
     ]
    }
   ],
   "source": [
    "response = client.models.generate_content(\n",
    "  model=\"gemini-2.5-flash-preview-05-20\",\n",
    "  config=genai.types.GenerateContentConfig(\n",
    "    system_instruction=\"You are a helpful assistant.\",\n",
    "    thinking_config=genai.types.ThinkingConfig(\n",
    "      include_thoughts=True,\n",
    "    )\n",
    "  ),\n",
    "  contents=\"鱼闪闪是中国的一位网红歌手，到哪里能够查找到她最新的演出行程？\"\n",
    ")\n",
    "\n",
    "for part in response.candidates[0].content.parts:\n",
    "  if not part.text:\n",
    "    continue\n",
    "  if part.thought:\n",
    "    print(\"Thought:\", part.text)\n",
    "  else:\n",
    "    print(\"Response:\", part.text)"
   ]
  },
  {
   "cell_type": "markdown",
   "metadata": {},
   "source": [
    "### With 0 Thinking Budget"
   ]
  },
  {
   "cell_type": "code",
   "execution_count": 6,
   "metadata": {},
   "outputs": [
    {
     "name": "stdout",
     "output_type": "stream",
     "text": [
      "Response: 鱼闪闪是中国的一位网红歌手，但由于她并非传统意义上的知名艺人，其演出行程通常不会像主流明星那样公开发布在官方售票网站或大型媒体平台上。\n",
      "\n",
      "要查找她最新的演出行程，以下是一些最有可能且有效的方法：\n",
      "\n",
      "1.  **关注鱼闪闪的社交媒体平台：** 这是查找她最新动态和演出信息最直接也最有效的方式。网红歌手通常会在自己的主要社交媒体账号上发布演出预告、活动宣传以及行程安排。\n",
      "    *   **抖音 (Douyin)：** 作为直播和短视频的主要平台，鱼闪闪很可能在这里有活跃的账号。搜索她的名字，关注她的官方账号。\n",
      "    *   **微博 (Weibo)：** 许多网红也会使用微博发布文字、图片和视频动态。\n",
      "    *   **小红书 (Xiaohongshu)：** 如果她有生活分享或时尚相关的内容，也可能在小红书上发布一些活动信息。\n",
      "    *   **Bilibili (B站)：** 如果她有上传音乐作品或Vlog，也可能在B站有账号。\n",
      "\n",
      "2.  **关注与她合作的品牌或活动方：** 如果鱼闪闪是受邀参加某个商业活动、音乐节或品牌代言活动，那么该活动的主办方或品牌方会在其官方渠道发布信息。\n",
      "    *   例如，如果她参加某个音乐节，去音乐节的官方微博或官网查找演出阵容和时间表。\n",
      "    *   如果她参加某个商场的开业活动或品牌发布会，关注该商场或品牌的官方宣传。\n",
      "\n",
      "3.  **关注她经常合作的直播平台或音乐平台：**\n",
      "    *   **直播平台：** 如果她经常在某个直播平台进行直播，那么该平台可能会在她进行线下活动时进行预热宣传。\n",
      "    *   **音乐平台：** 如果她在网易云音乐、QQ音乐等平台发布音乐作品，有时这些平台也会有艺人动态或演出信息板块。\n",
      "\n",
      "4.  **粉丝社群/群聊：** 许多网红都有自己的粉丝群（例如微信群、QQ群）。如果能加入她的官方粉丝群或活跃的粉丝讨论区，粉丝之间会互相分享和更新她的最新消息。\n",
      "\n",
      "**搜索建议：**\n",
      "\n",
      "*   在以上社交媒体平台搜索“鱼闪闪”、“鱼闪闪演出”、“鱼闪闪行程”等关键词。\n",
      "*   留意她的视频或动态中是否有提到“直播预告”、“线下活动”、“见面会”等信息。\n",
      "\n",
      "**请注意：**\n",
      "网红歌手的演出行程可能不如主流明星那样规律和长期规划，很多是临时性的商业活动或小型演出。所以，最有效的方式就是直接关注她本人的社交媒体更新。\n"
     ]
    }
   ],
   "source": [
    "response = client.models.generate_content(\n",
    "  model=\"gemini-2.5-flash-preview-05-20\",\n",
    "  config=genai.types.GenerateContentConfig(\n",
    "    system_instruction=\"You are a helpful assistant.\",\n",
    "    thinking_config=genai.types.ThinkingConfig(\n",
    "      include_thoughts=True,\n",
    "      thinking_budget=0,\n",
    "    )\n",
    "  ),\n",
    "  contents=\"鱼闪闪是中国的一位网红歌手，到哪里能够查找到她最新的演出行程？\"\n",
    ")\n",
    "\n",
    "for part in response.candidates[0].content.parts:\n",
    "  if not part.text:\n",
    "    continue\n",
    "  if part.thought:\n",
    "    print(\"Thought:\", part.text)\n",
    "  else:\n",
    "    print(\"Response:\", part.text)"
   ]
  },
  {
   "cell_type": "markdown",
   "metadata": {},
   "source": [
    "### With 10000 Thinking Budget"
   ]
  },
  {
   "cell_type": "code",
   "execution_count": 8,
   "metadata": {},
   "outputs": [
    {
     "name": "stdout",
     "output_type": "stream",
     "text": [
      "Thought: **Understanding Yu Shanshan's Performance Schedule: A Strategic Approach**\n",
      "\n",
      "Okay, so the user wants to find Yu Shanshan's latest performance schedule. As an expert in navigating the Chinese entertainment landscape, here's how I'd approach this:\n",
      "\n",
      "First, I need to understand that \"performance\" for an internet singer like Yu Shanshan likely means more than just formal concerts. Her bread and butter is probably live streaming.\n",
      "\n",
      "**1. Locating the Information:** My priority would be to focus on official sources and the channels used by *wanghong geshou* (internet celebrity singers).\n",
      "\n",
      "*   **Weibo (微博):** This is absolutely crucial. I'd immediately search for Yu Shanshan's verified account on Weibo. That's her primary communication hub. I'd pay close attention to her posts (\"微博动态\") and, especially, any pinned posts (\"置顶微博\").\n",
      "*   **Douyin (抖音):** Given her profile, Douyin is another strong contender. I'd search for her official account there too.\n",
      "*   **Official Fan Clubs (官方粉丝团/后援会):** These are goldmines. They are dedicated, active, and usually very quick to share information. I would be looking for these on Weibo, QQ, or WeChat.\n",
      "*   **Live Streaming Platforms (直播平台):** Often, they directly announce scheduled live streams within the platform. If she has a dedicated streaming schedule, it will be there.\n",
      "*   **Search Engine (Baidu):** Search \"鱼闪闪 演出\" (performance), \"鱼闪闪 行程\" (schedule) on Baidu. This broadens the search.\n",
      "\n",
      "**2. Additional Sources:**\n",
      "\n",
      "*   **经纪公司官网 (Management Company Website):** If she has a management company, their website could have announcements. (Less likely for a \"pure\" wanghong, but always worth a check.)\n",
      "*   **票务平台 (Ticketing Platforms):** Only for large-scale concerts (Damai, Maoyan, Taopiaopiao). Less likely for the usual online activities of a *wanghong geshou*.\n",
      "*   **娱乐新闻网站 (Entertainment News Sites):** For major event announcements, not routine schedules.\n",
      "\n",
      "**3. Refining the Strategy:** Since Yu Shanshan is an internet singer, I'd prioritize live streaming over traditional concerts. I'd emphasize checking her official accounts on Weibo and Douyin, and joining any relevant fan groups.\n",
      "\n",
      "**4. Sharing the Information:** I'd advise the user to:\n",
      "\n",
      "*   Search \"鱼闪闪\" on Weibo and Douyin, looking for verified/official accounts.\n",
      "*   Focus on checking her Weibo and Douyin updates, and pinned posts.\n",
      "*   Look for \"直播预告\" (live stream announcements).\n",
      "*   Search for fan groups.\n",
      "\n",
      "This approach should give the user the best chance of finding the *latest* performance schedule for Yu Shanshan, tailored specifically to the unique nature of an internet celebrity in China. It's a pragmatic and targeted search strategy.\n",
      "\n",
      "Response: 要查找网红歌手鱼闪闪（鱼闪闪）最新的演出行程，最可靠和直接的途径通常是以下几个：\n",
      "\n",
      "1.  **官方社交媒体平台（最重要）：**\n",
      "    *   **微博 (Weibo)：** 几乎所有中国艺人和网红都会在微博上发布最新的工作动态、演出预告、直播安排等。\n",
      "        *   **操作：** 在微博上搜索“鱼闪闪”，找到她的官方认证账号（通常会有黄V或蓝V认证）。关注她的账号，并留意她的“微博动态”和“置顶微博”，重要的行程通常会置顶或频繁提及。\n",
      "    *   **抖音 (Douyin) / 快手 (Kuaishou)：** 作为网红歌手，她很可能在这些短视频平台上活跃，并发布直播预告或小型活动信息。\n",
      "        *   **操作：** 在抖音或快手上搜索“鱼闪闪”，找到她的官方账号。她可能会在直播预告或个人简介中说明直播时间或近期活动。\n",
      "    *   **Bilibili (哔哩哔哩)：** 如果她在B站也有账号，也可能在那里发布一些演出或活动信息。\n",
      "\n",
      "2.  **官方粉丝团/后援会：**\n",
      "    *   在微博上，通常会有“鱼闪闪全国后援会”或类似的官方粉丝组织。这些粉丝团通常会汇总并发布所有官方公布的行程信息，而且更新非常及时。\n",
      "    *   **操作：** 在微博上搜索“鱼闪闪后援会”或“鱼闪闪粉丝团”，找到认证的官方粉丝账号并关注。\n",
      "\n",
      "3.  **直播平台个人主页：**\n",
      "    *   如果鱼闪闪主要通过某个直播平台进行演出（例如抖音直播、YY直播等），她的个人主页或直播间公告栏可能会有固定的直播时间表或特别演出预告。\n",
      "\n",
      "4.  **经纪公司官网（如果有的话）：**\n",
      "    *   如果鱼闪闪签约了经纪公司，公司官网也会发布艺人的公开行程。但这对于网红来说，不一定是最主要的信息发布渠道。\n",
      "\n",
      "**总结建议：**\n",
      "\n",
      "*   **首选是微博和抖音**，这两个平台是她作为网红歌手发布最新动态最主要的阵地。\n",
      "*   **关注她的官方账号**，并留意她的动态更新。\n",
      "*   **寻找并关注官方粉丝团/后援会**，他们会第一时间汇总和分享行程。\n",
      "\n",
      "请注意，网红歌手的“演出行程”可能与传统歌手的大型演唱会巡演不同，更多的是线上直播、商业活动出席或小型见面会等。因此，关注直播预告和活动邀请会更有效。\n"
     ]
    }
   ],
   "source": [
    "response = client.models.generate_content(\n",
    "  model=\"gemini-2.5-flash-preview-05-20\",\n",
    "  config=genai.types.GenerateContentConfig(\n",
    "    system_instruction=\"You are a helpful assistant.\",\n",
    "    thinking_config=genai.types.ThinkingConfig(\n",
    "      include_thoughts=True,\n",
    "      thinking_budget=10000,\n",
    "    )\n",
    "  ),\n",
    "  contents=\"鱼闪闪是中国的一位网红歌手，到哪里能够查找到她最新的演出行程？\"\n",
    ")\n",
    "\n",
    "for part in response.candidates[0].content.parts:\n",
    "  if not part.text:\n",
    "    continue\n",
    "  if part.thought:\n",
    "    print(\"Thought:\", part.text)\n",
    "  else:\n",
    "    print(\"Response:\", part.text)"
   ]
  }
 ],
 "metadata": {
  "kernelspec": {
   "display_name": "gemini",
   "language": "python",
   "name": "python3"
  },
  "language_info": {
   "codemirror_mode": {
    "name": "ipython",
    "version": 3
   },
   "file_extension": ".py",
   "mimetype": "text/x-python",
   "name": "python",
   "nbconvert_exporter": "python",
   "pygments_lexer": "ipython3",
   "version": "3.12.9"
  }
 },
 "nbformat": 4,
 "nbformat_minor": 2
}
