{
 "cells": [
  {
   "cell_type": "code",
   "execution_count": 15,
   "metadata": {},
   "outputs": [],
   "source": [
    "import os\n",
    "\n",
    "from dotenv import load_dotenv\n",
    "load_dotenv()\n",
    "\n",
    "from google import genai\n",
    "\n",
    "client = genai.Client(api_key=os.getenv(\"GEMINI_API_KEY\"))\n",
    "\n",
    "def get_weather(city: str) -> str:\n",
    "    \"\"\"Get the weather in a given city\"\"\"\n",
    "    return \"sunny\"\n",
    "\n",
    "get_weather_metadata = {\n",
    "    \"name\": \"get_weather\",\n",
    "    \"description\": \"Get the weather in a given city\",\n",
    "    \"parameters\": {\n",
    "        \"type\": \"object\",\n",
    "        \"properties\": {\n",
    "            \"city\": {\n",
    "                \"type\": \"string\",\n",
    "                \"description\": \"The city to get the weather for\"\n",
    "            }\n",
    "        },\n",
    "        \"required\": [\"city\"]\n",
    "    }\n",
    "}"
   ]
  },
  {
   "cell_type": "code",
   "execution_count": 16,
   "metadata": {},
   "outputs": [
    {
     "name": "stdout",
     "output_type": "stream",
     "text": [
      "video_metadata=None thought=None inline_data=None file_data=None code_execution_result=None executable_code=None function_call=FunctionCall(id=None, args={'city': 'Beijing'}, name='get_weather') function_response=None text=None\n"
     ]
    }
   ],
   "source": [
    "contents = [genai.types.Content(role=\"user\", parts=[genai.types.Part(text=\"Weather of Beijing\")])]\n",
    "\n",
    "response = client.models.generate_content(\n",
    "  model=\"gemini-2.5-flash-preview-05-20\",\n",
    "  config=genai.types.GenerateContentConfig(\n",
    "    system_instruction=\"You are a helpful assistant.\",\n",
    "    tools=[genai.types.Tool(function_declarations=[get_weather_metadata])]\n",
    "  ),\n",
    "  contents=contents\n",
    ")\n",
    "\n",
    "contents.append(response.candidates[0].content)\n",
    "\n",
    "# There is only one part of function call without text response\n",
    "function_response_parts = []\n",
    "for part in response.candidates[0].content.parts:\n",
    "  print(part)\n",
    "\n",
    "  if part.function_call:\n",
    "    function_call_name = part.function_call.name\n",
    "    if function_call_name == 'get_weather':\n",
    "      args = part.function_call.args\n",
    "      result = get_weather(**args)\n",
    "      function_response_parts.append(genai.types.Part.from_function_response(name=\"get_weather\", response={ \"result\": result }))\n",
    "contents.append(genai.types.Content(role=\"user\", parts=function_response_parts))"
   ]
  },
  {
   "cell_type": "code",
   "execution_count": 18,
   "metadata": {},
   "outputs": [
    {
     "name": "stdout",
     "output_type": "stream",
     "text": [
      "video_metadata=None thought=None inline_data=None file_data=None code_execution_result=None executable_code=None function_call=None function_response=None text='The weather in Beijing is sunny.'\n",
      "Text response: The weather in Beijing is sunny.\n"
     ]
    }
   ],
   "source": [
    "response = client.models.generate_content(\n",
    "  model=\"gemini-2.5-flash-preview-05-20\",\n",
    "  config=genai.types.GenerateContentConfig(\n",
    "    system_instruction=\"You are a helpful assistant.\",\n",
    "    tools=[genai.types.Tool(function_declarations=[get_weather_metadata])]\n",
    "  ),\n",
    "  contents=contents\n",
    ")\n",
    "\n",
    "# There is only one part of text without function call\n",
    "for part in response.candidates[0].content.parts:\n",
    "  print(part)\n",
    "\n",
    "print(\"Text response:\", response.text)"
   ]
  }
 ],
 "metadata": {
  "kernelspec": {
   "display_name": "gemini",
   "language": "python",
   "name": "python3"
  },
  "language_info": {
   "codemirror_mode": {
    "name": "ipython",
    "version": 3
   },
   "file_extension": ".py",
   "mimetype": "text/x-python",
   "name": "python",
   "nbconvert_exporter": "python",
   "pygments_lexer": "ipython3",
   "version": "3.12.9"
  }
 },
 "nbformat": 4,
 "nbformat_minor": 2
}
