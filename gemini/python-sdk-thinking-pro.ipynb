{
 "cells": [
  {
   "cell_type": "markdown",
   "metadata": {},
   "source": [
    "# Test Gemini Python SDK - Thinking\n",
    "\n",
    "This code example demonstrates using Gemini thining with the Pro model.\n",
    "\n",
    "## Environment\n",
    "\n",
    "```sh\n",
    "pip install google-genai python-dotenv\n",
    "```"
   ]
  },
  {
   "cell_type": "markdown",
   "metadata": {},
   "source": [
    "## Codes"
   ]
  },
  {
   "cell_type": "markdown",
   "metadata": {},
   "source": [
    "### Imports and Initialization"
   ]
  },
  {
   "cell_type": "code",
   "execution_count": 1,
   "metadata": {},
   "outputs": [],
   "source": [
    "import os\n",
    "\n",
    "from dotenv import load_dotenv\n",
    "load_dotenv()\n",
    "\n",
    "from google import genai\n",
    "\n",
    "client = genai.Client(api_key=os.getenv(\"GEMINI_API_KEY\"))"
   ]
  },
  {
   "cell_type": "markdown",
   "metadata": {},
   "source": [
    "### With Default Thinking Budget"
   ]
  },
  {
   "cell_type": "code",
   "execution_count": 3,
   "metadata": {},
   "outputs": [
    {
     "name": "stdout",
     "output_type": "stream",
     "text": [
      "Length of thought: 1792\n",
      "Thought: **My Strategy for Finding Yu Shanshan's Performance Schedule**\n",
      "\n",
      "Okay, here's how I'd approach finding the latest performance schedule for Yu Shanshan, given that she's an internet celebrity singer. The user needs the most up-to-date information, so the usual channels are essential to focus on.\n",
      "\n",
      "First, I'd pinpoint the most likely locations: **Weibo** and **Douyin** are my top picks.  Why? Because internet celebrities thrive on direct engagement with their audience, and those platforms are where they build communities and make announcements. I'd specifically look for her verified account on each, keeping an eye out for pinned posts (\"置顶\") or recent updates (\"最新动态\") that announce upcoming performances.\n",
      "\n",
      "Next, I'd move onto **Xiaohongshu** and **Bilibili**, understanding that she may also share schedules there, though less frequently.  Fan communities, both official and unofficial, are also crucial. I'd seek her official fan club accounts on Weibo, if there are any, because they are likely to share up-to-date info.\n",
      "\n",
      "To make things faster, I'd start with specific searches like \"鱼闪闪 微博\" (Yu Shanshan Weibo) and \"鱼闪闪 抖音\" (Yu Shanshan Douyin).  Remember, her \"internet celebrity\" status suggests that schedules might be announced on short notice, emphasizing the importance of frequent checks. Her live streaming schedule, specifically, would need to be checked in real time on Douyin and Bilibili.\n",
      "\n",
      "Because the nature of this information means there may not be perfectly structured event listings, I’d be prepared to navigate a little to find the latest announcements within the different platforms. And I'd advise the user to keep in mind that I'd be checking a variety of sources to cross-reference and verify, especially with fan groups, whose accuracy isn't always guaranteed.\n",
      "\n",
      "Response: 对于网红歌手鱼闪闪的最新演出行程，通常可以通过以下几个渠道查找：\n",
      "\n",
      "1.  **她的官方社交媒体账号：**\n",
      "    *   **微博 (Weibo)：** 这是国内明星和网红发布动态最主要的平台。搜索“鱼闪闪”的官方微博账号（通常有认证标识），查看她的最新动态、置顶微博或专门的行程图。\n",
      "    *   **抖音 (Douyin)：** 作为网红歌手，抖音也是她重要的活动平台。关注她的官方抖音号，她可能会在视频或直播预告中提及演出信息。\n",
      "    *   **小红书 (Xiaohongshu)、B站 (Bilibili) 等：** 如果她有在这些平台活跃，也可能发布相关信息。\n",
      "\n",
      "2.  **官方粉丝团/后援会：**\n",
      "    *   很多艺人会有官方认证的粉丝团或后援会，这些组织通常会汇总并发布偶像的最新行程。可以在微博等平台搜索“鱼闪闪官方粉丝团”或类似关键词。\n",
      "\n",
      "3.  **音乐平台/直播平台：**\n",
      "    *   如果她的演出是线上直播，那么她常用的直播平台（如抖音、快手、B站、视频号等）或音乐平台（如QQ音乐、网易云音乐的直播板块）可能会有预告。\n",
      "\n",
      "4.  **票务平台（针对线下演出）：**\n",
      "    *   如果是有售票的线下演出，可以关注大麦网、猫眼演出等票务平台，搜索她的名字看是否有相关演出信息。但网红歌手的线下演出可能不如传统明星那么多或那么大型。\n",
      "\n",
      "5.  **经纪公司/厂牌（如果知道的话）：**\n",
      "    *   如果她签约了某个经纪公司或音乐厂牌，该公司或厂牌的官方渠道也可能发布她的行程。\n",
      "\n",
      "**建议的查找步骤：**\n",
      "\n",
      "1.  **首选微博和抖音**，搜索她的官方认证账号。\n",
      "2.  查看她的最新动态、置顶内容，以及是否有专门的“行程”分类或图片。\n",
      "3.  关注她的官方粉丝团账号，获取更集中的信息。\n",
      "\n",
      "**注意事项：**\n",
      "*   网红歌手的行程可能变动较快，且线上活动可能多于线下。\n",
      "*   注意辨别信息的真伪，以官方发布为准。\n",
      "\n",
      "由于信息是动态变化的，建议你直接去上述平台搜索最新的信息。\n"
     ]
    }
   ],
   "source": [
    "response = client.models.generate_content(\n",
    "  model=\"gemini-2.5-pro-preview-05-06\",\n",
    "  config=genai.types.GenerateContentConfig(\n",
    "    system_instruction=\"You are a helpful assistant.\",\n",
    "    thinking_config=genai.types.ThinkingConfig(\n",
    "      include_thoughts=True,\n",
    "    )\n",
    "  ),\n",
    "  contents=\"鱼闪闪是中国的一位网红歌手，到哪里能够查找到她最新的演出行程？\"\n",
    ")\n",
    "\n",
    "for part in response.candidates[0].content.parts:\n",
    "  if not part.text:\n",
    "    continue\n",
    "  if part.thought:\n",
    "    print(\"Length of thought:\", len(part.text))\n",
    "    print(\"Thought:\", part.text)\n",
    "  else:\n",
    "    print(\"Response:\", part.text)"
   ]
  },
  {
   "cell_type": "markdown",
   "metadata": {},
   "source": [
    "### With 0 Thinking Budget"
   ]
  },
  {
   "cell_type": "markdown",
   "metadata": {},
   "source": [
    "Setting thinking budget does not have an effect on the Pro model."
   ]
  },
  {
   "cell_type": "code",
   "execution_count": 6,
   "metadata": {},
   "outputs": [
    {
     "name": "stdout",
     "output_type": "stream",
     "text": [
      "Length of thought: 1792\n",
      "Thought: **Finding Yu Shanshan's Performance Schedule**\n",
      "\n",
      "Okay, so the user needs help finding Yu Shanshan's latest performance schedule.  My brain immediately jumps to identifying key information: she's a Chinese internet celebrity singer, and they want her *current* schedule.  Simple enough.\n",
      "\n",
      "First, I think about where I'd start for any artist: official channels.  Since we're talking China, *Weibo* is absolutely going to be the first stop.  That's where *everyone* in China communicates.  I'd suggest searching for \"鱼闪闪\" or \"鱼闪闪工作室,\" looking at her latest posts, pinned posts, or even dedicated \"行程图\" (schedule graphics).  \n",
      "\n",
      "Then, *Douyin* and *Bilibili* –  she's a \"网红\" (\"wang hong\" - internet celebrity), so those are key!  I know she's probably active there.  Check her videos, bio, and comments, looking for any announcements.  *Xiaohongshu* might be worth a look too, but it's more lifestyle-focused, so lower priority.\n",
      "\n",
      "Next, I'd check her *official fan club*, if she has one.  Those are goldmines!  They're usually *very* organized and know everything.  I'd search for \"鱼闪闪官方粉丝团\" on Weibo.\n",
      "\n",
      "Ticketing platforms are always a good idea, so I'd recommend checking *Damai* and *Maoyan* if she has formal performances.  And don't forget music platforms like *QQ音乐* and *网易云音乐*.  Sometimes they have event sections.\n",
      "\n",
      "One thing to remember is that \"网红\" might have less formal, more social-media-driven performances, so the information might be scattered. Persistence is key! The key is to check all the social media accounts, particularly the more official ones, and be flexible with expectations.  I'd make sure the user knows to favor information from official sources and fan clubs over random news.  That way, they will be able to best keep up to date with Yu Shanshan's latest performances.\n",
      "\n",
      "Response: 要查找网红歌手鱼闪闪最新的演出行程，可以尝试以下几个主要的渠道：\n",
      "\n",
      "1.  **她的官方社交媒体账号：**\n",
      "    *   **微博 (Weibo)：** 这是中国明星和网红最常用的信息发布平台。搜索“鱼闪闪”或她可能有的官方工作室账号（例如“鱼闪闪工作室”），查看她的最新动态、置顶微博或专门的行程图/行程预告。很多艺人会定期发布月度或近期行程。\n",
      "    *   **抖音 (Douyin) / B站 (Bilibili)：** 作为网红歌手，她很可能在这些平台有活跃账号。关注她的官方账号，留意视频内容、简介或评论区是否有演出信息。有时直播预告也会包含线下活动信息。\n",
      "    *   **小红书 (Xiaohongshu) 等其他平台：** 如果她也活跃在这些平台，也可能发布相关信息。\n",
      "\n",
      "2.  **官方粉丝团/后援会：**\n",
      "    *   粉丝团通常会第一时间汇总和发布偶像的行程信息。可以在微博等平台搜索“鱼闪闪官方粉丝团”、“鱼闪闪后援会”或类似名称，关注他们发布的消息。这些组织通常与艺人团队有联系，信息较为准确。\n",
      "\n",
      "3.  **票务平台：**\n",
      "    *   如果是有售票的正式演出（如音乐节、演唱会、Livehouse演出等），可以在中国的几大票务平台搜索她的名字，看看是否有近期的演出安排。常用的票务平台包括：\n",
      "        *   **大麦网 (Damai)**\n",
      "        *   **猫眼演出 (Maoyan)**\n",
      "        *   **秀动 (Showstart)** (Livehouse演出较多)\n",
      "        *   **B站会员购** (如果她在B站有活动)\n",
      "\n",
      "4.  **音乐平台：**\n",
      "    *   有时，**QQ音乐、网易云音乐、酷狗音乐**等音乐平台的歌手主页或活动板块也可能预告演出信息，尤其是一些音乐平台主办或合作的活动。\n",
      "\n",
      "5.  **活动主办方/场地官方渠道：**\n",
      "    *   如果知道她可能参加某个音乐节或在某个场地演出，可以直接关注该音乐节或场地的官方社交媒体和网站。\n",
      "\n",
      "**注意事项：**\n",
      "\n",
      "*   **信息时效性：** 网红的行程可能变动较快，注意查看信息的发布日期。\n",
      "*   **信息准确性：** 尽量以官方账号或官方粉丝团发布的信息为准，警惕非官方渠道的虚假信息。\n",
      "*   **演出类型：** 网红歌手的“演出”形式可能多样，包括线上直播、线下见面会、音乐节、拼盘演唱会、品牌活动站台等。\n",
      "\n",
      "**建议步骤：**\n",
      "\n",
      "1.  首选在微博搜索“鱼闪闪”，查看她的个人认证账号和官方粉丝团账号。\n",
      "2.  如果微博没有明确信息，再尝试抖音、B站等她活跃的平台。\n",
      "3.  最后，可以在大麦网等票务平台搜索，看是否有公开售票的活动。\n",
      "\n",
      "祝你顺利找到鱼闪闪的演出信息！\n"
     ]
    }
   ],
   "source": [
    "response = client.models.generate_content(\n",
    "  model=\"gemini-2.5-pro-preview-05-06\",\n",
    "  config=genai.types.GenerateContentConfig(\n",
    "    system_instruction=\"You are a helpful assistant.\",\n",
    "    thinking_config=genai.types.ThinkingConfig(\n",
    "      include_thoughts=True,\n",
    "      thinking_budget=0,\n",
    "    )\n",
    "  ),\n",
    "  contents=\"鱼闪闪是中国的一位网红歌手，到哪里能够查找到她最新的演出行程？\"\n",
    ")\n",
    "\n",
    "for part in response.candidates[0].content.parts:\n",
    "  if not part.text:\n",
    "    continue\n",
    "  if part.thought:\n",
    "    print(\"Length of thought:\", len(part.text))\n",
    "    print(\"Thought:\", part.text)\n",
    "  else:\n",
    "    print(\"Response:\", part.text)"
   ]
  },
  {
   "cell_type": "markdown",
   "metadata": {},
   "source": [
    "### With 10000 Thinking Budget"
   ]
  },
  {
   "cell_type": "markdown",
   "metadata": {},
   "source": [
    "Setting thinking budget does not have an effect on the Pro model."
   ]
  },
  {
   "cell_type": "code",
   "execution_count": 7,
   "metadata": {},
   "outputs": [
    {
     "name": "stdout",
     "output_type": "stream",
     "text": [
      "Length of thought: 2259\n",
      "Thought: **Analyzing the Quest for 鱼闪闪's Performance Schedule**\n",
      "\n",
      "Okay, so the user wants to find 鱼闪闪's schedule. As a seasoned expert in the Chinese digital landscape and entertainment scene, here's my thought process:\n",
      "\n",
      "First, I need to internalize the user's goal: locating Yu Shanshan's (a *wanghong* singer) upcoming appearances. Knowing her background, I immediately start categorizing the prime information sources. My initial instinct is to go straight to her *official social media* – specifically Weibo (it's the bedrock for announcements) and Douyin (crucial for short-form content and many *wanghong*). Bilibili could be a factor, and I wouldn't overlook Xiaohongshu for any lifestyle-related events.\n",
      "\n",
      "Then, I'd shift focus to fan communities. These groups, often highly organized and well-informed, are usually on top of everything. I'll need to remember to check for potential fan accounts and communities on Weibo, QQ, and other relevant platforms. Next, I'll need to check the more practical sources. Any music platforms (QQ Music, NetEase Cloud Music) might have events related to her releases, although it's less common for these types of singers.\n",
      "\n",
      "Ticketing platforms like Damai and Maoyan are non-negotiable if there's any paid concert or show. They're the absolute authority in that case. Finally, a general Baidu search is always a good starting point, acting as a \"catch-all\" to find links to official accounts or news.\n",
      "\n",
      "In terms of how I'll actually advise the user, my response needs to be actionable. I'll start by acknowledging 鱼闪闪's role as a *wanghong* singer. Then, I'll guide them towards Weibo and Douyin, highlighting *why* these are primary sources. Next, I'll stress the importance of fan groups, emphasizing their role in aggregating information. If it's a concert, I'd suggest checking ticketing platforms.\n",
      "\n",
      "I'd advise them to keep searching using key phrases such as her name combined with \"schedule\" (\"行程\"), \"performance\" (\"演出\"), \"concert\" (\"演唱会\"), and \"event\" (\"活动\"). Remember to warn them about potential information lag; these schedules can change. Finally, I'll emphasize the need to verify information and pay attention to official sources. Ultimately, I'll ensure the language is clear, concise, and offers actionable steps.\n",
      "\n",
      "Response: 要查找鱼闪闪最新的演出行程，通常可以通过以下几个途径：\n",
      "\n",
      "1.  **她的官方社交媒体账号**：\n",
      "    *   **微博 (Weibo)**：这是国内艺人/网红发布官方信息最主要的平台。搜索她的官方微博账号，通常行程、新歌、活动等都会在这里第一时间公布。留意她的置顶微博或者搜索关键词“行程”、“演出”、“活动”。\n",
      "    *   **抖音 (Douyin)**：如果她主要在抖音活动，可能会在抖音账号上发布相关信息，或者通过直播预告。\n",
      "    *   **B站 (Bilibili)**：有些歌手也会在B站有官方账号，并发布动态。\n",
      "    *   **小红书 (Xiaohongshu)**：也可能发布一些日常和活动预告。\n",
      "\n",
      "2.  **粉丝后援会/粉丝群**：\n",
      "    *   官方或非官方的粉丝后援会通常会整理并发布偶像的最新行程。你可以在微博等平台搜索“鱼闪闪后援会”或相关粉丝组织。加入他们的粉丝群（如QQ群、微信群）也可能获取到更及时的信息。\n",
      "\n",
      "3.  **音乐平台**：\n",
      "    *   如**QQ音乐、网易云音乐、酷狗音乐**等。如果她有大型演出或参与音乐节，这些平台的“演出”或“动态”板块有时会发布相关信息，尤其是在有票务合作的情况下。\n",
      "\n",
      "4.  **票务平台**：\n",
      "    *   如**大麦网、猫眼演出**等。如果她的演出是对外售票的，这些平台会是官方的售票渠道，并会列出演出时间、地点等详细信息。你可以直接在这些App或网站上搜索“鱼闪闪”。\n",
      "\n",
      "5.  **搜索引擎**：\n",
      "    *   使用百度等搜索引擎搜索“鱼闪闪 最新行程”、“鱼闪闪 演出安排”等关键词，可能会找到相关新闻报道或粉丝整理的信息。\n",
      "\n",
      "**建议的查找顺序：**\n",
      "\n",
      "*   **首选：微博和抖音。** 这是目前网红歌手最主要的宣传阵地。\n",
      "*   其次：粉丝后援会（通常信息汇总最快最全）。\n",
      "*   再次：如果涉及到售票演出，可以去大麦网等票务平台看看。\n",
      "\n",
      "**注意事项：**\n",
      "*   注意信息的时效性和官方性，尽量从官方渠道或可靠的粉丝组织获取信息，避免被不实信息误导。\n",
      "*   网红歌手的行程可能变动比较频繁，或者有些小型活动、直播等不会提前太久公布，所以需要持续关注。\n",
      "\n",
      "希望这些信息能帮到你！\n"
     ]
    }
   ],
   "source": [
    "response = client.models.generate_content(\n",
    "  model=\"gemini-2.5-pro-preview-05-06\",\n",
    "  config=genai.types.GenerateContentConfig(\n",
    "    system_instruction=\"You are a helpful assistant.\",\n",
    "    thinking_config=genai.types.ThinkingConfig(\n",
    "      include_thoughts=True,\n",
    "      thinking_budget=10000,\n",
    "    )\n",
    "  ),\n",
    "  contents=\"鱼闪闪是中国的一位网红歌手，到哪里能够查找到她最新的演出行程？\"\n",
    ")\n",
    "\n",
    "for part in response.candidates[0].content.parts:\n",
    "  if not part.text:\n",
    "    continue\n",
    "  if part.thought:\n",
    "    print(\"Length of thought:\", len(part.text))\n",
    "    print(\"Thought:\", part.text)\n",
    "  else:\n",
    "    print(\"Response:\", part.text)"
   ]
  }
 ],
 "metadata": {
  "kernelspec": {
   "display_name": "gemini",
   "language": "python",
   "name": "python3"
  },
  "language_info": {
   "codemirror_mode": {
    "name": "ipython",
    "version": 3
   },
   "file_extension": ".py",
   "mimetype": "text/x-python",
   "name": "python",
   "nbconvert_exporter": "python",
   "pygments_lexer": "ipython3",
   "version": "3.12.9"
  }
 },
 "nbformat": 4,
 "nbformat_minor": 2
}
