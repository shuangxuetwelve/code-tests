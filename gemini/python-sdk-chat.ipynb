{
 "cells": [
  {
   "cell_type": "markdown",
   "metadata": {},
   "source": [
    "# Test Gemini Python SDK - Multi-Turn Conversation\n",
    "\n",
    "This code example demonstrates using Gemini in a multi-turn conversation.\n",
    "\n",
    "## Environment\n",
    "\n",
    "```sh\n",
    "pip install google-genai python-dotenv\n",
    "```"
   ]
  },
  {
   "cell_type": "markdown",
   "metadata": {},
   "source": [
    "## Code"
   ]
  },
  {
   "cell_type": "markdown",
   "metadata": {},
   "source": [
    "### Imports and Initialization"
   ]
  },
  {
   "cell_type": "code",
   "execution_count": 28,
   "metadata": {},
   "outputs": [],
   "source": [
    "import os\n",
    "from pprint import pprint as pp\n",
    "\n",
    "from dotenv import load_dotenv\n",
    "load_dotenv()\n",
    "\n",
    "from google import genai\n",
    "\n",
    "client = genai.Client(api_key=os.getenv(\"GEMINI_API_KEY\"))\n",
    "chat = client.chats.create(\n",
    "  model=\"gemini-2.5-flash-preview-05-20\",\n",
    "  config=genai.types.GenerateContentConfig(\n",
    "    system_instruction=\"You are a helpful assistant.\"\n",
    "  )\n",
    ")"
   ]
  },
  {
   "cell_type": "markdown",
   "metadata": {},
   "source": [
    "### Send the First Message"
   ]
  },
  {
   "cell_type": "code",
   "execution_count": 29,
   "metadata": {},
   "outputs": [
    {
     "name": "stdout",
     "output_type": "stream",
     "text": [
      "text response: 要查找网红歌手“鱼闪闪”最新的演出行程，最有效和权威的途径通常是以下几个：\n",
      "\n",
      "1.  **官方社交媒体平台：**\n",
      "    *   **微博 (Weibo)：** 大多数中国艺人和网红都会在微博上发布最新的工作动态、演出信息、行程安排等。这是最主要的渠道。\n",
      "    *   **抖音 (Douyin) / 快手 (Kuaishou)：** 作为网红歌手，她的主要内容可能发布在短视频平台上。演出预告、直播预告等也可能通过这些平台发布。\n",
      "    *   **微信公众号 (WeChat Official Account)：** 部分艺人或其工作室会运营微信公众号，发布官方通告和演出信息。\n",
      "    *   **小红书 (Xiaohongshu)：** 如果她也在小红书上分享生活或工作，有时也会发布相关信息。\n",
      "    *   **Bilibili (哔哩哔哩)：** 如果她有在B站发布音乐作品或进行直播，也可能会在此发布演出相关消息。\n",
      "\n",
      "    **操作建议：**\n",
      "    *   在这些平台搜索“鱼闪闪”，找到她的**官方认证账号**（通常有蓝色V或黄色V认证）。\n",
      "    *   关注她的账号，并留意她的置顶微博、动态、直播预告或粉丝群通知。\n",
      "\n",
      "2.  **票务平台：**\n",
      "    如果她有正式的线下演出或演唱会，信息一定会发布在主要的票务平台上。\n",
      "    *   **大麦网 (Damai.cn)：** 中国最大的演出票务平台，覆盖范围广。\n",
      "    *   **猫眼演出 (Maoyan)：** 另一个常用的票务平台。\n",
      "    *   **票星球 (Piaoxingqiu)**\n",
      "    *   **秀动 (Xiudong)：** 尤其对于一些独立音乐人或小型演出，秀动是常见的平台。\n",
      "\n",
      "    **操作建议：**\n",
      "    *   直接在这些票务平台的搜索框中输入“鱼闪闪”，查看是否有即将到来的演出信息。\n",
      "    *   可以设置艺人关注或信息订阅，一旦有相关演出，会收到通知。\n",
      "\n",
      "3.  **粉丝社群/贴吧：**\n",
      "    *   **百度贴吧：** 搜索“鱼闪闪吧”，通常会有她的粉丝聚集，他们会第一时间收集和分享官方发布的演出信息，甚至会有一些非官方的活动预告。\n",
      "    *   **微博超话：** 微博上的“鱼闪闪超话”也是粉丝交流和获取信息的重要阵地。\n",
      "    *   **粉丝QQ群/微信群：** 如果能找到她的官方粉丝群，里面的管理员或核心粉丝通常会及时分享信息。\n",
      "\n",
      "**重要提示：**\n",
      "\n",
      "*   **确认是“官方”信息：** 务必确认信息来源是艺人本人、其工作室或官方合作平台发布的。\n",
      "*   **注意同名：** 确保你找到的“鱼闪闪”是你想找的那位网红歌手，因为可能存在同名的网络ID。通常通过头像、内容风格或认证信息可以区分。\n",
      "*   **并非所有网红歌手都有频繁的线下演出：** 有些网红歌手可能更多地专注于线上直播、音乐作品发布或商业合作，线下公开演出的机会相对较少。如果没有查到，也可能是她近期没有安排公开演出。\n",
      "\n",
      "总而言之，从她的官方社交媒体账号入手，同时辅以主要票务平台和粉丝社群，是查找“鱼闪闪”最新演出行程最有效的方法。\n"
     ]
    }
   ],
   "source": [
    "response = chat.send_message(\"鱼闪闪是中国的一位网红歌手，到哪里能够查找到她最新的演出行程？\")\n",
    "\n",
    "print(\"text response:\", response.text)"
   ]
  },
  {
   "cell_type": "markdown",
   "metadata": {},
   "source": [
    "### Send the Second Message"
   ]
  },
  {
   "cell_type": "code",
   "execution_count": 30,
   "metadata": {},
   "outputs": [
    {
     "name": "stdout",
     "output_type": "stream",
     "text": [
      "text response: 作为一个AI，我**没有**传统意义上的“工具”去实时上网搜索信息，比如我无法打开一个网页浏览器、登录微博、或者访问大麦网的App去实时查找最新的演出行程。\n",
      "\n",
      "我的“工具”是我自身的能力和所拥有的数据：\n",
      "\n",
      "1.  **我庞大的训练数据集：** 我被训练时接触了海量的文本信息，这包含了截至我上次更新知识截止日期前，互联网上公开的大量信息，包括新闻、社交媒体内容、百科知识等。我能从这些数据中“回忆”或“检索”出与“鱼闪闪”相关的通用知识。\n",
      "2.  **自然语言处理能力：** 我能够理解您的问题（“鱼闪闪”、“最新演出行程”），并根据这些关键词在我现有的知识库中进行匹配和关联。\n",
      "3.  **逻辑推理和知识整合能力：** 我知道像网红歌手这样的公众人物，他们的最新行程通常会在哪些平台上发布（如社交媒体、票务网站），以及粉丝通常会在哪里讨论和分享这些信息。因此，我能为您提供**查找这些信息的有效途径和建议**，而不是替您实时查找。\n",
      "\n",
      "**总结来说，我没有独立的“工具”去“查”，我所做的就是：**\n",
      "\n",
      "*   **利用我已有的知识储备：** 告诉我通常这类信息会出现在哪里。\n",
      "*   **为您提供“人”需要使用的工具和方法：** 告诉您应该去微博、抖音、大麦网等平台进行**实时、人工的查询**。\n",
      "\n",
      "所以，我能为您提供的是**指引和策略**，帮助您知道去哪里使用**您自己的工具（如手机、电脑、浏览器、App等）**来找到最新的信息。\n"
     ]
    }
   ],
   "source": [
    "response = chat.send_message(\"你需要什么工具去帮我查找这些信息？\")\n",
    "\n",
    "print(\"text response:\", response.text)"
   ]
  },
  {
   "cell_type": "markdown",
   "metadata": {},
   "source": [
    "### Print the Message History"
   ]
  },
  {
   "cell_type": "markdown",
   "metadata": {},
   "source": [
    "We first need to define a helper function that converts an object to a dictionary for pretty printing:"
   ]
  },
  {
   "cell_type": "code",
   "execution_count": 31,
   "metadata": {},
   "outputs": [],
   "source": [
    "def obj_to_dict(obj: any, indent=0):\n",
    "\n",
    "  d = {}\n",
    "\n",
    "  try:\n",
    "    if type(obj) == list:\n",
    "      return [obj_to_dict(item) for item in obj]\n",
    "    else:\n",
    "      properties = vars(obj)\n",
    "      for k, v in properties.items():\n",
    "        d[k] = obj_to_dict(v, indent + 1)\n",
    "      return d\n",
    "  except TypeError:\n",
    "    return obj"
   ]
  },
  {
   "cell_type": "markdown",
   "metadata": {},
   "source": [
    "Print the message history:"
   ]
  },
  {
   "cell_type": "code",
   "execution_count": 32,
   "metadata": {},
   "outputs": [
    {
     "name": "stdout",
     "output_type": "stream",
     "text": [
      "{'parts': [{'code_execution_result': None,\n",
      "            'executable_code': None,\n",
      "            'file_data': None,\n",
      "            'function_call': None,\n",
      "            'function_response': None,\n",
      "            'inline_data': None,\n",
      "            'text': '鱼闪闪是中国的一位网红歌手，到哪里能够查找到她最新的演出行程？',\n",
      "            'thought': None,\n",
      "            'video_metadata': None}],\n",
      " 'role': 'user'}\n",
      "{'parts': [{'code_execution_result': None,\n",
      "            'executable_code': None,\n",
      "            'file_data': None,\n",
      "            'function_call': None,\n",
      "            'function_response': None,\n",
      "            'inline_data': None,\n",
      "            'text': '要查找网红歌手“鱼闪闪”最新的演出行程，最有效和权威的途径通常是以下几个：\\n'\n",
      "                    '\\n'\n",
      "                    '1.  **官方社交媒体平台：**\\n'\n",
      "                    '    *   **微博 (Weibo)：** '\n",
      "                    '大多数中国艺人和网红都会在微博上发布最新的工作动态、演出信息、行程安排等。这是最主要的渠道。\\n'\n",
      "                    '    *   **抖音 (Douyin) / 快手 (Kuaishou)：** '\n",
      "                    '作为网红歌手，她的主要内容可能发布在短视频平台上。演出预告、直播预告等也可能通过这些平台发布。\\n'\n",
      "                    '    *   **微信公众号 (WeChat Official Account)：** '\n",
      "                    '部分艺人或其工作室会运营微信公众号，发布官方通告和演出信息。\\n'\n",
      "                    '    *   **小红书 (Xiaohongshu)：** '\n",
      "                    '如果她也在小红书上分享生活或工作，有时也会发布相关信息。\\n'\n",
      "                    '    *   **Bilibili (哔哩哔哩)：** '\n",
      "                    '如果她有在B站发布音乐作品或进行直播，也可能会在此发布演出相关消息。\\n'\n",
      "                    '\\n'\n",
      "                    '    **操作建议：**\\n'\n",
      "                    '    *   在这些平台搜索“鱼闪闪”，找到她的**官方认证账号**（通常有蓝色V或黄色V认证）。\\n'\n",
      "                    '    *   关注她的账号，并留意她的置顶微博、动态、直播预告或粉丝群通知。\\n'\n",
      "                    '\\n'\n",
      "                    '2.  **票务平台：**\\n'\n",
      "                    '    如果她有正式的线下演出或演唱会，信息一定会发布在主要的票务平台上。\\n'\n",
      "                    '    *   **大麦网 (Damai.cn)：** 中国最大的演出票务平台，覆盖范围广。\\n'\n",
      "                    '    *   **猫眼演出 (Maoyan)：** 另一个常用的票务平台。\\n'\n",
      "                    '    *   **票星球 (Piaoxingqiu)**\\n'\n",
      "                    '    *   **秀动 (Xiudong)：** 尤其对于一些独立音乐人或小型演出，秀动是常见的平台。\\n'\n",
      "                    '\\n'\n",
      "                    '    **操作建议：**\\n'\n",
      "                    '    *   直接在这些票务平台的搜索框中输入“鱼闪闪”，查看是否有即将到来的演出信息。\\n'\n",
      "                    '    *   可以设置艺人关注或信息订阅，一旦有相关演出，会收到通知。\\n'\n",
      "                    '\\n'\n",
      "                    '3.  **粉丝社群/贴吧：**\\n'\n",
      "                    '    *   **百度贴吧：** '\n",
      "                    '搜索“鱼闪闪吧”，通常会有她的粉丝聚集，他们会第一时间收集和分享官方发布的演出信息，甚至会有一些非官方的活动预告。\\n'\n",
      "                    '    *   **微博超话：** 微博上的“鱼闪闪超话”也是粉丝交流和获取信息的重要阵地。\\n'\n",
      "                    '    *   **粉丝QQ群/微信群：** '\n",
      "                    '如果能找到她的官方粉丝群，里面的管理员或核心粉丝通常会及时分享信息。\\n'\n",
      "                    '\\n'\n",
      "                    '**重要提示：**\\n'\n",
      "                    '\\n'\n",
      "                    '*   **确认是“官方”信息：** 务必确认信息来源是艺人本人、其工作室或官方合作平台发布的。\\n'\n",
      "                    '*   **注意同名：** '\n",
      "                    '确保你找到的“鱼闪闪”是你想找的那位网红歌手，因为可能存在同名的网络ID。通常通过头像、内容风格或认证信息可以区分。\\n'\n",
      "                    '*   **并非所有网红歌手都有频繁的线下演出：** '\n",
      "                    '有些网红歌手可能更多地专注于线上直播、音乐作品发布或商业合作，线下公开演出的机会相对较少。如果没有查到，也可能是她近期没有安排公开演出。\\n'\n",
      "                    '\\n'\n",
      "                    '总而言之，从她的官方社交媒体账号入手，同时辅以主要票务平台和粉丝社群，是查找“鱼闪闪”最新演出行程最有效的方法。',\n",
      "            'thought': None,\n",
      "            'video_metadata': None}],\n",
      " 'role': 'model'}\n",
      "{'parts': [{'code_execution_result': None,\n",
      "            'executable_code': None,\n",
      "            'file_data': None,\n",
      "            'function_call': None,\n",
      "            'function_response': None,\n",
      "            'inline_data': None,\n",
      "            'text': '你需要什么工具去帮我查找这些信息？',\n",
      "            'thought': None,\n",
      "            'video_metadata': None}],\n",
      " 'role': 'user'}\n",
      "{'parts': [{'code_execution_result': None,\n",
      "            'executable_code': None,\n",
      "            'file_data': None,\n",
      "            'function_call': None,\n",
      "            'function_response': None,\n",
      "            'inline_data': None,\n",
      "            'text': '作为一个AI，我**没有**传统意义上的“工具”去实时上网搜索信息，比如我无法打开一个网页浏览器、登录微博、或者访问大麦网的App去实时查找最新的演出行程。\\n'\n",
      "                    '\\n'\n",
      "                    '我的“工具”是我自身的能力和所拥有的数据：\\n'\n",
      "                    '\\n'\n",
      "                    '1.  **我庞大的训练数据集：** '\n",
      "                    '我被训练时接触了海量的文本信息，这包含了截至我上次更新知识截止日期前，互联网上公开的大量信息，包括新闻、社交媒体内容、百科知识等。我能从这些数据中“回忆”或“检索”出与“鱼闪闪”相关的通用知识。\\n'\n",
      "                    '2.  **自然语言处理能力：** '\n",
      "                    '我能够理解您的问题（“鱼闪闪”、“最新演出行程”），并根据这些关键词在我现有的知识库中进行匹配和关联。\\n'\n",
      "                    '3.  **逻辑推理和知识整合能力：** '\n",
      "                    '我知道像网红歌手这样的公众人物，他们的最新行程通常会在哪些平台上发布（如社交媒体、票务网站），以及粉丝通常会在哪里讨论和分享这些信息。因此，我能为您提供**查找这些信息的有效途径和建议**，而不是替您实时查找。\\n'\n",
      "                    '\\n'\n",
      "                    '**总结来说，我没有独立的“工具”去“查”，我所做的就是：**\\n'\n",
      "                    '\\n'\n",
      "                    '*   **利用我已有的知识储备：** 告诉我通常这类信息会出现在哪里。\\n'\n",
      "                    '*   **为您提供“人”需要使用的工具和方法：** '\n",
      "                    '告诉您应该去微博、抖音、大麦网等平台进行**实时、人工的查询**。\\n'\n",
      "                    '\\n'\n",
      "                    '所以，我能为您提供的是**指引和策略**，帮助您知道去哪里使用**您自己的工具（如手机、电脑、浏览器、App等）**来找到最新的信息。',\n",
      "            'thought': None,\n",
      "            'video_metadata': None}],\n",
      " 'role': 'model'}\n"
     ]
    }
   ],
   "source": [
    "for message in chat.get_history():\n",
    "  pp(obj_to_dict(message))"
   ]
  }
 ],
 "metadata": {
  "kernelspec": {
   "display_name": "gemini",
   "language": "python",
   "name": "python3"
  },
  "language_info": {
   "codemirror_mode": {
    "name": "ipython",
    "version": 3
   },
   "file_extension": ".py",
   "mimetype": "text/x-python",
   "name": "python",
   "nbconvert_exporter": "python",
   "pygments_lexer": "ipython3",
   "version": "3.12.9"
  }
 },
 "nbformat": 4,
 "nbformat_minor": 2
}
