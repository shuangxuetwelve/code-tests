{
 "cells": [
  {
   "cell_type": "markdown",
   "metadata": {},
   "source": [
    "# Test Gemini Python SDK - Basic Usage\n",
    "\n",
    "This code example demonstrates the basic usage of Gemini without the multi-turn conversation.\n",
    "\n",
    "## Environment\n",
    "\n",
    "```sh\n",
    "pip install google-genai python-dotenv\n",
    "```"
   ]
  },
  {
   "cell_type": "code",
   "execution_count": 2,
   "metadata": {},
   "outputs": [],
   "source": [
    "import os\n",
    "\n",
    "from dotenv import load_dotenv\n",
    "load_dotenv()\n",
    "\n",
    "from google import genai\n",
    "\n",
    "client = genai.Client(api_key=os.getenv(\"GEMINI_API_KEY\"))"
   ]
  },
  {
   "cell_type": "code",
   "execution_count": 6,
   "metadata": {},
   "outputs": [
    {
     "name": "stdout",
     "output_type": "stream",
     "text": [
      "text response: 要查找网红歌手鱼闪闪的最新演出行程，最有效和最直接的方法通常是关注她的官方社交媒体账号和相关平台。以下是几个可以查找的渠道：\n",
      "\n",
      "1.  **微博 (Weibo)**：\n",
      "    *   **官方微博账号**：这是中国艺人、网红发布最新动态、行程、演出信息最重要的平台。搜索“鱼闪闪”并找到她的官方认证账号（通常有“V”或“蓝V”认证），关注后留意她发布的每条微博，特别是置顶微博、活动公告或行程预告。\n",
      "    *   **鱼闪闪粉丝团/超话**：在微博上，粉丝团和超话（超级话题）是粉丝们聚集和分享信息的地方。通常会有热心粉丝整理最新的行程信息。搜索“鱼闪闪粉丝团”或“鱼闪闪超话”。\n",
      "\n",
      "2.  **抖音 (Douyin) / 快手 (Kuaishou)**：\n",
      "    *   **官方账号**：如果鱼闪闪的主要活动是直播演出或短视频形式的线上活动，她很可能会在自己的抖音或快手官方账号上发布直播预告、线上活动信息。\n",
      "    *   **直播预告**：许多网红歌手的“演出”就是定期的直播，留意她的直播预告。\n",
      "\n",
      "3.  **其他可能的平台：**\n",
      "    *   **Bilibili (哔哩哔哩)**：如果她也在B站活跃，可能会在动态或直播预告中发布相关信息。\n",
      "    *   **微信公众号 (WeChat Official Account)**：有些艺人或其工作室会运营微信公众号，发布更详细的活动介绍或报名信息。\n",
      "    *   **官方工作室或经纪公司网站/微博**：如果她有签约公司，其公司网站或官方微博也可能会发布旗下艺人的行程安排。\n",
      "\n",
      "**查找建议：**\n",
      "\n",
      "*   **优先关注官方认证账号**：这是获取一手信息的最佳途径。\n",
      "*   **打开消息通知**：在关注她的社交媒体账号后，开启消息通知，以便在第一时间收到她的更新。\n",
      "*   **留意“置顶”内容**：重要公告和行程信息常常会被艺人置顶。\n",
      "*   **多平台交叉验证**：有些信息可能在不同平台有不同侧重，多方查证能确保信息的准确性。\n",
      "\n",
      "直接在这些平台上搜索“鱼闪闪”，并仔细查看她的最新动态和历史发布内容，是最快找到她演出行程的方法。\n"
     ]
    }
   ],
   "source": [
    "response = client.models.generate_content(\n",
    "  model=\"gemini-2.5-flash-preview-05-20\",\n",
    "  config=genai.types.GenerateContentConfig(\n",
    "    system_instruction=\"You are a helpful assistant.\"\n",
    "  ),\n",
    "  contents=\"鱼闪闪是中国的一位网红歌手，到哪里能够查找到她最新的演出行程？\"\n",
    ")\n",
    "\n",
    "print(\"text response:\", response.text)"
   ]
  }
 ],
 "metadata": {
  "kernelspec": {
   "display_name": "gemini",
   "language": "python",
   "name": "python3"
  },
  "language_info": {
   "codemirror_mode": {
    "name": "ipython",
    "version": 3
   },
   "file_extension": ".py",
   "mimetype": "text/x-python",
   "name": "python",
   "nbconvert_exporter": "python",
   "pygments_lexer": "ipython3",
   "version": "3.12.9"
  }
 },
 "nbformat": 4,
 "nbformat_minor": 2
}
